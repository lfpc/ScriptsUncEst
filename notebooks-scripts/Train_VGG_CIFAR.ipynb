{
 "cells": [
  {
   "cell_type": "markdown",
   "metadata": {
    "tags": []
   },
   "source": [
    "# Libs and pre-definitions"
   ]
  },
  {
   "cell_type": "code",
   "execution_count": 1,
   "metadata": {},
   "outputs": [],
   "source": [
    "DATA_PATH = r'/home/luis-felipe/Uncertainty_Estimation/data'\n",
    "#CORRUPTED_DATA_PATH = os.path.join(DATA_PATH,'corrupted')\n",
    "\n",
    "PATH_MODELS = r'/home/luis-felipe/Uncertainty_Estimation/torch_models'\n",
    "PATH_trainer = r'/home/luis-felipe/Uncertainty_Estimation/torch_models/trainer'"
   ]
  },
  {
   "cell_type": "markdown",
   "metadata": {
    "heading_collapsed": "true",
    "tags": []
   },
   "source": [
    "### Bibliotecas padrões python e utils pytorch"
   ]
  },
  {
   "cell_type": "code",
   "execution_count": 2,
   "metadata": {},
   "outputs": [],
   "source": [
    "import torch\n",
    "import numpy as np\n",
    "import pandas as pd\n",
    "import matplotlib\n",
    "from matplotlib import pyplot as plt\n",
    "import torchvision\n",
    "from torch import nn\n",
    "from torch.utils.data import DataLoader\n",
    "from torchvision import datasets\n",
    "import torchvision.transforms as transforms\n",
    "from torchvision.transforms import ToTensor, Lambda, Compose, Normalize\n",
    "from collections import defaultdict\n",
    "from torch.utils.data import random_split\n",
    "import copy\n",
    "import os"
   ]
  },
  {
   "cell_type": "code",
   "execution_count": 3,
   "metadata": {},
   "outputs": [
    {
     "name": "stdout",
     "output_type": "stream",
     "text": [
      "True\n"
     ]
    }
   ],
   "source": [
    "# Define o computador utilizado como cuda (gpu) se existir ou cpu caso contrário\n",
    "print(torch.cuda.is_available())\n",
    "dev = torch.device('cuda') if torch.cuda.is_available() else torch.device('cpu')"
   ]
  },
  {
   "cell_type": "markdown",
   "metadata": {
    "heading_collapsed": "true",
    "tags": []
   },
   "source": [
    "### Bibliotecas desenvolvidas\n",
    "\n",
    "https://github.com/lfpc/Uncertainty_Estimation"
   ]
  },
  {
   "cell_type": "code",
   "execution_count": 4,
   "metadata": {},
   "outputs": [],
   "source": [
    "import NN_models as models\n",
    "from NN_models import vgg\n",
    "from NN_models import wide_resnet\n",
    "import NN_utils as utils\n",
    "import NN_utils.train_and_eval as TE\n",
    "import cifar_data"
   ]
  },
  {
   "cell_type": "markdown",
   "metadata": {
    "tags": []
   },
   "source": [
    "# Train classifier"
   ]
  },
  {
   "cell_type": "code",
   "execution_count": 12,
   "metadata": {},
   "outputs": [],
   "source": [
    "loss_criterion = nn.NLLLoss()\n",
    "    \n",
    "    \n",
    "#risk_dict = {'selective_risk_mcp':  lambda x,label: unc_comp.selective_risk(x,label,unc_type = unc.MCP_unc)}"
   ]
  },
  {
   "cell_type": "code",
   "execution_count": 15,
   "metadata": {},
   "outputs": [
    {
     "name": "stdout",
     "output_type": "stream",
     "text": [
      "Files already downloaded and verified\n",
      "Files already downloaded and verified\n"
     ]
    }
   ],
   "source": [
    "MODEL_ARC = 'VGG_16'\n",
    "DATA = 'Cifar100'\n",
    "\n",
    "data = cifar_data.__dict__[DATA](data_dir = DATA_PATH)\n",
    "num_classes = data.n_classes\n",
    "model_class = models.__dict__[MODEL_ARC]\n",
    "\n",
    "model_path = os.path.join(PATH_MODELS,MODEL_ARC)\n",
    "weights_path = os.path.join(model_path,DATA)"
   ]
  },
  {
   "cell_type": "code",
   "execution_count": 17,
   "metadata": {
    "tags": []
   },
   "outputs": [
    {
     "data": {
      "image/png": "[encoded data removed]",
      "text/plain": [
       "<Figure size 504x360 with 1 Axes>"
      ]
     },
     "metadata": {
      "needs_background": "light"
     },
     "output_type": "display_data"
    },
    {
     "data": {
      "application/vnd.jupyter.widget-view+json": {
       "model_id": "e28ae08043144cfbae4b198142fbe623",
       "version_major": 2,
       "version_minor": 0
      },
      "text/plain": [
       "Acc_val (max): 71.57 (71.63) | Progress:: 100%|#########9| 199/200 [57:32<00:17, 17.24s/it]"
      ]
     },
     "metadata": {},
     "output_type": "display_data"
    },
    {
     "name": "stdout",
     "output_type": "stream",
     "text": [
      "Conjunto de treinamento: acc =  99.738\n",
      "Conjunto de teste: acc =  71.36\n",
      "Conjunto de teste: MAX acc =  71.63\n"
     ]
    }
   ],
   "source": [
    "for ens in range(4,8):\n",
    "    name = MODEL_ARC+'_'+str(num_classes)+'_ensemble_'+str(ens)\n",
    "    model = model_class(num_classes = data.n_classes,softmax = 'log',name = name).to(dev)\n",
    "    optimizer = torch.optim.SGD(model.parameters(), lr=0.1,momentum = 0.9,weight_decay = 5e-4,nesterov = True)\n",
    "    scheduler = torch.optim.lr_scheduler.StepLR(optimizer, 25, gamma=0.5)\n",
    "\n",
    "    model_trainer = TE.Trainer(model,optimizer,loss_criterion, None,data.test_dataloader,lr_scheduler = scheduler)\n",
    "    model_trainer.fit(data.train_dataloader,200, live_plot = True,save_checkpoint = True,PATH = weights_path)\n",
    "    \n",
    "    model.eval()\n",
    "    acc = TE.model_acc(model,data.train_dataloader)\n",
    "    print('Conjunto de treinamento: acc = ', acc)\n",
    "    acc = TE.model_acc(model,data.test_dataloader)\n",
    "    print('Conjunto de teste: acc = ', acc)\n",
    "    print('Conjunto de teste: MAX acc = ', max(model_trainer.hist_val.acc_list))"
   ]
  },
  {
   "cell_type": "code",
   "execution_count": 18,
   "metadata": {},
   "outputs": [
    {
     "name": "stdout",
     "output_type": "stream",
     "text": [
      "Files already downloaded and verified\n",
      "Files already downloaded and verified\n"
     ]
    }
   ],
   "source": [
    "DATA = 'Cifar10'\n",
    "\n",
    "data = cifar_data.__dict__[DATA](data_dir = DATA_PATH)\n",
    "num_classes = data.n_classes\n",
    "weights_path = os.path.join(model_path,DATA)"
   ]
  },
  {
   "cell_type": "code",
   "execution_count": 19,
   "metadata": {},
   "outputs": [
    {
     "data": {
      "image/png": "[encoded data removed]",
      "text/plain": [
       "<Figure size 504x360 with 1 Axes>"
      ]
     },
     "metadata": {
      "needs_background": "light"
     },
     "output_type": "display_data"
    },
    {
     "data": {
      "application/vnd.jupyter.widget-view+json": {
       "model_id": "b17e6e103c42437785988529ca5ed1cc",
       "version_major": 2,
       "version_minor": 0
      },
      "text/plain": [
       "Acc_val (max): 93.49 (93.73) | Progress:: 100%|#########9| 199/200 [57:38<00:17, 17.28s/it]"
      ]
     },
     "metadata": {},
     "output_type": "display_data"
    },
    {
     "name": "stdout",
     "output_type": "stream",
     "text": [
      "Conjunto de treinamento: acc =  99.984\n",
      "Conjunto de teste: acc =  93.68\n",
      "Conjunto de teste: MAX acc =  93.73\n"
     ]
    }
   ],
   "source": [
    "for ens in range(4,8):\n",
    "    name = MODEL_ARC+'_'+str(num_classes)+'_ensemble_'+str(ens)\n",
    "    model = model_class(num_classes = data.n_classes,softmax = 'log',name = name).to(dev)\n",
    "    optimizer = torch.optim.SGD(model.parameters(), lr=0.1,momentum = 0.9,weight_decay = 5e-4,nesterov = True)\n",
    "    scheduler = torch.optim.lr_scheduler.StepLR(optimizer, 25, gamma=0.5)\n",
    "\n",
    "    model_trainer = TE.Trainer(model,optimizer,loss_criterion, None,data.test_dataloader,lr_scheduler = scheduler)\n",
    "    model_trainer.fit(data.train_dataloader,200, live_plot = True,save_checkpoint = True,PATH = weights_path)\n",
    "    \n",
    "    model.eval()\n",
    "    acc = TE.model_acc(model,data.train_dataloader)\n",
    "    print('Conjunto de treinamento: acc = ', acc)\n",
    "    acc = TE.model_acc(model,data.test_dataloader)\n",
    "    print('Conjunto de teste: acc = ', acc)\n",
    "    print('Conjunto de teste: MAX acc = ', max(model_trainer.hist_val.acc_list))"
   ]
  },
  {
   "cell_type": "code",
   "execution_count": null,
   "metadata": {},
   "outputs": [],
   "source": []
  }
 ],
 "metadata": {
  "kernelspec": {
   "display_name": "Python 3",
   "language": "python",
   "name": "python3"
  },
  "language_info": {
   "codemirror_mode": {
    "name": "ipython",
    "version": 3
   },
   "file_extension": ".py",
   "mimetype": "text/x-python",
   "name": "python",
   "nbconvert_exporter": "python",
   "pygments_lexer": "ipython3",
   "version": "3.8.8"
  }
 },
 "nbformat": 4,
 "nbformat_minor": 4
}

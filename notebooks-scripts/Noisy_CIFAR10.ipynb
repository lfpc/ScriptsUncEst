{
 "cells": [
  {
   "cell_type": "markdown",
   "metadata": {},
   "source": [
    "# Libs and pre-definitions"
   ]
  },
  {
   "cell_type": "markdown",
   "metadata": {},
   "source": [
    "### Bibliotecas padrões python e utils pytorch"
   ]
  },
  {
   "cell_type": "code",
   "execution_count": 9,
   "metadata": {},
   "outputs": [
    {
     "data": {
      "text/plain": [
       "torch.Size([2, 1, 3])"
      ]
     },
     "execution_count": 9,
     "metadata": {},
     "output_type": "execute_result"
    }
   ],
   "source": [
    "import torch\n",
    "(torch.tensor([[[1,2,3]],[[1,2,3]]]).size())"
   ]
  },
  {
   "cell_type": "code",
   "execution_count": 5,
   "metadata": {},
   "outputs": [
    {
     "name": "stdout",
     "output_type": "stream",
     "text": [
      "Files already downloaded and verified\n"
     ]
    }
   ],
   "source": [
    "import torch\n",
    "from torchvision import datasets\n",
    "import torchvision.transforms as transforms\n",
    "transforms_train = transforms.Compose([\n",
    "                    transforms.ToTensor(),\n",
    "                    transforms.RandomCrop(32, padding=4),\n",
    "                    transforms.RandomHorizontalFlip(),\n",
    "                    transforms.RandomRotation(15),\n",
    "                    transforms.Normalize((0.4914, 0.4822, 0.4465), (0.2023, 0.1994, 0.2010))])\n",
    "training_data = datasets.CIFAR10(\n",
    "            root=\"data\",\n",
    "            train=True,\n",
    "            download=True,\n",
    "            transform=transforms_train)"
   ]
  },
  {
   "cell_type": "code",
   "execution_count": 1,
   "metadata": {},
   "outputs": [],
   "source": [
    "import torch\n",
    "import numpy as np\n",
    "import pandas as pd\n",
    "import matplotlib\n",
    "from matplotlib import pyplot as plt\n",
    "import torchvision\n",
    "from torch import nn\n",
    "from torch.utils.data import DataLoader, Subset\n",
    "from torchvision import datasets\n",
    "import torchvision.transforms as transforms\n",
    "from torchvision.transforms import ToTensor, Lambda, Compose, Normalize\n",
    "from collections import defaultdict\n",
    "from torch.utils.data import random_split\n",
    "import copy\n",
    "from random import randrange"
   ]
  },
  {
   "cell_type": "code",
   "execution_count": 2,
   "metadata": {},
   "outputs": [
    {
     "name": "stdout",
     "output_type": "stream",
     "text": [
      "True\n"
     ]
    }
   ],
   "source": [
    "# Define o computador utilizado como cuda (gpu) se existir ou cpu caso contrário\n",
    "print(torch.cuda.is_available())\n",
    "dev = torch.device('cuda') if torch.cuda.is_available() else torch.device('cpu')"
   ]
  },
  {
   "cell_type": "markdown",
   "metadata": {},
   "source": [
    "### Bibliotecas desenvolvidas\n",
    "\n",
    "https://github.com/lfpc/Uncertainty_Estimation"
   ]
  },
  {
   "cell_type": "code",
   "execution_count": 3,
   "metadata": {},
   "outputs": [],
   "source": [
    "import NN_models as models\n",
    "from NN_models import vgg\n",
    "import uncertainty.comparison as unc_comp\n",
    "import uncertainty.quantifications as unc\n",
    "import uncertainty.losses as losses\n",
    "import uncertainty.train_and_eval_with_g as TE_g\n",
    "import NN_utils as utils\n",
    "import NN_utils.train_and_eval as TE\n",
    "import cifar_data as cifar"
   ]
  },
  {
   "cell_type": "markdown",
   "metadata": {},
   "source": [
    "## Data download and transforms"
   ]
  },
  {
   "cell_type": "code",
   "execution_count": 4,
   "metadata": {},
   "outputs": [],
   "source": [
    "PATH = r'/home/luis-felipe/Uncertainty_Estimation/torch_models'\n",
    "PATH_trainer = r'/home/luis-felipe/Uncertainty_Estimation/torch_models/trainer'"
   ]
  },
  {
   "cell_type": "code",
   "execution_count": 5,
   "metadata": {},
   "outputs": [
    {
     "name": "stdout",
     "output_type": "stream",
     "text": [
      "Files already downloaded and verified\n",
      "Files already downloaded and verified\n",
      "Files already downloaded and verified\n",
      "Files already downloaded and verified\n"
     ]
    }
   ],
   "source": [
    "\n",
    "data_cifar = cifar.Cifar_10_data()\n",
    "full_train_dataloader = copy.deepcopy(data_cifar.train_dataloader)\n",
    "\n",
    "data_cifar = cifar.Noisy_CIFAR_10(noise_size = 0.2,noisy_val = True)"
   ]
  },
  {
   "cell_type": "markdown",
   "metadata": {},
   "source": [
    "# Train classifier"
   ]
  },
  {
   "cell_type": "code",
   "execution_count": 6,
   "metadata": {},
   "outputs": [],
   "source": [
    "loss_criterion = nn.NLLLoss()\n",
    "risk_dict = None#{'selective_risk_mcp':  lambda x,label: unc_comp.selective_risk(x,label,unc_type = unc.MCP_unc)}"
   ]
  },
  {
   "cell_type": "code",
   "execution_count": null,
   "metadata": {},
   "outputs": [],
   "source": []
  },
  {
   "cell_type": "code",
   "execution_count": null,
   "metadata": {},
   "outputs": [
    {
     "data": {
      "image/png": "[encoded data removed]",
      "text/plain": [
       "<Figure size 504x360 with 1 Axes>"
      ]
     },
     "metadata": {
      "needs_background": "light"
     },
     "output_type": "display_data"
    },
    {
     "data": {
      "application/vnd.jupyter.widget-view+json": {
       "model_id": "29e18dc7c90947118940c9622f9d3d53",
       "version_major": 2,
       "version_minor": 0
      },
      "text/plain": [
       "HBox(children=(HTML(value='Loss: 0.0685 | Acc_train: 0.98 | Acc_val: 0.66 | Progress::  53%'), FloatProgress(v…"
      ]
     },
     "metadata": {},
     "output_type": "display_data"
    },
    {
     "name": "stdout",
     "output_type": "stream",
     "text": [
      "\n"
     ]
    }
   ],
   "source": [
    "model_noisy = models.vgg.VGG_16(10).to(dev)\n",
    "optimizer = torch.optim.SGD(model_noisy.parameters(), lr=0.1,momentum = 0.9,weight_decay = 5e-4, nesterov = True)\n",
    "\n",
    "model_trainer_noisy = TE.Trainer(model_noisy,optimizer,loss_criterion, data_cifar.train_dataloader,data_cifar.validation_dataloader,c=0.8,update_lr = (25,2),risk_dict = risk_dict)\n",
    "model_trainer_noisy.fit(data_cifar.train_dataloader,500)\n",
    "#model_trainer.save_all(PATH, PATH_trainer)\n",
    "\n",
    "acc = TE.model_acc(model_noisy,full_train_dataloader)\n",
    "print('Conjunto de treinamento: acc = ', acc)\n",
    "acc = TE.model_acc(model_noisy,data_cifar.get_clean_subset())\n",
    "print('Conjunto de treinamento só limpo: acc = ', acc)\n",
    "acc = TE.model_acc(model_noisy,data_cifar.train_dataloader)\n",
    "print('Conjunto de treinamento sujo: acc = ', acc)\n",
    "acc = TE.model_acc(model_noisy,data_cifar.test_dataloader)\n",
    "print('Conjunto de teste: acc = ', acc)"
   ]
  },
  {
   "cell_type": "code",
   "execution_count": null,
   "metadata": {},
   "outputs": [],
   "source": [
    "model_clean = models.vgg.VGG_16(10).to(dev)\n",
    "optimizer = torch.optim.SGD(model_clean.parameters(), lr=0.1,momentum = 0.9,weight_decay = 5e-4, nesterov = True)\n",
    "\n",
    "model_trainer_clean = TE.Trainer(model_clean,optimizer,loss_criterion, data_cifar.train_dataloader,data_cifar.validation_dataloader,c=0.8,update_lr = (25,2),risk_dict = risk_dict)\n",
    "model_trainer_clean.fit(data_cifar.get_clean_subset(),500)\n",
    "#model_trainer.save_all(PATH, PATH_trainer)\n",
    "\n",
    "acc = TE.model_acc(model_clean,full_train_dataloader)\n",
    "print('Conjunto de treinamento: acc = ', acc)\n",
    "acc = TE.model_acc(model_clean,data_cifar.get_clean_subset())\n",
    "print('Conjunto de treinamento só limpo: acc = ', acc)\n",
    "acc = TE.model_acc(model_clean,data_cifar.train_dataloader)\n",
    "print('Conjunto de treinamento sujo: acc = ', acc)\n",
    "acc = TE.model_acc(model_clean,data_cifar.test_dataloader)\n",
    "print('Conjunto de teste: acc = ', acc)"
   ]
  },
  {
   "cell_type": "code",
   "execution_count": null,
   "metadata": {},
   "outputs": [],
   "source": [
    "model = models.vgg.VGG_16(10).to(dev)\n",
    "optimizer = torch.optim.SGD(model.parameters(), lr=0.1,momentum = 0.9,weight_decay = 5e-4, nesterov = True)\n",
    "\n",
    "model_trainer = TE.Trainer(model,optimizer,loss_criterion, data_cifar.train_dataloader,data_cifar.validation_dataloader,c=0.8,update_lr = (25,2),risk_dict = risk_dict)\n",
    "model_trainer.fit(train_dataloader,500)\n",
    "#model_trainer.save_all(PATH, PATH_trainer)\n",
    "\n",
    "acc = TE.model_acc(model,full_train_dataloader)\n",
    "print('Conjunto de treinamento: acc = ', acc)\n",
    "acc = TE.model_acc(model,data_cifar.get_clean_subset())\n",
    "print('Conjunto de treinamento só limpo: acc = ', acc)\n",
    "acc = TE.model_acc(model,data_cifar.train_dataloader)\n",
    "print('Conjunto de treinamento sujo: acc = ', acc)\n",
    "acc = TE.model_acc(model,data_cifar.test_dataloader)\n",
    "print('Conjunto de teste: acc = ', acc)"
   ]
  },
  {
   "cell_type": "code",
   "execution_count": null,
   "metadata": {},
   "outputs": [],
   "source": [
    "len(train_dataloader.dataset)"
   ]
  },
  {
   "cell_type": "code",
   "execution_count": null,
   "metadata": {},
   "outputs": [],
   "source": [
    "len(clean_data.dataset)"
   ]
  },
  {
   "cell_type": "code",
   "execution_count": null,
   "metadata": {},
   "outputs": [],
   "source": [
    "len(noisy_data.dataset)"
   ]
  },
  {
   "cell_type": "code",
   "execution_count": null,
   "metadata": {},
   "outputs": [],
   "source": [
    "isinstance(test_dataloader.dataset,torch.utils.data.Dataset)"
   ]
  },
  {
   "cell_type": "code",
   "execution_count": null,
   "metadata": {},
   "outputs": [],
   "source": []
  }
 ],
 "metadata": {
  "kernelspec": {
   "display_name": "Python 3",
   "language": "python",
   "name": "python3"
  },
  "language_info": {
   "codemirror_mode": {
    "name": "ipython",
    "version": 3
   },
   "file_extension": ".py",
   "mimetype": "text/x-python",
   "name": "python",
   "nbconvert_exporter": "python",
   "pygments_lexer": "ipython3",
   "version": "3.8.5"
  }
 },
 "nbformat": 4,
 "nbformat_minor": 4
}

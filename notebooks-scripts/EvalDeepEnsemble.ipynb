{
 "cells": [
  {
   "cell_type": "code",
   "execution_count": 1,
   "metadata": {},
   "outputs": [],
   "source": [
    "DATA_PATH = r'/home/luis-felipe/Uncertainty_Estimation/data'\n",
    "#CORRUPTED_DATA_PATH = os.path.join(DATA_PATH,'corrupted')\n",
    "\n",
    "PATH_MODELS = r'/home/luis-felipe/Uncertainty_Estimation/torch_models'\n",
    "PATH_trainer = r'/home/luis-felipe/Uncertainty_Estimation/torch_models/trainer'"
   ]
  },
  {
   "cell_type": "code",
   "execution_count": 2,
   "metadata": {},
   "outputs": [],
   "source": [
    "import os\n",
    "import torch\n",
    "from torch import nn\n",
    "import numpy as np\n",
    "import pandas as pd\n",
    "import matplotlib\n",
    "from matplotlib import pyplot as plt\n",
    "from collections import defaultdict\n",
    "import copy"
   ]
  },
  {
   "cell_type": "code",
   "execution_count": 3,
   "metadata": {},
   "outputs": [
    {
     "name": "stdout",
     "output_type": "stream",
     "text": [
      "True\n"
     ]
    }
   ],
   "source": [
    "# Define o computador utilizado como cuda (gpu) se existir ou cpu caso contrário\n",
    "print(torch.cuda.is_available())\n",
    "dev = torch.device('cuda') if torch.cuda.is_available() else torch.device('cpu')"
   ]
  },
  {
   "cell_type": "code",
   "execution_count": 4,
   "metadata": {},
   "outputs": [],
   "source": [
    "import NN_models as models\n",
    "import NN_utils as utils\n",
    "import NN_utils.train_and_eval as TE\n",
    "import cifar_data"
   ]
  },
  {
   "cell_type": "code",
   "execution_count": 5,
   "metadata": {},
   "outputs": [],
   "source": [
    "from uncertainty.MonteCarlo_Dropout import MonteCarloDropout\n",
    "from uncertainty.ensemble import Ensemble\n",
    "import uncertainty.metrics as metrics\n",
    "from uncertainty import TestAugmentation as _TTA\n",
    "from uncertainty.MCBN import MonteCarloBatchNormalization as MCBN"
   ]
  },
  {
   "cell_type": "markdown",
   "metadata": {},
   "source": [
    "## um"
   ]
  },
  {
   "cell_type": "code",
   "execution_count": 6,
   "metadata": {},
   "outputs": [
    {
     "name": "stdout",
     "output_type": "stream",
     "text": [
      "Files already downloaded and verified\n",
      "Files already downloaded and verified\n"
     ]
    }
   ],
   "source": [
    "MODEL_ARC = 'VGG_16'\n",
    "DATA = 'Cifar10'\n",
    "NAME = MODEL_ARC +'_' + DATA \n",
    "\n",
    "data = cifar_data.__dict__[DATA](data_dir = DATA_PATH)\n",
    "model_class = models.__dict__[MODEL_ARC]\n",
    "\n",
    "model_path = os.path.join(PATH_MODELS,MODEL_ARC)\n",
    "weights_path = os.path.join(model_path,DATA)"
   ]
  },
  {
   "cell_type": "code",
   "execution_count": 7,
   "metadata": {},
   "outputs": [],
   "source": [
    "files = [f for f in os.listdir(weights_path) if os.path.isfile(os.path.join(weights_path, f)) and f.endswith(\".pt\")]\n",
    "files = sorted(files)"
   ]
  },
  {
   "cell_type": "code",
   "execution_count": 8,
   "metadata": {},
   "outputs": [
    {
     "name": "stdout",
     "output_type": "stream",
     "text": [
      "VGG16_10_ensemble_0.pt\n",
      "VGG16_10_ensemble_1.pt\n",
      "VGG16_10_ensemble_2.pt\n",
      "VGG16_10_ensemble_3.pt\n",
      "VGG_16_10_ensemble_4_checkpoint.pt\n",
      "VGG_16_10_ensemble_5_checkpoint.pt\n",
      "VGG_16_10_ensemble_6_checkpoint.pt\n",
      "VGG_16_10_ensemble_7_checkpoint.pt\n"
     ]
    }
   ],
   "source": [
    "models_dict = defaultdict()\n",
    "for s in files:\n",
    "    print(s)\n",
    "    models_dict[s.replace('.pt','')] = model_class(num_classes = data.n_classes).to(dev)\n",
    "    state_dict = torch.load(os.path.join(weights_path,s))\n",
    "    models_dict[s.replace('.pt','')].load_state_dict(state_dict)\n",
    "    models_dict[s.replace('.pt','')].eval()\n",
    "    models_dict[s.replace('.pt','')].softmax = True"
   ]
  },
  {
   "cell_type": "code",
   "execution_count": 9,
   "metadata": {},
   "outputs": [
    {
     "name": "stdout",
     "output_type": "stream",
     "text": [
      "VGG16_10_ensemble_0\n"
     ]
    },
    {
     "name": "stderr",
     "output_type": "stream",
     "text": [
      "/home/luis-felipe/anaconda3/lib/python3.8/site-packages/torch/nn/functional.py:718: UserWarning: Named tensors and all their associated APIs are an experimental feature and subject to change. Please do not use them for anything important until they are released as stable. (Triggered internally at  /pytorch/c10/core/TensorImpl.h:1156.)\n",
      "  return torch.max_pool2d(input, kernel_size, stride, padding, dilation, ceil_mode)\n"
     ]
    },
    {
     "name": "stdout",
     "output_type": "stream",
     "text": [
      "Acurácia = 93.36\n",
      "VGG16_10_ensemble_1\n",
      "Acurácia = 93.26\n",
      "VGG16_10_ensemble_2\n"
     ]
    },
    {
     "ename": "KeyboardInterrupt",
     "evalue": "",
     "output_type": "error",
     "traceback": [
      "\u001b[0;31m---------------------------------------------------------------------------\u001b[0m",
      "\u001b[0;31mKeyboardInterrupt\u001b[0m                         Traceback (most recent call last)",
      "\u001b[0;32m<ipython-input-9-f0dc48d9aab1>\u001b[0m in \u001b[0;36m<module>\u001b[0;34m\u001b[0m\n\u001b[1;32m      3\u001b[0m \u001b[0;32mfor\u001b[0m \u001b[0mn\u001b[0m\u001b[0;34m,\u001b[0m\u001b[0mm\u001b[0m \u001b[0;32min\u001b[0m \u001b[0mmodels_dict\u001b[0m\u001b[0;34m.\u001b[0m\u001b[0mitems\u001b[0m\u001b[0;34m(\u001b[0m\u001b[0;34m)\u001b[0m\u001b[0;34m:\u001b[0m\u001b[0;34m\u001b[0m\u001b[0;34m\u001b[0m\u001b[0m\n\u001b[1;32m      4\u001b[0m     \u001b[0mprint\u001b[0m\u001b[0;34m(\u001b[0m\u001b[0mn\u001b[0m\u001b[0;34m)\u001b[0m\u001b[0;34m\u001b[0m\u001b[0;34m\u001b[0m\u001b[0m\n\u001b[0;32m----> 5\u001b[0;31m     \u001b[0macc\u001b[0m \u001b[0;34m=\u001b[0m \u001b[0mTE\u001b[0m\u001b[0;34m.\u001b[0m\u001b[0mmodel_acc\u001b[0m\u001b[0;34m(\u001b[0m\u001b[0mm\u001b[0m\u001b[0;34m,\u001b[0m\u001b[0mdata\u001b[0m\u001b[0;34m.\u001b[0m\u001b[0mtest_dataloader\u001b[0m\u001b[0;34m)\u001b[0m\u001b[0;34m\u001b[0m\u001b[0;34m\u001b[0m\u001b[0m\n\u001b[0m\u001b[1;32m      6\u001b[0m     \u001b[0mprint\u001b[0m\u001b[0;34m(\u001b[0m\u001b[0;34mf'Acurácia = {acc}'\u001b[0m\u001b[0;34m)\u001b[0m\u001b[0;34m\u001b[0m\u001b[0;34m\u001b[0m\u001b[0m\n\u001b[1;32m      7\u001b[0m     \u001b[0;32mif\u001b[0m \u001b[0mMAIN_MODEL_AS_MAX_ACC\u001b[0m \u001b[0;32mand\u001b[0m \u001b[0macc\u001b[0m \u001b[0;34m>\u001b[0m \u001b[0mmax_acc\u001b[0m\u001b[0;34m:\u001b[0m\u001b[0;34m\u001b[0m\u001b[0;34m\u001b[0m\u001b[0m\n",
      "\u001b[0;32m~/anaconda3/lib/python3.8/site-packages/NN_utils/train_and_eval.py\u001b[0m in \u001b[0;36mmodel_acc\u001b[0;34m(model, data, set_eval)\u001b[0m\n\u001b[1;32m     78\u001b[0m             \u001b[0moutput\u001b[0m \u001b[0;34m=\u001b[0m \u001b[0mmodel\u001b[0m\u001b[0;34m(\u001b[0m\u001b[0mimage\u001b[0m\u001b[0;34m)\u001b[0m\u001b[0;34m\u001b[0m\u001b[0;34m\u001b[0m\u001b[0m\n\u001b[1;32m     79\u001b[0m             \u001b[0mtotal\u001b[0m \u001b[0;34m+=\u001b[0m \u001b[0mlabel\u001b[0m\u001b[0;34m.\u001b[0m\u001b[0msize\u001b[0m\u001b[0;34m(\u001b[0m\u001b[0;36m0\u001b[0m\u001b[0;34m)\u001b[0m\u001b[0;34m\u001b[0m\u001b[0;34m\u001b[0m\u001b[0m\n\u001b[0;32m---> 80\u001b[0;31m             \u001b[0mcorrect\u001b[0m \u001b[0;34m+=\u001b[0m \u001b[0mcorrect_total\u001b[0m\u001b[0;34m(\u001b[0m\u001b[0moutput\u001b[0m\u001b[0;34m,\u001b[0m\u001b[0mlabel\u001b[0m\u001b[0;34m)\u001b[0m\u001b[0;34m\u001b[0m\u001b[0;34m\u001b[0m\u001b[0m\n\u001b[0m\u001b[1;32m     81\u001b[0m     \u001b[0;32mreturn\u001b[0m \u001b[0;34m(\u001b[0m\u001b[0mcorrect\u001b[0m\u001b[0;34m*\u001b[0m\u001b[0;36m100\u001b[0m\u001b[0;34m/\u001b[0m\u001b[0mtotal\u001b[0m\u001b[0;34m)\u001b[0m\u001b[0;34m\u001b[0m\u001b[0;34m\u001b[0m\u001b[0m\n\u001b[1;32m     82\u001b[0m \u001b[0;34m\u001b[0m\u001b[0m\n",
      "\u001b[0;32m~/anaconda3/lib/python3.8/site-packages/NN_utils/train_and_eval.py\u001b[0m in \u001b[0;36mcorrect_total\u001b[0;34m(y_pred, y_true)\u001b[0m\n\u001b[1;32m     50\u001b[0m     \u001b[0;34m'''Returns the number of correct predictions in a batch where dk_mask=0'''\u001b[0m\u001b[0;34m\u001b[0m\u001b[0;34m\u001b[0m\u001b[0m\n\u001b[1;32m     51\u001b[0m     \u001b[0mcorrect\u001b[0m \u001b[0;34m=\u001b[0m \u001b[0mcorrect_class\u001b[0m\u001b[0;34m(\u001b[0m\u001b[0my_pred\u001b[0m\u001b[0;34m,\u001b[0m\u001b[0my_true\u001b[0m\u001b[0;34m)\u001b[0m\u001b[0;34m\u001b[0m\u001b[0;34m\u001b[0m\u001b[0m\n\u001b[0;32m---> 52\u001b[0;31m     \u001b[0mcorrect_total\u001b[0m \u001b[0;34m=\u001b[0m \u001b[0mtorch\u001b[0m\u001b[0;34m.\u001b[0m\u001b[0msum\u001b[0m\u001b[0;34m(\u001b[0m\u001b[0mcorrect\u001b[0m\u001b[0;34m)\u001b[0m\u001b[0;34m.\u001b[0m\u001b[0mitem\u001b[0m\u001b[0;34m(\u001b[0m\u001b[0;34m)\u001b[0m\u001b[0;34m\u001b[0m\u001b[0;34m\u001b[0m\u001b[0m\n\u001b[0m\u001b[1;32m     53\u001b[0m     \u001b[0;32mreturn\u001b[0m \u001b[0mcorrect_total\u001b[0m\u001b[0;34m\u001b[0m\u001b[0;34m\u001b[0m\u001b[0m\n\u001b[1;32m     54\u001b[0m \u001b[0;34m\u001b[0m\u001b[0m\n",
      "\u001b[0;31mKeyboardInterrupt\u001b[0m: "
     ]
    }
   ],
   "source": [
    "MAIN_MODEL_AS_MAX_ACC = 0\n",
    "max_acc = 0\n",
    "for n,m in models_dict.items():\n",
    "    print(n)\n",
    "    acc = TE.model_acc(m,data.test_dataloader)\n",
    "    print(f'Acurácia = {acc}')\n",
    "    if MAIN_MODEL_AS_MAX_ACC and acc > max_acc:\n",
    "        main_model = m\n",
    "        max_acc = acc\n",
    "else:\n",
    "    main_model = models_dict[files[1].replace('.pt','')]"
   ]
  },
  {
   "cell_type": "code",
   "execution_count": null,
   "metadata": {},
   "outputs": [],
   "source": [
    "model = Ensemble(models_dict).to(dev)\n",
    "print(f'Ensemble Total Accuracy: {TE.model_acc(model,data.test_dataloader)}')"
   ]
  },
  {
   "cell_type": "code",
   "execution_count": null,
   "metadata": {},
   "outputs": [],
   "source": [
    "RC = metrics.selective_metrics(model,data.test_dataloader, c_list = np.arange(0.05,1.05,0.05))\n",
    "RC.plot_RC(aurc = True)"
   ]
  },
  {
   "cell_type": "code",
   "execution_count": null,
   "metadata": {},
   "outputs": [],
   "source": [
    "RC.correlation()"
   ]
  },
  {
   "cell_type": "code",
   "execution_count": null,
   "metadata": {},
   "outputs": [],
   "source": [
    "plt.plot(RC.d_uncs['MCP'].cpu().numpy(),RC.d_uncs['MI'].cpu().numpy(),'o')"
   ]
  },
  {
   "cell_type": "markdown",
   "metadata": {
    "heading_collapsed": "true",
    "tags": []
   },
   "source": [
    "## todos"
   ]
  },
  {
   "cell_type": "code",
   "execution_count": null,
   "metadata": {
    "tags": []
   },
   "outputs": [],
   "source": [
    "for N_ENS in range(1,8):\n",
    "    model = Ensemble(utils.slice_dict(models_dict,range(N_ENS))).to(dev)\n",
    "    \n",
    "    TE.model_acc(model,data.test_dataloader, set_eval = True)\n",
    "    RC = metrics.selective_metrics(model,data.test_dataloader, c_list = np.arange(0.05,1.05,0.05))\n",
    "    RC.plot_RC(aurc = True)\n",
    "    plt.title(f'M = {N_ENS}')\n",
    "    plt.show()\n"
   ]
  },
  {
   "cell_type": "markdown",
   "metadata": {
    "tags": []
   },
   "source": [
    "## todos2"
   ]
  },
  {
   "cell_type": "code",
   "execution_count": null,
   "metadata": {},
   "outputs": [],
   "source": [
    "uncs = ['MCP']#, 'MI']\n",
    "plt.figure(figsize=RC.FIGSIZE, dpi=80)\n",
    "for N_ENS in range(1,8):\n",
    "    model = Ensemble(utils.slice_dict(models_dict,range(N_ENS))).to(dev)\n",
    "    TE.model_acc(model,data.test_dataloader, set_eval = True)\n",
    "    RC = metrics.selective_metrics(model,data.test_dataloader, c_list = np.arange(0.05,1.05,0.05))\n",
    "    d_uncs_ = copy.copy(RC.d_uncs)\n",
    "    RC.d_uncs = utils.slice_dict(d_uncs_,uncs)\n",
    "    risks = RC.RC_curves()\n",
    "    for name,risk in risks.items():\n",
    "        label = N_ENS\n",
    "        plt.plot(RC.c_list,risk, label = label, linewidth = RC.LINEWIDTH,linestyle = next(RC.linecycler))\n",
    "    \n",
    "#plt.title(f'M = {N_ENS}')\n",
    "plt.grid()\n",
    "plt.legend()\n",
    "plt.show()"
   ]
  },
  {
   "cell_type": "code",
   "execution_count": null,
   "metadata": {},
   "outputs": [],
   "source": [
    "uncs = ['MI']#, 'MI']\n",
    "plt.figure(figsize=RC.FIGSIZE, dpi=80)\n",
    "for N_ENS in range(1,8):\n",
    "    model = Ensemble(utils.slice_dict(models_dict,range(N_ENS))).to(dev)\n",
    "    TE.model_acc(model,data.test_dataloader, set_eval = True)\n",
    "    RC = metrics.selective_metrics(model,data.test_dataloader, c_list = np.arange(0.05,1.05,0.05))\n",
    "    d_uncs_ = copy.copy(RC.d_uncs)\n",
    "    RC.d_uncs = utils.slice_dict(d_uncs_,uncs)\n",
    "    risks = RC.RC_curves()\n",
    "    for name,risk in risks.items():\n",
    "        label = N_ENS\n",
    "        plt.plot(RC.c_list,risk, label = label, linewidth = RC.LINEWIDTH,linestyle = next(RC.linecycler))\n",
    "    \n",
    "#plt.title(f'M = {N_ENS}')\n",
    "plt.grid()\n",
    "plt.legend()\n",
    "plt.show()"
   ]
  },
  {
   "cell_type": "code",
   "execution_count": null,
   "metadata": {},
   "outputs": [],
   "source": []
  }
 ],
 "metadata": {
  "kernelspec": {
   "display_name": "Python 3",
   "language": "python",
   "name": "python3"
  },
  "language_info": {
   "codemirror_mode": {
    "name": "ipython",
    "version": 3
   },
   "file_extension": ".py",
   "mimetype": "text/x-python",
   "name": "python",
   "nbconvert_exporter": "python",
   "pygments_lexer": "ipython3",
   "version": "3.8.8"
  }
 },
 "nbformat": 4,
 "nbformat_minor": 4
}

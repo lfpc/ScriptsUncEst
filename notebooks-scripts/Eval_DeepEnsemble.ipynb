{
 "cells": [
  {
   "cell_type": "markdown",
   "id": "1fc22576-5820-4a9d-8331-2022de451b0e",
   "metadata": {
    "tags": []
   },
   "source": [
    "# Libs and pre-definitions"
   ]
  },
  {
   "cell_type": "code",
   "execution_count": 1,
   "id": "6c22a616-cf56-40b9-ac29-5fc2bd50d557",
   "metadata": {},
   "outputs": [],
   "source": [
    "import os\n",
    "REPOSITORY_PATH = r'/home/luis-felipe/UncEst'\n",
    "DATA_PATH = os.path.join(REPOSITORY_PATH,'data')\n",
    "#CORRUPTED_DATA_PATH = os.path.join(DATA_PATH,'corrupted')\n",
    "\n",
    "PATH_MODELS = os.path.join(REPOSITORY_PATH,'torch_models')\n",
    "PATH_TRAINER = os.path.join(PATH_MODELS,'trainer')\n",
    "\n",
    "PATH_FIGS = os.path.join(REPOSITORY_PATH,'figs','EvalDeepEnsemble')"
   ]
  },
  {
   "cell_type": "markdown",
   "id": "57f7101e-0263-42e0-b290-03de36165ad4",
   "metadata": {
    "tags": []
   },
   "source": [
    "### Bibliotecas padrões python e utils pytorch"
   ]
  },
  {
   "cell_type": "code",
   "execution_count": 2,
   "id": "fe7e681b-161b-4c1b-b471-13545dce356d",
   "metadata": {},
   "outputs": [],
   "source": [
    "import torch\n",
    "import numpy as np\n",
    "import pandas as pd\n",
    "import matplotlib\n",
    "from matplotlib import pyplot as plt\n",
    "from collections import defaultdict"
   ]
  },
  {
   "cell_type": "code",
   "execution_count": 4,
   "id": "4c476911-a1b3-4c63-8cf6-cfd052f8763f",
   "metadata": {
    "tags": []
   },
   "outputs": [
    {
     "name": "stdout",
     "output_type": "stream",
     "text": [
      "True\n"
     ]
    }
   ],
   "source": [
    "# Define o computador utilizado como cuda (gpu) se existir ou cpu caso contrário\n",
    "print(torch.cuda.is_available())\n",
    "dev = torch.device('cuda') if torch.cuda.is_available() else torch.device('cpu')"
   ]
  },
  {
   "cell_type": "markdown",
   "id": "4e89727b-1d1e-4bb5-8ff9-e6101e9ee724",
   "metadata": {
    "tags": []
   },
   "source": [
    "### Bibliotecas desenvolvidas\n",
    "\n",
    "https://github.com/lfpc/Uncertainty_Estimation"
   ]
  },
  {
   "cell_type": "code",
   "execution_count": 5,
   "id": "d8edd47e-4c11-431e-ac71-789e1340f377",
   "metadata": {
    "tags": []
   },
   "outputs": [],
   "source": [
    "import NN_models as models\n",
    "import NN_utils as utils\n",
    "import NN_utils.train_and_eval as TE\n",
    "import torch_data"
   ]
  },
  {
   "cell_type": "code",
   "execution_count": 1,
   "id": "2ddd3b91-2ce1-42ed-b5db-153f33cba5bf",
   "metadata": {},
   "outputs": [
    {
     "ename": "ImportError",
     "evalue": "cannot import name 'DeepEnsemble' from 'uncertainty.ensemble' (c:\\Users\\luisf\\anaconda3\\lib\\site-packages\\uncertainty\\ensemble.py)",
     "output_type": "error",
     "traceback": [
      "\u001b[1;31m---------------------------------------------------------------------------\u001b[0m",
      "\u001b[1;31mImportError\u001b[0m                               Traceback (most recent call last)",
      "\u001b[1;32mc:\\Users\\luisf\\Documents\\GitHub\\NN_torch\\notebooks-scripts\\ScriptsUncEst\\notebooks-scripts\\Eval_DeepEnsemble.ipynb Célula: 8\u001b[0m in \u001b[0;36m<cell line: 2>\u001b[1;34m()\u001b[0m\n\u001b[0;32m      <a href='vscode-notebook-cell:/c%3A/Users/luisf/Documents/GitHub/NN_torch/notebooks-scripts/ScriptsUncEst/notebooks-scripts/Eval_DeepEnsemble.ipynb#X10sZmlsZQ%3D%3D?line=0'>1</a>\u001b[0m \u001b[39mimport\u001b[39;00m \u001b[39muncertainty\u001b[39;00m\u001b[39m.\u001b[39;00m\u001b[39mmetrics\u001b[39;00m \u001b[39mas\u001b[39;00m \u001b[39mmetrics\u001b[39;00m\n\u001b[1;32m----> <a href='vscode-notebook-cell:/c%3A/Users/luisf/Documents/GitHub/NN_torch/notebooks-scripts/ScriptsUncEst/notebooks-scripts/Eval_DeepEnsemble.ipynb#X10sZmlsZQ%3D%3D?line=1'>2</a>\u001b[0m \u001b[39mfrom\u001b[39;00m \u001b[39muncertainty\u001b[39;00m\u001b[39m.\u001b[39;00m\u001b[39mensemble\u001b[39;00m \u001b[39mimport\u001b[39;00m DeepEnsemble\n",
      "\u001b[1;31mImportError\u001b[0m: cannot import name 'DeepEnsemble' from 'uncertainty.ensemble' (c:\\Users\\luisf\\anaconda3\\lib\\site-packages\\uncertainty\\ensemble.py)"
     ]
    }
   ],
   "source": [
    "import uncertainty.metrics as metrics\n",
    "from uncertainty.ensemble import DeepEnsemble"
   ]
  },
  {
   "cell_type": "markdown",
   "id": "ccafa55c-cb79-44a4-bb6f-c0d9f13c926a",
   "metadata": {},
   "source": [
    "# Analysis"
   ]
  },
  {
   "cell_type": "markdown",
   "id": "ce415794-4119-4f02-8921-053cf4d8c64f",
   "metadata": {
    "tags": []
   },
   "source": [
    "## Definitions"
   ]
  },
  {
   "cell_type": "code",
   "execution_count": 7,
   "id": "d0c3ed1f-b2c2-4910-b323-fd1fbec744d8",
   "metadata": {},
   "outputs": [
    {
     "name": "stdout",
     "output_type": "stream",
     "text": [
      "Files already downloaded and verified\n",
      "Files already downloaded and verified\n"
     ]
    }
   ],
   "source": [
    "MODEL_ARC = 'VGG_16'\n",
    "DATA = 'Cifar100'\n",
    "\n",
    "data = torch_data.__dict__[DATA](data_dir = DATA_PATH, train = False)\n",
    "model_class = models.__dict__[MODEL_ARC]\n",
    "\n",
    "weights_path = os.path.join(PATH_MODELS,MODEL_ARC,DATA)"
   ]
  },
  {
   "cell_type": "markdown",
   "id": "09517953-3fad-48bc-bc41-10f47034a776",
   "metadata": {
    "tags": []
   },
   "source": [
    "## Upload Models"
   ]
  },
  {
   "cell_type": "code",
   "execution_count": null,
   "id": "7821fd6d",
   "metadata": {},
   "outputs": [],
   "source": [
    "models_dict = {}\n",
    "for s in utils.weights_files(weights_path):\n",
    "    print(s)\n",
    "    s1 = s.replace('.pt','')\n",
    "    models_dict[s1] = model_class(num_classes = data.n_classes,softmax = True).to(dev)\n",
    "    state_dict = torch.load(os.path.join(weights_path,s))\n",
    "    models_dict[s1].load_state_dict(state_dict)\n",
    "    models_dict[s1].eval()"
   ]
  },
  {
   "cell_type": "markdown",
   "id": "d57f1957",
   "metadata": {},
   "source": [
    "### Ensemble model definition"
   ]
  },
  {
   "cell_type": "code",
   "execution_count": null,
   "id": "fd8d613e",
   "metadata": {},
   "outputs": [],
   "source": [
    "model = DeepEnsemble(models_dict).to(dev)\n",
    "print(f'Ensemble Total Accuracy: {TE.model_acc(model,data.test_dataloader)}')"
   ]
  },
  {
   "cell_type": "markdown",
   "id": "aaafd86e-a9cf-45f7-950d-8bb2c93c0fa5",
   "metadata": {},
   "source": [
    "## Plots"
   ]
  },
  {
   "cell_type": "markdown",
   "id": "1c45ddc5",
   "metadata": {},
   "source": [
    "### Por M"
   ]
  },
  {
   "cell_type": "code",
   "execution_count": null,
   "id": "e00d0ae1",
   "metadata": {},
   "outputs": [],
   "source": [
    "RC_dict = {}\n",
    "for N_ENS in range(len(models_dict)):\n",
    "    NAME = f'DeepEnsemble_{N_ENS}_{MODEL_ARC}_{DATA}'\n",
    "    d = utils.slice_dict(models_dict,range(N_ENS))\n",
    "    RC = metrics.selective_metrics(d,data.test_dataloader, name = NAME)\n",
    "    RC_dict[N_ENS] = RC"
   ]
  },
  {
   "cell_type": "markdown",
   "id": "90e9cf1e",
   "metadata": {},
   "source": [
    "#### Risk x Coverage"
   ]
  },
  {
   "cell_type": "code",
   "execution_count": 35,
   "id": "98e33c31-8653-4cc8-9eab-3d635cea5cd5",
   "metadata": {},
   "outputs": [
    {
     "data": {
      "text/plain": [
       "72.16"
      ]
     },
     "execution_count": 35,
     "metadata": {},
     "output_type": "execute_result"
    }
   ],
   "source": [
    "for N_ENS, RC in RC_dict.items():\n",
    "    NAME = f'DeepEnsemble_{N_ENS}_{MODEL_ARC}_{DATA}'\n",
    "    RC.plot_ROC_and_RC(aurc = True)\n",
    "    plt.suptitle(f'M = {N_ENS}')\n",
    "    plt.show()"
   ]
  },
  {
   "cell_type": "markdown",
   "id": "01252729-336e-4199-ba24-50b40f9f3e12",
   "metadata": {},
   "source": [
    "#### Risk x M"
   ]
  },
  {
   "cell_type": "code",
   "execution_count": null,
   "id": "179575a0",
   "metadata": {},
   "outputs": [],
   "source": [
    "uncs = ['MCP','MI','Best']\n",
    "#RC.set_uncs(uncs)\n",
    "f, axes = plt.subplots(1, len(uncs),sharey = True,figsize=(14,6),dpi=80)\n",
    "for N_ENS, RC in RC_dict.items():\n",
    "    \n",
    "    for i,unc in enumerate(uncs):\n",
    "        if unc in RC.risk.keys():\n",
    "            axes[i].plot(RC.c_list,RC.risk[unc],label = f'M = {N_ENS}')\n",
    "        elif unc == 'Best':\n",
    "            axes[i].plot(RC.c_list,RC.get_best(),label = f'M = {N_ENS}')\n",
    "        else:\n",
    "            continue\n",
    "    NAME = f'DeepEnsemble_{N_ENS}_{MODEL_ARC}_{DATA}'\n",
    "    \n",
    "for i,unc in enumerate(uncs):\n",
    "    axes[i].set_title(uncs[i])\n",
    "    axes[i].set_xlabel(\"Coverage\", fontsize=RC.LABEL_FONTSIZE*0.7)\n",
    "    axes[i].tick_params(axis=\"x\",labelsize=RC.TICKS_FONTSIZE)\n",
    "    axes[i].grid()\n",
    "    axes[i].legend()\n",
    "axes[0].set_ylabel(\"Risk\", fontsize=RC.LABEL_FONTSIZE*0.7)\n",
    "plt.suptitle(f'Risk x Coverage')\n",
    "plt.show()"
   ]
  }
 ],
 "metadata": {
  "kernelspec": {
   "display_name": "Python 3.8.8 ('base')",
   "language": "python",
   "name": "python3"
  },
  "language_info": {
   "codemirror_mode": {
    "name": "ipython",
    "version": 3
   },
   "file_extension": ".py",
   "mimetype": "text/x-python",
   "name": "python",
   "nbconvert_exporter": "python",
   "pygments_lexer": "ipython3",
   "version": "3.9.12"
  },
  "vscode": {
   "interpreter": {
    "hash": "b8939ae6302d706547273c597dd3be7d36d3b4c2b9aa367c9a420125c13753bf"
   }
  }
 },
 "nbformat": 4,
 "nbformat_minor": 5
}

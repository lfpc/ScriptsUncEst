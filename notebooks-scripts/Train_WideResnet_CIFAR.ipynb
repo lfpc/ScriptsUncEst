{
 "cells": [
  {
   "cell_type": "markdown",
   "metadata": {
    "tags": []
   },
   "source": [
    "# Libs and pre-definitions"
   ]
  },
  {
   "cell_type": "code",
   "execution_count": 1,
   "metadata": {},
   "outputs": [],
   "source": [
    "DATA_PATH = r'/home/luis-felipe/Uncertainty_Estimation/data'\n",
    "#CORRUPTED_DATA_PATH = os.path.join(DATA_PATH,'corrupted')\n",
    "\n",
    "PATH_MODELS = r'/home/luis-felipe/Uncertainty_Estimation/torch_models'\n",
    "PATH_trainer = r'/home/luis-felipe/Uncertainty_Estimation/torch_models/trainer'"
   ]
  },
  {
   "cell_type": "markdown",
   "metadata": {
    "heading_collapsed": "true",
    "tags": []
   },
   "source": [
    "### Bibliotecas padrões python e utils pytorch"
   ]
  },
  {
   "cell_type": "code",
   "execution_count": 2,
   "metadata": {},
   "outputs": [],
   "source": [
    "import torch\n",
    "from torch import nn\n",
    "import numpy as np\n",
    "import pandas as pd\n",
    "import matplotlib\n",
    "from matplotlib import pyplot as plt\n",
    "import os"
   ]
  },
  {
   "cell_type": "code",
   "execution_count": 3,
   "metadata": {},
   "outputs": [
    {
     "name": "stdout",
     "output_type": "stream",
     "text": [
      "True\n"
     ]
    }
   ],
   "source": [
    "# Define o computador utilizado como cuda (gpu) se existir ou cpu caso contrário\n",
    "print(torch.cuda.is_available())\n",
    "dev = torch.device('cuda') if torch.cuda.is_available() else torch.device('cpu')"
   ]
  },
  {
   "cell_type": "markdown",
   "metadata": {
    "heading_collapsed": "true",
    "tags": []
   },
   "source": [
    "### Bibliotecas desenvolvidas\n",
    "\n",
    "https://github.com/lfpc/Uncertainty_Estimation"
   ]
  },
  {
   "cell_type": "code",
   "execution_count": 4,
   "metadata": {},
   "outputs": [],
   "source": [
    "import NN_models as models\n",
    "from NN_models import vgg\n",
    "from NN_models import wide_resnet\n",
    "import NN_utils as utils\n",
    "import NN_utils.train_and_eval as TE\n",
    "import cifar_data\n"
   ]
  },
  {
   "cell_type": "markdown",
   "metadata": {
    "heading_collapsed": "true",
    "tags": []
   },
   "source": [
    "## Data download and transforms"
   ]
  },
  {
   "cell_type": "code",
   "execution_count": 5,
   "metadata": {
    "tags": []
   },
   "outputs": [
    {
     "ename": "AttributeError",
     "evalue": "module 'cifar_data' has no attribute 'Cifar_10_data'",
     "output_type": "error",
     "traceback": [
      "\u001b[0;31m---------------------------------------------------------------------------\u001b[0m",
      "\u001b[0;31mAttributeError\u001b[0m                            Traceback (most recent call last)",
      "\u001b[0;32m<ipython-input-5-805079923dc0>\u001b[0m in \u001b[0;36m<module>\u001b[0;34m\u001b[0m\n\u001b[0;32m----> 1\u001b[0;31m \u001b[0mcifar10\u001b[0m \u001b[0;34m=\u001b[0m \u001b[0mcifar_data\u001b[0m\u001b[0;34m.\u001b[0m\u001b[0mCifar_10_data\u001b[0m\u001b[0;34m(\u001b[0m\u001b[0mdata_dir\u001b[0m \u001b[0;34m=\u001b[0m \u001b[0mDATA_PATH\u001b[0m\u001b[0;34m)\u001b[0m\u001b[0;34m\u001b[0m\u001b[0;34m\u001b[0m\u001b[0m\n\u001b[0m\u001b[1;32m      2\u001b[0m \u001b[0mcifar100\u001b[0m \u001b[0;34m=\u001b[0m \u001b[0mcifar_data\u001b[0m\u001b[0;34m.\u001b[0m\u001b[0mCifar_100_data\u001b[0m\u001b[0;34m(\u001b[0m\u001b[0mdata_dir\u001b[0m \u001b[0;34m=\u001b[0m \u001b[0mDATA_PATH\u001b[0m\u001b[0;34m)\u001b[0m\u001b[0;34m\u001b[0m\u001b[0;34m\u001b[0m\u001b[0m\n",
      "\u001b[0;31mAttributeError\u001b[0m: module 'cifar_data' has no attribute 'Cifar_10_data'"
     ]
    }
   ],
   "source": [
    "cifar10 = cifar_data.Cifar_10_data(data_dir = DATA_PATH)\n",
    "cifar100 = cifar_data.Cifar_100_data(data_dir = DATA_PATH)"
   ]
  },
  {
   "cell_type": "markdown",
   "metadata": {
    "tags": []
   },
   "source": [
    "# Train classifier"
   ]
  },
  {
   "cell_type": "code",
   "execution_count": null,
   "metadata": {},
   "outputs": [],
   "source": [
    "loss_criterion = nn.CrossEntropyLoss().cuda()\n",
    "\n",
    "#risk_dict = {'selective_risk_mcp':  lambda x,label: unc_comp.selective_risk(x,label,unc_type = unc.MCP_unc)}"
   ]
  },
  {
   "cell_type": "code",
   "execution_count": null,
   "metadata": {
    "tags": []
   },
   "outputs": [],
   "source": [
    "for t in range(4,7):\n",
    "    print(t)\n",
    "    #model = wide_resnet.Wide_ResNet(num_classes=10,name='WideResnet_C10_'+str(t)).to(dev)\n",
    "    #optimizer = torch.optim.SGD(model.parameters(), lr=0.1,momentum = 0.9,weight_decay = 5e-4,nesterov = True)\n",
    "\n",
    "    #model_trainer = TE.Trainer(model,optimizer,loss_criterion,cifar10.train_dataloader, cifar10.test_dataloader,update_lr = (50,5))\n",
    "    model_trainer.fit(cifar10.train_dataloader,200-model_trainer.epoch, live_plot = True,save_checkpoint = True, PATH = PATH_MODELS)\n",
    "    \n",
    "    print(f'Max acc = {max(model_trainer.hist_val.acc_list)} - epoch = {np.argmax(model_trainer.hist_val.acc_list)}')\n",
    "    model.eval()\n",
    "    acc = TE.model_acc(model,cifar10.train_dataloader)\n",
    "    print('Conjunto de treinamento: acc = ', acc)\n",
    "    acc = TE.model_acc(model,cifar10.test_dataloader)\n",
    "    print('Conjunto de teste: acc = ', acc)"
   ]
  },
  {
   "cell_type": "code",
   "execution_count": null,
   "metadata": {},
   "outputs": [],
   "source": [
    "for t in range(4,7):\n",
    "    print(t)\n",
    "    model = wide_resnet.Wide_ResNet(num_classes=100,name='WideResnet_C100_'+str(t)).to(dev)\n",
    "    optimizer = torch.optim.SGD(model.parameters(), lr=0.1,momentum = 0.9,weight_decay = 5e-4,nesterov = True)\n",
    "\n",
    "    model_trainer = TE.Trainer(model,optimizer,loss_criterion, cifar100.train_dataloader,cifar100.test_dataloader,update_lr = (50,5))\n",
    "    model_trainer.fit(cifar100.train_dataloader,200, live_plot = True,save_checkpoint = True, PATH = PATH_MODELS)\n",
    "    \n",
    "    print(f'Max acc = {max(model_trainer.hist_val.acc_list)} - epoch = {np.argmax(model_trainer.hist_val.acc_list)}')\n",
    "    model.eval()\n",
    "    acc = TE.model_acc(model,cifar100.train_dataloader)\n",
    "    print('Conjunto de treinamento: acc = ', acc)\n",
    "    acc = TE.model_acc(model,cifar100.test_dataloader)\n",
    "    print('Conjunto de teste: acc = ', acc)"
   ]
  },
  {
   "cell_type": "code",
   "execution_count": null,
   "metadata": {},
   "outputs": [],
   "source": [
    "print(f'Max acc = {max(model_trainer.hist_val.acc_list)} - epoch = {np.argmax(model_trainer.hist_val.acc_list)}')\n",
    "model.eval()\n",
    "acc = TE.model_acc(model,cifar100.train_dataloader)\n",
    "print('Conjunto de treinamento: acc = ', acc)\n",
    "acc = TE.model_acc(model,cifar100.test_dataloader)\n",
    "print('Conjunto de teste: acc = ', acc)"
   ]
  },
  {
   "cell_type": "code",
   "execution_count": null,
   "metadata": {},
   "outputs": [],
   "source": []
  }
 ],
 "metadata": {
  "kernelspec": {
   "display_name": "Python 3",
   "language": "python",
   "name": "python3"
  },
  "language_info": {
   "codemirror_mode": {
    "name": "ipython",
    "version": 3
   },
   "file_extension": ".py",
   "mimetype": "text/x-python",
   "name": "python",
   "nbconvert_exporter": "python",
   "pygments_lexer": "ipython3",
   "version": "3.8.8"
  }
 },
 "nbformat": 4,
 "nbformat_minor": 4
}

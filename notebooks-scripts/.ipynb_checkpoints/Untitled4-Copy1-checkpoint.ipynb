{
 "cells": [
  {
   "cell_type": "code",
   "execution_count": 1,
   "id": "11cccc38-02bf-4107-81d2-0c63a1ad452c",
   "metadata": {},
   "outputs": [],
   "source": [
    "import torch\n",
    "import numpy as np\n",
    "import cifar_data\n",
    "import NN_models.wide_resnet as wide_resnet\n",
    "import NN_utils as utils\n",
    "from NN_utils import train_and_eval as TE\n",
    "from torch import nn\n",
    "import matplotlib.pyplot as plt\n",
    "import NN_models\n",
    "import uncertainty.utils as unc_utils\n",
    "import uncertainty as unc"
   ]
  },
  {
   "cell_type": "code",
   "execution_count": 2,
   "id": "d0896fa6-eede-4c32-9a62-1b1e629b33f4",
   "metadata": {},
   "outputs": [
    {
     "name": "stdout",
     "output_type": "stream",
     "text": [
      "True\n"
     ]
    }
   ],
   "source": [
    "# Define o computador utilizado como cuda (gpu) se existir ou cpu caso contrário\n",
    "print(torch.cuda.is_available())\n",
    "dev = torch.device('cuda') if torch.cuda.is_available() else torch.device('cpu')"
   ]
  },
  {
   "cell_type": "code",
   "execution_count": 3,
   "id": "40bc1b18-2eea-40ce-946e-7cb3a059b2b0",
   "metadata": {},
   "outputs": [
    {
     "name": "stdout",
     "output_type": "stream",
     "text": [
      "Files already downloaded and verified\n",
      "Files already downloaded and verified\n"
     ]
    }
   ],
   "source": [
    "PATH = r'/home/luis-felipe/Uncertainty_Estimation/torch_models'\n",
    "PATH_trainer = r'/home/luis-felipe/Uncertainty_Estimation/torch_models/trainer'\n",
    "cifar10 = cifar_data.Cifar_10_data()\n",
    "#cifar100 = cifar_data.Cifar_100_data()"
   ]
  },
  {
   "cell_type": "code",
   "execution_count": 18,
   "id": "7a12aea0-2d5f-43d7-a356-682a707fcd1e",
   "metadata": {
    "tags": []
   },
   "outputs": [
    {
     "name": "stdout",
     "output_type": "stream",
     "text": [
      "| Wide-Resnet 28x10\n"
     ]
    }
   ],
   "source": [
    "#model = NN_models.Model_CNN(n_classes = 100).to(dev)\n",
    "model = wide_resnet.Wide_ResNet(num_classes = 10,dropout_rate = 0.3).to(dev)\n",
    "model.load_state_dict(torch.load(PATH + r'/' + 'wide_resnet_dropout'+ '.pt'))\n",
    "model_mcd = lambda x: unc.get_MCD(model,x,n=10)\n"
   ]
  },
  {
   "cell_type": "code",
   "execution_count": 20,
   "id": "66159eef-2c55-45fb-9ff5-c34377253133",
   "metadata": {},
   "outputs": [],
   "source": [
    "def accumulate_results(model,data):\n",
    "    '''Accumulate output (of model) and label of a entire dataset.'''\n",
    "\n",
    "    output_list = torch.Tensor([]).to(dev)\n",
    "    var_list = torch.Tensor([]).to(dev)\n",
    "    MI_list = torch.Tensor([]).to(dev)\n",
    "    label_list = torch.Tensor([]).to(dev)\n",
    "    for image,label in data:\n",
    "        with torch.no_grad():\n",
    "            image,label = image.to(dev), label.to(dev)\n",
    "            output = model(image)[0]\n",
    "            var = model(image)[1]\n",
    "            MI = model(image)[2]\n",
    "\n",
    "            label_list = torch.cat((label_list,label))\n",
    "            var_list = torch.cat((var_list,var))\n",
    "            MI_list = torch.cat((MI_list,MI))\n",
    "            output_list = torch.cat((output_list,output))\n",
    "    return output_list,label_list.long(),var_list,MI_list\n",
    "\n",
    "def model_acc(model,data):\n",
    "    '''Returns the total accuracy of model in some dataset'''\n",
    "    with torch.no_grad():\n",
    "        total = 0\n",
    "        correct= 0\n",
    "        for image,label in data:\n",
    "            image,label = image.to(dev), label.to(dev)\n",
    "            output = model(image)[0]\n",
    "            total += label.size(0)\n",
    "            correct += TE.correct_total(output,label)\n",
    "    return (correct*100/total)"
   ]
  },
  {
   "cell_type": "code",
   "execution_count": 21,
   "id": "68cc413d-ebe7-4f25-af2c-5faab1d26553",
   "metadata": {
    "tags": []
   },
   "outputs": [],
   "source": [
    "output, label,var,MI = accumulate_results(model_mcd,cifar10.test_dataloader)"
   ]
  },
  {
   "cell_type": "code",
   "execution_count": 29,
   "id": "44a07cf0-fbf4-432d-863f-2a93bd424bde",
   "metadata": {},
   "outputs": [],
   "source": [
    "c_list = np.arange(0.05,1.05,0.05)\n",
    "acc_list_mcp = unc_utils.acc_coverage_list(output,label,unc.MCP_unc(output), c_list)\n",
    "acc_list_entropy = unc_utils.acc_coverage_list(output,label,unc.entropy(output), c_list)\n",
    "acc_list_var = unc_utils.acc_coverage_list(output,label,var, c_list)\n",
    "#acc_list_MI = unc_utils.acc_coverage_list(output,label,MI, c_list)"
   ]
  },
  {
   "cell_type": "code",
   "execution_count": 35,
   "id": "dce2bc2f-8851-4d7b-a102-aaf566edad6b",
   "metadata": {},
   "outputs": [
    {
     "data": {
      "text/plain": [
       "(array([6.220e+03, 2.171e+03, 8.980e+02, 4.270e+02, 1.740e+02, 7.400e+01,\n",
       "        2.200e+01, 8.000e+00, 4.000e+00, 2.000e+00]),\n",
       " array([0.01003616, 0.08215842, 0.15428069, 0.22640295, 0.2985252 ,\n",
       "        0.3706475 , 0.44276974, 0.51489204, 0.58701426, 0.65913653,\n",
       "        0.7312588 ], dtype=float32),\n",
       " <BarContainer object of 10 artists>)"
      ]
     },
     "execution_count": 35,
     "metadata": {},
     "output_type": "execute_result"
    },
    {
     "data": {
      "image/png": "[encoded data removed]",
      "text/plain": [
       "<Figure size 432x288 with 1 Axes>"
      ]
     },
     "metadata": {
      "needs_background": "light"
     },
     "output_type": "display_data"
    }
   ],
   "source": [
    "plt.hist(var.cpu().numpy())"
   ]
  },
  {
   "cell_type": "code",
   "execution_count": 34,
   "id": "af5ca6e8-c727-459c-8cab-d89af5f4c1a8",
   "metadata": {},
   "outputs": [
    {
     "data": {
      "text/plain": [
       "(array([9.263e+03, 1.800e+02, 1.310e+02, 1.020e+02, 9.200e+01, 8.700e+01,\n",
       "        6.500e+01, 5.700e+01, 1.600e+01, 7.000e+00]),\n",
       " array([0.        , 0.06911677, 0.13823354, 0.20735031, 0.27646708,\n",
       "        0.34558386, 0.41470063, 0.4838174 , 0.55293417, 0.62205094,\n",
       "        0.6911677 ], dtype=float32),\n",
       " <BarContainer object of 10 artists>)"
      ]
     },
     "execution_count": 34,
     "metadata": {},
     "output_type": "execute_result"
    },
    {
     "data": {
      "image/png": "[encoded data removed]",
      "text/plain": [
       "<Figure size 432x288 with 1 Axes>"
      ]
     },
     "metadata": {
      "needs_background": "light"
     },
     "output_type": "display_data"
    }
   ],
   "source": [
    "plt.hist(unc.MCP_unc(output).cpu().numpy())"
   ]
  },
  {
   "cell_type": "code",
   "execution_count": 31,
   "id": "0e720ab0-5bc6-483a-b493-36325e512d49",
   "metadata": {},
   "outputs": [
    {
     "data": {
      "image/png": "[encoded data removed]",
      "text/plain": [
       "<Figure size 432x288 with 1 Axes>"
      ]
     },
     "metadata": {
      "needs_background": "light"
     },
     "output_type": "display_data"
    }
   ],
   "source": [
    "plt.plot(c_list,1-acc_list_mcp,label = 'mcp')\n",
    "plt.plot(c_list,1-acc_list_entropy, label = 'entropy')\n",
    "plt.plot(c_list,1-acc_list_var,label = 'var')\n",
    "#plt.plot(c_list,1-acc_list_MI, label = 'MI')\n",
    "plt.legend()\n",
    "plt.show()"
   ]
  },
  {
   "cell_type": "code",
   "execution_count": 17,
   "id": "7a1bf8f9-e470-4e0a-93c1-2f14f953b351",
   "metadata": {
    "collapsed": true,
    "jupyter": {
     "outputs_hidden": true
    },
    "tags": []
   },
   "outputs": [
    {
     "name": "stdout",
     "output_type": "stream",
     "text": [
      "1 :  \n",
      "95.38\n",
      "2 :  \n"
     ]
    },
    {
     "ename": "KeyboardInterrupt",
     "evalue": "",
     "output_type": "error",
     "traceback": [
      "\u001b[0;31m---------------------------------------------------------------------------\u001b[0m",
      "\u001b[0;31mKeyboardInterrupt\u001b[0m                         Traceback (most recent call last)",
      "\u001b[0;32m<ipython-input-17-d9cc52c35d81>\u001b[0m in \u001b[0;36m<module>\u001b[0;34m\u001b[0m\n\u001b[1;32m      2\u001b[0m     \u001b[0mmodel_mcd\u001b[0m \u001b[0;34m=\u001b[0m \u001b[0;32mlambda\u001b[0m \u001b[0mx\u001b[0m\u001b[0;34m:\u001b[0m \u001b[0munc\u001b[0m\u001b[0;34m.\u001b[0m\u001b[0mget_MCD\u001b[0m\u001b[0;34m(\u001b[0m\u001b[0mmodel\u001b[0m\u001b[0;34m,\u001b[0m\u001b[0mx\u001b[0m\u001b[0;34m,\u001b[0m\u001b[0mn\u001b[0m\u001b[0;34m=\u001b[0m\u001b[0mT\u001b[0m\u001b[0;34m)\u001b[0m\u001b[0;34m[\u001b[0m\u001b[0;36m0\u001b[0m\u001b[0;34m]\u001b[0m\u001b[0;34m\u001b[0m\u001b[0;34m\u001b[0m\u001b[0m\n\u001b[1;32m      3\u001b[0m     \u001b[0mprint\u001b[0m\u001b[0;34m(\u001b[0m\u001b[0mT\u001b[0m\u001b[0;34m,\u001b[0m \u001b[0;34m':  '\u001b[0m\u001b[0;34m)\u001b[0m\u001b[0;34m\u001b[0m\u001b[0;34m\u001b[0m\u001b[0m\n\u001b[0;32m----> 4\u001b[0;31m     \u001b[0mprint\u001b[0m\u001b[0;34m(\u001b[0m\u001b[0mmodel_acc\u001b[0m\u001b[0;34m(\u001b[0m\u001b[0mmodel_mcd\u001b[0m\u001b[0;34m,\u001b[0m\u001b[0mcifar10\u001b[0m\u001b[0;34m.\u001b[0m\u001b[0mtest_dataloader\u001b[0m\u001b[0;34m)\u001b[0m\u001b[0;34m)\u001b[0m\u001b[0;34m\u001b[0m\u001b[0;34m\u001b[0m\u001b[0m\n\u001b[0m",
      "\u001b[0;32m<ipython-input-5-971112d5f2e2>\u001b[0m in \u001b[0;36mmodel_acc\u001b[0;34m(model, data)\u001b[0m\n\u001b[1;32m     20\u001b[0m         \u001b[0;32mfor\u001b[0m \u001b[0mimage\u001b[0m\u001b[0;34m,\u001b[0m\u001b[0mlabel\u001b[0m \u001b[0;32min\u001b[0m \u001b[0mdata\u001b[0m\u001b[0;34m:\u001b[0m\u001b[0;34m\u001b[0m\u001b[0;34m\u001b[0m\u001b[0m\n\u001b[1;32m     21\u001b[0m             \u001b[0mimage\u001b[0m\u001b[0;34m,\u001b[0m\u001b[0mlabel\u001b[0m \u001b[0;34m=\u001b[0m \u001b[0mimage\u001b[0m\u001b[0;34m.\u001b[0m\u001b[0mto\u001b[0m\u001b[0;34m(\u001b[0m\u001b[0mdev\u001b[0m\u001b[0;34m)\u001b[0m\u001b[0;34m,\u001b[0m \u001b[0mlabel\u001b[0m\u001b[0;34m.\u001b[0m\u001b[0mto\u001b[0m\u001b[0;34m(\u001b[0m\u001b[0mdev\u001b[0m\u001b[0;34m)\u001b[0m\u001b[0;34m\u001b[0m\u001b[0;34m\u001b[0m\u001b[0m\n\u001b[0;32m---> 22\u001b[0;31m             \u001b[0moutput\u001b[0m \u001b[0;34m=\u001b[0m \u001b[0mmodel\u001b[0m\u001b[0;34m(\u001b[0m\u001b[0mimage\u001b[0m\u001b[0;34m)\u001b[0m\u001b[0;34m\u001b[0m\u001b[0;34m\u001b[0m\u001b[0m\n\u001b[0m\u001b[1;32m     23\u001b[0m             \u001b[0mtotal\u001b[0m \u001b[0;34m+=\u001b[0m \u001b[0mlabel\u001b[0m\u001b[0;34m.\u001b[0m\u001b[0msize\u001b[0m\u001b[0;34m(\u001b[0m\u001b[0;36m0\u001b[0m\u001b[0;34m)\u001b[0m\u001b[0;34m\u001b[0m\u001b[0;34m\u001b[0m\u001b[0m\n\u001b[1;32m     24\u001b[0m             \u001b[0mcorrect\u001b[0m \u001b[0;34m+=\u001b[0m \u001b[0mTE\u001b[0m\u001b[0;34m.\u001b[0m\u001b[0mcorrect_total\u001b[0m\u001b[0;34m(\u001b[0m\u001b[0moutput\u001b[0m\u001b[0;34m,\u001b[0m\u001b[0mlabel\u001b[0m\u001b[0;34m)\u001b[0m\u001b[0;34m\u001b[0m\u001b[0;34m\u001b[0m\u001b[0m\n",
      "\u001b[0;32m<ipython-input-17-d9cc52c35d81>\u001b[0m in \u001b[0;36m<lambda>\u001b[0;34m(x)\u001b[0m\n\u001b[1;32m      1\u001b[0m \u001b[0;32mfor\u001b[0m \u001b[0mT\u001b[0m \u001b[0;32min\u001b[0m \u001b[0mrange\u001b[0m\u001b[0;34m(\u001b[0m\u001b[0;36m1\u001b[0m\u001b[0;34m,\u001b[0m\u001b[0;36m10\u001b[0m\u001b[0;34m)\u001b[0m\u001b[0;34m:\u001b[0m\u001b[0;34m\u001b[0m\u001b[0;34m\u001b[0m\u001b[0m\n\u001b[0;32m----> 2\u001b[0;31m     \u001b[0mmodel_mcd\u001b[0m \u001b[0;34m=\u001b[0m \u001b[0;32mlambda\u001b[0m \u001b[0mx\u001b[0m\u001b[0;34m:\u001b[0m \u001b[0munc\u001b[0m\u001b[0;34m.\u001b[0m\u001b[0mget_MCD\u001b[0m\u001b[0;34m(\u001b[0m\u001b[0mmodel\u001b[0m\u001b[0;34m,\u001b[0m\u001b[0mx\u001b[0m\u001b[0;34m,\u001b[0m\u001b[0mn\u001b[0m\u001b[0;34m=\u001b[0m\u001b[0mT\u001b[0m\u001b[0;34m)\u001b[0m\u001b[0;34m[\u001b[0m\u001b[0;36m0\u001b[0m\u001b[0;34m]\u001b[0m\u001b[0;34m\u001b[0m\u001b[0;34m\u001b[0m\u001b[0m\n\u001b[0m\u001b[1;32m      3\u001b[0m     \u001b[0mprint\u001b[0m\u001b[0;34m(\u001b[0m\u001b[0mT\u001b[0m\u001b[0;34m,\u001b[0m \u001b[0;34m':  '\u001b[0m\u001b[0;34m)\u001b[0m\u001b[0;34m\u001b[0m\u001b[0;34m\u001b[0m\u001b[0m\n\u001b[1;32m      4\u001b[0m     \u001b[0mprint\u001b[0m\u001b[0;34m(\u001b[0m\u001b[0mmodel_acc\u001b[0m\u001b[0;34m(\u001b[0m\u001b[0mmodel_mcd\u001b[0m\u001b[0;34m,\u001b[0m\u001b[0mcifar10\u001b[0m\u001b[0;34m.\u001b[0m\u001b[0mtest_dataloader\u001b[0m\u001b[0;34m)\u001b[0m\u001b[0;34m)\u001b[0m\u001b[0;34m\u001b[0m\u001b[0;34m\u001b[0m\u001b[0m\n",
      "\u001b[0;32m~/anaconda3/lib/python3.8/site-packages/uncertainty/__init__.py\u001b[0m in \u001b[0;36mget_MCD\u001b[0;34m(model, X, n)\u001b[0m\n\u001b[1;32m     69\u001b[0m     \u001b[0mvar\u001b[0m \u001b[0;34m=\u001b[0m \u001b[0mutils\u001b[0m\u001b[0;34m.\u001b[0m\u001b[0mMonteCarlo_var\u001b[0m\u001b[0;34m(\u001b[0m\u001b[0mMC_array\u001b[0m\u001b[0;34m)\u001b[0m\u001b[0;34m\u001b[0m\u001b[0;34m\u001b[0m\u001b[0m\n\u001b[1;32m     70\u001b[0m \u001b[0;34m\u001b[0m\u001b[0m\n\u001b[0;32m---> 71\u001b[0;31m     \u001b[0mMI\u001b[0m \u001b[0;34m=\u001b[0m \u001b[0mmutual_info\u001b[0m\u001b[0;34m(\u001b[0m\u001b[0mMC_array\u001b[0m\u001b[0;34m)\u001b[0m\u001b[0;34m\u001b[0m\u001b[0;34m\u001b[0m\u001b[0m\n\u001b[0m\u001b[1;32m     72\u001b[0m \u001b[0;34m\u001b[0m\u001b[0m\n\u001b[1;32m     73\u001b[0m     \u001b[0;32mreturn\u001b[0m \u001b[0mmean\u001b[0m\u001b[0;34m,\u001b[0m \u001b[0mvar\u001b[0m\u001b[0;34m,\u001b[0m \u001b[0mMI\u001b[0m\u001b[0;34m\u001b[0m\u001b[0;34m\u001b[0m\u001b[0m\n",
      "\u001b[0;32m~/anaconda3/lib/python3.8/site-packages/uncertainty/__init__.py\u001b[0m in \u001b[0;36mmutual_info\u001b[0;34m(pred_array)\u001b[0m\n\u001b[1;32m     54\u001b[0m \u001b[0;32mdef\u001b[0m \u001b[0mmutual_info\u001b[0m\u001b[0;34m(\u001b[0m\u001b[0mpred_array\u001b[0m\u001b[0;34m)\u001b[0m\u001b[0;34m:\u001b[0m\u001b[0;34m\u001b[0m\u001b[0;34m\u001b[0m\u001b[0m\n\u001b[1;32m     55\u001b[0m     \u001b[0;34m'''Returns de Mutual Information (Gal, 2016) of a probability tensor'''\u001b[0m\u001b[0;34m\u001b[0m\u001b[0;34m\u001b[0m\u001b[0m\n\u001b[0;32m---> 56\u001b[0;31m     \u001b[0ment\u001b[0m \u001b[0;34m=\u001b[0m \u001b[0mentropy\u001b[0m\u001b[0;34m(\u001b[0m\u001b[0mtorch\u001b[0m\u001b[0;34m.\u001b[0m\u001b[0mmean\u001b[0m\u001b[0;34m(\u001b[0m\u001b[0mpred_array\u001b[0m\u001b[0;34m,\u001b[0m \u001b[0maxis\u001b[0m\u001b[0;34m=\u001b[0m\u001b[0;36m0\u001b[0m\u001b[0;34m)\u001b[0m\u001b[0;34m)\u001b[0m\u001b[0;34m\u001b[0m\u001b[0;34m\u001b[0m\u001b[0m\n\u001b[0m\u001b[1;32m     57\u001b[0m     \u001b[0mMI\u001b[0m \u001b[0;34m=\u001b[0m \u001b[0ment\u001b[0m \u001b[0;34m-\u001b[0m \u001b[0mtorch\u001b[0m\u001b[0;34m.\u001b[0m\u001b[0mmean\u001b[0m\u001b[0;34m(\u001b[0m\u001b[0mentropy\u001b[0m\u001b[0;34m(\u001b[0m\u001b[0mpred_array\u001b[0m\u001b[0;34m)\u001b[0m\u001b[0;34m,\u001b[0m \u001b[0maxis\u001b[0m\u001b[0;34m=\u001b[0m\u001b[0;36m0\u001b[0m\u001b[0;34m)\u001b[0m\u001b[0;34m\u001b[0m\u001b[0;34m\u001b[0m\u001b[0m\n\u001b[1;32m     58\u001b[0m     \u001b[0;32mreturn\u001b[0m \u001b[0mMI\u001b[0m\u001b[0;34m\u001b[0m\u001b[0;34m\u001b[0m\u001b[0m\n",
      "\u001b[0;32m~/anaconda3/lib/python3.8/site-packages/uncertainty/__init__.py\u001b[0m in \u001b[0;36mentropy\u001b[0;34m(y, reduction)\u001b[0m\n\u001b[1;32m      6\u001b[0m     \u001b[0;34m'''Returns the entropy of a probabilities tensor.'''\u001b[0m\u001b[0;34m\u001b[0m\u001b[0;34m\u001b[0m\u001b[0m\n\u001b[1;32m      7\u001b[0m \u001b[0;34m\u001b[0m\u001b[0m\n\u001b[0;32m----> 8\u001b[0;31m     \u001b[0;32mif\u001b[0m \u001b[0;32mnot\u001b[0m \u001b[0mis_probabilities\u001b[0m\u001b[0;34m(\u001b[0m\u001b[0my\u001b[0m\u001b[0;34m)\u001b[0m\u001b[0;34m:\u001b[0m \u001b[0;31m#if y is not a probabilities tensor\u001b[0m\u001b[0;34m\u001b[0m\u001b[0;34m\u001b[0m\u001b[0m\n\u001b[0m\u001b[1;32m      9\u001b[0m         \u001b[0my\u001b[0m \u001b[0;34m=\u001b[0m \u001b[0mtorch\u001b[0m\u001b[0;34m.\u001b[0m\u001b[0mnn\u001b[0m\u001b[0;34m.\u001b[0m\u001b[0mfunctional\u001b[0m\u001b[0;34m.\u001b[0m\u001b[0msoftmax\u001b[0m\u001b[0;34m(\u001b[0m\u001b[0my\u001b[0m\u001b[0;34m,\u001b[0m\u001b[0mdim\u001b[0m\u001b[0;34m=\u001b[0m\u001b[0;34m-\u001b[0m\u001b[0;36m1\u001b[0m\u001b[0;34m)\u001b[0m \u001b[0;31m#apply softmax\u001b[0m\u001b[0;34m\u001b[0m\u001b[0;34m\u001b[0m\u001b[0m\n\u001b[1;32m     10\u001b[0m \u001b[0;34m\u001b[0m\u001b[0m\n",
      "\u001b[0;31mKeyboardInterrupt\u001b[0m: "
     ]
    }
   ],
   "source": [
    "for T in range(1,10):\n",
    "    model_mcd = lambda x: unc.get_MCD(model,x,n=T)[0]\n",
    "    print(T, ':  ')\n",
    "    print(model_acc(model_mcd,cifar10.test_dataloader))"
   ]
  },
  {
   "cell_type": "code",
   "execution_count": null,
   "id": "1d07b1ab-4d78-4c1b-b128-9d8fd5f3735a",
   "metadata": {},
   "outputs": [],
   "source": []
  }
 ],
 "metadata": {
  "kernelspec": {
   "display_name": "Python 3",
   "language": "python",
   "name": "python3"
  },
  "language_info": {
   "codemirror_mode": {
    "name": "ipython",
    "version": 3
   },
   "file_extension": ".py",
   "mimetype": "text/x-python",
   "name": "python",
   "nbconvert_exporter": "python",
   "pygments_lexer": "ipython3",
   "version": "3.8.8"
  }
 },
 "nbformat": 4,
 "nbformat_minor": 5
}

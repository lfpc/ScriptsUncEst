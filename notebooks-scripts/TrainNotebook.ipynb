{
 "cells": [
  {
   "cell_type": "markdown",
   "metadata": {
    "tags": []
   },
   "source": [
    "# Libs and pre-definitions"
   ]
  },
  {
   "cell_type": "code",
   "execution_count": null,
   "metadata": {},
   "outputs": [],
   "source": [
    "a"
   ]
  },
  {
   "cell_type": "code",
   "execution_count": 1,
   "metadata": {},
   "outputs": [],
   "source": [
    "import os\n",
    "REPOSITORY_PATH = r'/home/luis-felipe/UncEst'\n",
    "DATA_PATH = os.path.join(REPOSITORY_PATH,'data')\n",
    "#CORRUPTED_DATA_PATH = os.path.join(DATA_PATH,'corrupted')\n",
    "\n",
    "PATH_MODELS = os.path.join(REPOSITORY_PATH,'torch_models','new')\n",
    "PATH_TRAINER = os.path.join(PATH_MODELS,'trainer')"
   ]
  },
  {
   "cell_type": "markdown",
   "metadata": {
    "heading_collapsed": "true",
    "tags": []
   },
   "source": [
    "### Bibliotecas padrões python e utils pytorch"
   ]
  },
  {
   "cell_type": "code",
   "execution_count": 2,
   "metadata": {},
   "outputs": [],
   "source": [
    "import torch\n",
    "import numpy as np\n",
    "import pandas as pd\n",
    "import matplotlib\n",
    "from matplotlib import pyplot as plt\n",
    "from torch import nn"
   ]
  },
  {
   "cell_type": "code",
   "execution_count": 3,
   "metadata": {},
   "outputs": [
    {
     "name": "stdout",
     "output_type": "stream",
     "text": [
      "True\n"
     ]
    }
   ],
   "source": [
    "# Define o computador utilizado como cuda (gpu) se existir ou cpu caso contrário\n",
    "print(torch.cuda.is_available())\n",
    "dev = torch.device('cuda') if torch.cuda.is_available() else torch.device('cpu')"
   ]
  },
  {
   "cell_type": "markdown",
   "metadata": {
    "heading_collapsed": "true",
    "tags": []
   },
   "source": [
    "### Bibliotecas desenvolvidas\n",
    "\n",
    "https://github.com/lfpc/Uncertainty_Estimation"
   ]
  },
  {
   "cell_type": "code",
   "execution_count": 4,
   "metadata": {},
   "outputs": [],
   "source": [
    "import NN_models as models\n",
    "import NN_utils as utils\n",
    "import NN_utils.train_and_eval as TE\n",
    "import torch_data"
   ]
  },
  {
   "cell_type": "markdown",
   "metadata": {
    "tags": []
   },
   "source": [
    "# Train classifier"
   ]
  },
  {
   "cell_type": "markdown",
   "metadata": {},
   "source": [
    "## Definitions"
   ]
  },
  {
   "cell_type": "markdown",
   "metadata": {},
   "source": [
    "### General"
   ]
  },
  {
   "cell_type": "code",
   "execution_count": 5,
   "metadata": {},
   "outputs": [],
   "source": [
    "CREATE_DIR = True #If true, creates directories to save model (weights_path)\n",
    "LIVE_PLOT = False #If True, plot* loss while training. If 'print', print loss per epoch\n",
    "SAVE_CHECKPOINT = True #If True, save (and update) model weights for the best epoch (smallest validation loss)\n",
    "SAVE_ALL = False #If True, saves weights and trainer at the end of training\n",
    "\n",
    "N_EPOCHS = 250\n",
    "loss_criterion = nn.CrossEntropyLoss()"
   ]
  },
  {
   "cell_type": "raw",
   "metadata": {},
   "source": [
    "MODEL_ARC = 'VGG16_BN'#WideResNet ResNet101,ResNet18,ResNet34,ResNet50 CNN8\n",
    "DATA = 'Cifar100'\n",
    ";Softmax = False#nn.NLLLoss(); Softmax = 'log'\n",
    "\n",
    "risk_dict = None#{'selective_risk_mcp':  lambda x,label: unc_comp.selective_risk(x,label,unc_type = unc.MCP_unc)}"
   ]
  },
  {
   "cell_type": "raw",
   "metadata": {},
   "source": [
    "data = torch_data.pytorch.__dict__[DATA](data_dir = DATA_PATH)\n",
    "num_classes = data.n_classes\n",
    "model_class = models.__dict__[MODEL_ARC]\n",
    "\n",
    "weights_path = os.path.join(PATH_MODELS,MODEL_ARC,DATA)\n",
    "\n",
    "if CREATE_DIR and not os.path.isdir(weights_path):\n",
    "    os.makedirs(weights_path)"
   ]
  },
  {
   "cell_type": "markdown",
   "metadata": {},
   "source": [
    "### Train"
   ]
  },
  {
   "cell_type": "code",
   "execution_count": 6,
   "metadata": {},
   "outputs": [],
   "source": [
    "import torchvision.transforms as transforms\n",
    "MEAN = (0.4914, 0.4822, 0.4465)\n",
    "STD = (0.2023, 0.1994, 0.2010)\n",
    "Resize_Transform_train = transforms.Compose([\n",
    "                    transforms.Resize(256),\n",
    "                    transforms.RandomCrop(224),\n",
    "                    transforms.RandomHorizontalFlip(),\n",
    "                    transforms.ToTensor(),\n",
    "                    #transforms.RandomRotation(15),\n",
    "                    transforms.Normalize(MEAN, STD)])\n",
    "Resize_Transform_test = transforms.Compose([\n",
    "                    transforms.Resize(256),\n",
    "                    transforms.CenterCrop(224),\n",
    "                    transforms.ToTensor(),\n",
    "                    #transforms.RandomRotation(15),\n",
    "                    transforms.Normalize(MEAN, STD)])"
   ]
  },
  {
   "cell_type": "code",
   "execution_count": 7,
   "metadata": {},
   "outputs": [],
   "source": [
    "#Normal mode: 91 with pytorch-cifar, 88 with pytorch"
   ]
  },
  {
   "cell_type": "code",
   "execution_count": 8,
   "metadata": {},
   "outputs": [],
   "source": [
    "params = {'train_batch_size': 10, 'validation_size': 0.0, 'test_batch_size': 10}"
   ]
  },
  {
   "cell_type": "code",
   "execution_count": null,
   "metadata": {
    "tags": []
   },
   "outputs": [
    {
     "name": "stdout",
     "output_type": "stream",
     "text": [
      "EfficientNetB0\n",
      "Files already downloaded and verified\n",
      "Files already downloaded and verified\n"
     ]
    },
    {
     "data": {
      "application/vnd.jupyter.widget-view+json": {
       "model_id": "6424770f4e8941c8833b8d546e7abe06",
       "version_major": 2,
       "version_minor": 0
      },
      "text/plain": [
       "Progress::   0%|          | 0/250 [00:00<?, ?it/s]"
      ]
     },
     "metadata": {},
     "output_type": "display_data"
    },
    {
     "data": {
      "application/vnd.jupyter.widget-view+json": {
       "model_id": "07e6c5de79484785919e166ccd68cf7c",
       "version_major": 2,
       "version_minor": 0
      },
      "text/plain": [
       "Epoch progress::   0%|          | 0/5000 [00:00<?, ?it/s]"
      ]
     },
     "metadata": {},
     "output_type": "display_data"
    }
   ],
   "source": [
    "for MODEL_ARC in ['EfficientNetB0','ResNet18','ResNet50','VGG_16']:\n",
    "    print(MODEL_ARC)\n",
    "    for DATA in ['Cifar10','Cifar100']:\n",
    "        for N_ENS in range(4):\n",
    "            name = MODEL_ARC + '_' + DATA + str(N_ENS)\n",
    "            data = torch_data.__dict__[DATA](data_dir = DATA_PATH, params = params)\n",
    "            if 'EfficientNet' in MODEL_ARC:  \n",
    "                data.change_transforms(Resize_Transform_train,Resize_Transform_test)\n",
    "            num_classes = data.n_classes\n",
    "            model_class = models.__dict__[MODEL_ARC]\n",
    "            weights_path = os.path.join(PATH_MODELS,MODEL_ARC,DATA)\n",
    "\n",
    "            if CREATE_DIR and not os.path.isdir(weights_path):\n",
    "                os.makedirs(weights_path)\n",
    "\n",
    "            model = model_class(num_classes = data.n_classes).to(dev)\n",
    "            model.name = name\n",
    "            optimizer = torch.optim.SGD(model.parameters(), lr=0.1,momentum = 0.9,weight_decay = 5e-4,nesterov = True)\n",
    "            scheduler = torch.optim.lr_scheduler.CosineAnnealingLR(optimizer, T_max=N_EPOCHS)\n",
    "            model_trainer = TE.Trainer(model,optimizer,loss_criterion, None,data.test_dataloader,lr_scheduler = scheduler)\n",
    "            model_trainer.fit(data.train_dataloader,N_EPOCHS, live_plot = LIVE_PLOT,save_checkpoint = SAVE_CHECKPOINT,PATH = weights_path)\n",
    "            print(f'model = {MODEL_ARC}, Data = {DATA}')\n",
    "\n",
    "            model.eval()\n",
    "            acc = TE.model_acc(model,data.train_dataloader)\n",
    "            print('Conjunto de treinamento: acc = ', acc)\n",
    "            acc = TE.model_acc(model,data.test_dataloader)\n",
    "            print('Conjunto de teste: acc = ', acc)\n",
    "            print(f'Conjunto de teste: MAX acc (argmax epoch) = {max(model_trainer.hist_val.acc_list)}({np.argmax(model_trainer.hist_val.acc_list)})')\n",
    "\n",
    "            if SAVE_ALL:\n",
    "                model_trainer.save_all(weights_path, PATH_TRAINER,name)"
   ]
  },
  {
   "cell_type": "code",
   "execution_count": null,
   "metadata": {
    "tags": []
   },
   "outputs": [],
   "source": [
    "for MODEL_ARC in ['VGG16_BN','ConvNeXt_Small','EfficientNet_B0']:\n",
    "    for DATA in ['Cifar10','Cifar100']:\n",
    "        for N_ENS in range(4):\n",
    "            name = MODEL_ARC + '_' + DATA+ '_' + str(N_ENS)\n",
    "            data = torch_data.__dict__[DATA](data_dir = DATA_PATH, params = params)\n",
    "            if 'EfficientNet' in MODEL_ARC:  \n",
    "                data.change_transforms(Resize_Transform_train,Resize_Transform_test)\n",
    "            num_classes = data.n_classes\n",
    "            model_class = models.pytorch.__dict__[MODEL_ARC.lower()]\n",
    "            weights_path = os.path.join(PATH_MODELS,MODEL_ARC,DATA)\n",
    "\n",
    "            if CREATE_DIR and not os.path.isdir(weights_path):\n",
    "                os.makedirs(weights_path)\n",
    "\n",
    "            model = model_class(num_classes = data.n_classes).to(dev)\n",
    "            model.name = name\n",
    "            optimizer = torch.optim.SGD(model.parameters(), lr=0.1,momentum = 0.9,weight_decay = 5e-4,nesterov = True)\n",
    "            scheduler = torch.optim.lr_scheduler.CosineAnnealingLR(optimizer, T_max=N_EPOCHS)\n",
    "            model_trainer = TE.Trainer(model,optimizer,loss_criterion, None,data.test_dataloader,lr_scheduler = scheduler)\n",
    "            model_trainer.fit(data.train_dataloader,N_EPOCHS, live_plot = LIVE_PLOT,save_checkpoint = SAVE_CHECKPOINT,PATH = weights_path)\n",
    "            print(f'model = {MODEL_ARC}, Data = {DATA}')\n",
    "\n",
    "            model.eval()\n",
    "            acc = TE.model_acc(model,data.train_dataloader)\n",
    "            print('Conjunto de treinamento: acc = ', acc)\n",
    "            acc = TE.model_acc(model,data.test_dataloader)\n",
    "            print('Conjunto de teste: acc = ', acc)\n",
    "            print(f'Conjunto de teste: MAX acc (argmax epoch) = {max(model_trainer.hist_val.acc_list)}({np.argmax(model_trainer.hist_val.acc_list)})')\n",
    "\n",
    "            if SAVE_ALL:\n",
    "                model_trainer.save_all(weights_path, PATH_TRAINER,name)"
   ]
  },
  {
   "cell_type": "markdown",
   "metadata": {
    "tags": []
   },
   "source": [
    "### Tiny Image Net"
   ]
  },
  {
   "cell_type": "code",
   "execution_count": null,
   "metadata": {},
   "outputs": [],
   "source": [
    "for MODEL_ARC in ['ResNet50','VGG16_BN','ResNet18','EfficientNetB0_b0','ConvNeXt_Small']:\n",
    "    for DATA in ['TinyImageNet']:\n",
    "        for N_ENS in range(4):\n",
    "            name = MODEL_ARC + '_' + DATA + str(N_ENS)\n",
    "            data = torch_data.__dict__[DATA](data_dir = DATA_PATH)\n",
    "            num_classes = data.n_classes\n",
    "            model_class = models.pytorch.__dict__[MODEL_ARC.lower()]\n",
    "            weights_path = os.path.join(PATH_MODELS,MODEL_ARC,DATA)\n",
    "\n",
    "            if CREATE_DIR and not os.path.isdir(weights_path):\n",
    "                os.makedirs(weights_path)\n",
    "\n",
    "            model = model_class(num_classes = data.n_classes,weights = models.pretrained_models[model_class]).to(dev)\n",
    "            model.name = name\n",
    "            optimizer = torch.optim.SGD(model.parameters(), lr=0.1,momentum = 0.9,weight_decay = 5e-4)\n",
    "            scheduler = torch.optim.lr_scheduler.CosineAnnealingLR(optimizer, T_max=N_EPOCHS)\n",
    "            model_trainer = TE.Trainer(model,optimizer,loss_criterion, None,data.test_dataloader,lr_scheduler = scheduler)\n",
    "            model_trainer.fit(data.train_dataloader,N_EPOCHS, live_plot = LIVE_PLOT,save_checkpoint = SAVE_CHECKPOINT,PATH = weights_path)\n",
    "            print(f'model = {MODEL_ARC}, Data = {DATA}')\n",
    "\n",
    "            model.eval()\n",
    "            acc = TE.model_acc(model,data.train_dataloader)\n",
    "            print('Conjunto de treinamento: acc = ', acc)\n",
    "            acc = TE.model_acc(model,data.test_dataloader)\n",
    "            print('Conjunto de teste: acc = ', acc)\n",
    "            print(f'Conjunto de teste: MAX acc (argmax epoch) = {max(model_trainer.hist_val.acc_list)}({np.argmax(model_trainer.hist_val.acc_list)})')\n",
    "\n",
    "            if SAVE_ALL:\n",
    "                model_trainer.save_all(weights_path, PATH_TRAINER,name)"
   ]
  },
  {
   "cell_type": "code",
   "execution_count": null,
   "metadata": {},
   "outputs": [],
   "source": []
  }
 ],
 "metadata": {
  "kernelspec": {
   "display_name": "Python 3",
   "language": "python",
   "name": "python3"
  },
  "language_info": {
   "codemirror_mode": {
    "name": "ipython",
    "version": 3
   },
   "file_extension": ".py",
   "mimetype": "text/x-python",
   "name": "python",
   "nbconvert_exporter": "python",
   "pygments_lexer": "ipython3",
   "version": "3.8.8"
  },
  "vscode": {
   "interpreter": {
    "hash": "b8939ae6302d706547273c597dd3be7d36d3b4c2b9aa367c9a420125c13753bf"
   }
  }
 },
 "nbformat": 4,
 "nbformat_minor": 4
}

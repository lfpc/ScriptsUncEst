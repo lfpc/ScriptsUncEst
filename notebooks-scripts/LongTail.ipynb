{
 "cells": [
  {
   "cell_type": "code",
   "execution_count": null,
   "metadata": {},
   "outputs": [],
   "source": [
    "import os\n",
    "REPOSITORY_PATH = r'/home/luis-felipe/UncEst'\n",
    "DATA_PATH = os.path.join(REPOSITORY_PATH,'data')\n",
    "#CORRUPTED_DATA_PATH = os.path.join(DATA_PATH,'corrupted')\n",
    "\n",
    "PATH_MODELS = os.path.join(REPOSITORY_PATH,'torch_models')\n",
    "PATH_TRAINER = os.path.join(PATH_MODELS,'trainer')\n",
    "\n",
    "PATH_FIGS = os.path.join(REPOSITORY_PATH,'figs','MCDropout')"
   ]
  },
  {
   "cell_type": "code",
   "execution_count": 14,
   "metadata": {},
   "outputs": [],
   "source": [
    "import torch\n",
    "import numpy as np\n",
    "import pandas as pd\n",
    "import matplotlib\n",
    "from matplotlib import pyplot as plt\n",
    "from collections import defaultdict\n",
    "import random\n",
    "from copy import copy,deepcopy"
   ]
  },
  {
   "cell_type": "code",
   "execution_count": 15,
   "metadata": {},
   "outputs": [
    {
     "name": "stdout",
     "output_type": "stream",
     "text": [
      "True\n"
     ]
    }
   ],
   "source": [
    "# Define o computador utilizado como cuda (gpu) se existir ou cpu caso contrário\n",
    "print(torch.cuda.is_available())\n",
    "dev = torch.device('cuda') if torch.cuda.is_available() else torch.device('cpu')"
   ]
  },
  {
   "cell_type": "code",
   "execution_count": 16,
   "metadata": {},
   "outputs": [],
   "source": [
    "import NN_models as models\n",
    "import NN_utils as utils\n",
    "import NN_utils.train_and_eval as TE\n",
    "import torch_data"
   ]
  },
  {
   "cell_type": "code",
   "execution_count": 17,
   "metadata": {},
   "outputs": [],
   "source": [
    "import uncertainty.metrics as metrics\n",
    "from uncertainty.MonteCarlo_Dropout import MonteCarloDropout"
   ]
  },
  {
   "cell_type": "code",
   "execution_count": 18,
   "metadata": {},
   "outputs": [
    {
     "data": {
      "text/plain": [
       "Trainining data length = 0 \n",
       "Validation data length = 0 \n",
       " Test data length = 10000"
      ]
     },
     "execution_count": 18,
     "metadata": {},
     "output_type": "execute_result"
    }
   ],
   "source": [
    "data"
   ]
  },
  {
   "cell_type": "code",
   "execution_count": 19,
   "metadata": {},
   "outputs": [
    {
     "name": "stdout",
     "output_type": "stream",
     "text": [
      "Files already downloaded and verified\n",
      "Files already downloaded and verified\n"
     ]
    }
   ],
   "source": [
    "MODEL_ARC = 'ResNet50'\n",
    "REAL_DATA = 'Cifar10'\n",
    "DATA = 'ImbalanceBinary'+REAL_DATA\n",
    "IMB_RATIO = 0.01\n",
    "NAME = MODEL_ARC +'_' + DATA\n",
    "\n",
    "WEIGTH_FILE = f'_{IMB_RATIO}_'\n",
    "data_real = torch_data.__dict__[REAL_DATA](data_dir = DATA_PATH, train = False)\n",
    "Binary_LT_data = torch_data.__dict__[DATA](data_dir = DATA_PATH,train= False)\n",
    "data = Binary_data = torch_data.src.Binary_DataGenerators(deepcopy(data_real))\n",
    "model_class = models.__dict__[MODEL_ARC]\n",
    "\n",
    "weights_path = os.path.join(PATH_MODELS,MODEL_ARC,DATA)"
   ]
  },
  {
   "cell_type": "code",
   "execution_count": 20,
   "metadata": {
    "jupyter": {
     "source_hidden": true
    }
   },
   "outputs": [],
   "source": [
    "def weights_files(weights_path):\n",
    "    #Get all weight files in weights_path\n",
    "    files = [f for f in os.listdir(weights_path) if os.path.isfile(os.path.join(weights_path, f)) and f.endswith(\".pt\")]\n",
    "    files = sorted(files)\n",
    "    return files\n",
    "\n",
    "def upload_weights(file, weights_path):\n",
    "    \n",
    "    def file_with_name(name,files):\n",
    "        for f in files:\n",
    "            if name in f:\n",
    "                return f\n",
    "        else: raise Exception(f\"No file with {name} in files list\")\n",
    "\n",
    "    files = weights_files(weights_path)\n",
    "\n",
    "    if isinstance(file,int):\n",
    "        weights = files[file]\n",
    "        weights = os.path.join(weights_path,weights)\n",
    "    elif file == 'random':\n",
    "        weights = random.choice(files)\n",
    "        weights = os.path.join(weights_path,weights)\n",
    "    elif file == 'max':\n",
    "        return upload_weights(0, weights_path)\n",
    "    elif isinstance(file,str):\n",
    "        if file in files:\n",
    "            weights = os.path.join(weights_path,file)\n",
    "        elif file+'.pt' in files:\n",
    "            weights = os.path.join(weights_path,file+'.pt')\n",
    "        else:\n",
    "            file = file_with_name(file,files)\n",
    "            return upload_weights(file, weights_path)\n",
    "    else: raise Exception(\"No correct file specified\")\n",
    "    state_dict = torch.load(weights)\n",
    "    return state_dict"
   ]
  },
  {
   "cell_type": "code",
   "execution_count": 21,
   "metadata": {},
   "outputs": [
    {
     "name": "stdout",
     "output_type": "stream",
     "text": [
      "Acurácia (modelo determinístico): 86.66\n"
     ]
    }
   ],
   "source": [
    "model = model_class(num_classes = 1).to(dev)\n",
    "model.classifier = torch.nn.Sequential(model.classifier, torch.nn.Sigmoid())\n",
    "model.eval()\n",
    "model.load_state_dict(upload_weights(WEIGTH_FILE, weights_path))\n",
    "print(f'Acurácia (modelo determinístico): {TE.model_acc(model,data.test_dataloader)}')"
   ]
  },
  {
   "cell_type": "code",
   "execution_count": 22,
   "metadata": {},
   "outputs": [],
   "source": [
    "hits = dict.fromkeys(sorted(data_real.test_data.targets),0)"
   ]
  },
  {
   "cell_type": "code",
   "execution_count": 23,
   "metadata": {},
   "outputs": [],
   "source": [
    "with torch.no_grad():\n",
    "    hits = dict.fromkeys(sorted(data_real.test_data.targets),0)\n",
    "    for im,label in data_real.test_dataloader:\n",
    "        im,label = im.to(dev),label.to(dev)\n",
    "        label_binary = label%2\n",
    "        output = model(im)\n",
    "        correct = TE.correct_class(output,label_binary)\n",
    "        for i,l in enumerate(label):\n",
    "            hits[l.item()] += correct[i].int().item()\n",
    "    "
   ]
  },
  {
   "cell_type": "code",
   "execution_count": 24,
   "metadata": {},
   "outputs": [
    {
     "data": {
      "text/plain": [
       "{0: 987,\n",
       " 1: 980,\n",
       " 2: 951,\n",
       " 3: 794,\n",
       " 4: 904,\n",
       " 5: 836,\n",
       " 6: 874,\n",
       " 7: 702,\n",
       " 8: 880,\n",
       " 9: 758}"
      ]
     },
     "execution_count": 24,
     "metadata": {},
     "output_type": "execute_result"
    }
   ],
   "source": [
    "hits"
   ]
  },
  {
   "cell_type": "code",
   "execution_count": 25,
   "metadata": {},
   "outputs": [
    {
     "data": {
      "text/plain": [
       "[<matplotlib.lines.Line2D at 0x7fdc6d0ddcd0>]"
      ]
     },
     "execution_count": 25,
     "metadata": {},
     "output_type": "execute_result"
    },
    {
     "data": {
      "image/png": "[encoded data removed]",
      "text/plain": [
       "<Figure size 432x288 with 1 Axes>"
      ]
     },
     "metadata": {
      "needs_background": "light"
     },
     "output_type": "display_data"
    }
   ],
   "source": [
    "plt.plot(hits.keys(),hits.values())"
   ]
  },
  {
   "cell_type": "code",
   "execution_count": null,
   "metadata": {},
   "outputs": [],
   "source": []
  }
 ],
 "metadata": {
  "kernelspec": {
   "display_name": "Python 3",
   "language": "python",
   "name": "python3"
  },
  "language_info": {
   "codemirror_mode": {
    "name": "ipython",
    "version": 3
   },
   "file_extension": ".py",
   "mimetype": "text/x-python",
   "name": "python",
   "nbconvert_exporter": "python",
   "pygments_lexer": "ipython3",
   "version": "3.8.5"
  }
 },
 "nbformat": 4,
 "nbformat_minor": 4
}

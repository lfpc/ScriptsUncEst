{
 "cells": [
  {
   "cell_type": "markdown",
   "metadata": {
    "tags": []
   },
   "source": [
    "# Libs and pre-definitions"
   ]
  },
  {
   "cell_type": "code",
   "execution_count": 1,
   "metadata": {},
   "outputs": [],
   "source": [
    "import os\n",
    "REPOSITORY_PATH = r'/home/luis-felipe/UncEst'\n",
    "DATA_PATH = os.path.join(REPOSITORY_PATH,'data')\n",
    "#CORRUPTED_DATA_PATH = os.path.join(DATA_PATH,'corrupted')\n",
    "\n",
    "PATH_MODELS = os.path.join(REPOSITORY_PATH,'torch_models')\n",
    "PATH_TRAINER = os.path.join(PATH_MODELS,'trainer')"
   ]
  },
  {
   "cell_type": "markdown",
   "metadata": {
    "heading_collapsed": "true",
    "tags": []
   },
   "source": [
    "### Bibliotecas padrões python e utils pytorch"
   ]
  },
  {
   "cell_type": "code",
   "execution_count": 2,
   "metadata": {},
   "outputs": [],
   "source": [
    "import torch\n",
    "import numpy as np\n",
    "import pandas as pd\n",
    "import matplotlib\n",
    "from matplotlib import pyplot as plt\n",
    "from torch import nn"
   ]
  },
  {
   "cell_type": "code",
   "execution_count": 3,
   "metadata": {},
   "outputs": [
    {
     "name": "stdout",
     "output_type": "stream",
     "text": [
      "True\n"
     ]
    }
   ],
   "source": [
    "# Define o computador utilizado como cuda (gpu) se existir ou cpu caso contrário\n",
    "print(torch.cuda.is_available())\n",
    "dev = torch.device('cuda') if torch.cuda.is_available() else torch.device('cpu')"
   ]
  },
  {
   "cell_type": "markdown",
   "metadata": {
    "tags": []
   },
   "source": [
    "### Bibliotecas desenvolvidas\n",
    "\n",
    "https://github.com/lfpc/Uncertainty_Estimation"
   ]
  },
  {
   "cell_type": "code",
   "execution_count": 4,
   "metadata": {},
   "outputs": [],
   "source": [
    "import NN_models as models\n",
    "import NN_utils as utils\n",
    "import NN_utils.train_and_eval as TE\n",
    "import torch_data\n",
    "from uncertainty import metrics"
   ]
  },
  {
   "cell_type": "markdown",
   "metadata": {
    "heading_collapsed": "true",
    "tags": []
   },
   "source": [
    "# Base Model"
   ]
  },
  {
   "cell_type": "markdown",
   "metadata": {},
   "source": [
    "## Definitions"
   ]
  },
  {
   "cell_type": "code",
   "execution_count": 5,
   "metadata": {},
   "outputs": [],
   "source": [
    "MODEL_ARC = 'ResNet50'#WideResNet ResNet101,ResNet18,ResNet34,ResNet50 CNN8\n",
    "DATA = 'Cifar100'\n",
    "NAME = f'{MODEL_ARC}_{DATA}_g'"
   ]
  },
  {
   "cell_type": "code",
   "execution_count": 6,
   "metadata": {},
   "outputs": [],
   "source": [
    "VAL_SIZE = 0.1\n",
    "data_params = {'train_batch_size': 128, 'validation_size': VAL_SIZE, 'test_batch_size': 100}"
   ]
  },
  {
   "cell_type": "code",
   "execution_count": 7,
   "metadata": {},
   "outputs": [],
   "source": [
    "TRAIN = False"
   ]
  },
  {
   "cell_type": "code",
   "execution_count": 8,
   "metadata": {},
   "outputs": [],
   "source": [
    "CREATE_DIR = True #If true, creates directories to save model (weights_path)\n",
    "LIVE_PLOT = True #If True, plot* loss while training. If 'print', print loss per epoch\n",
    "SAVE_CHECKPOINT = True #If True, save (and update) model weights for the best epoch (smallest validation loss)\n",
    "SAVE_ALL = False #If True, saves weights and trainer at the end of training"
   ]
  },
  {
   "cell_type": "code",
   "execution_count": 9,
   "metadata": {},
   "outputs": [
    {
     "name": "stdout",
     "output_type": "stream",
     "text": [
      "Files already downloaded and verified\n",
      "Files already downloaded and verified\n"
     ]
    }
   ],
   "source": [
    "data = torch_data.__dict__[DATA](data_dir = DATA_PATH,validation_as_train = True,params = data_params)\n",
    "num_classes = data.n_classes\n",
    "model_class = models.__dict__[MODEL_ARC]\n",
    "\n",
    "weights_path = os.path.join(PATH_MODELS,MODEL_ARC,DATA, 'Uncertainty_Regressor')\n",
    "\n",
    "if CREATE_DIR and not os.path.isdir(weights_path):\n",
    "    os.makedirs(weights_path)"
   ]
  },
  {
   "cell_type": "markdown",
   "metadata": {
    "heading_collapsed": "true"
   },
   "source": [
    "## Upload Base Model"
   ]
  },
  {
   "cell_type": "code",
   "execution_count": 10,
   "metadata": {},
   "outputs": [],
   "source": [
    "if not TRAIN:\n",
    "    if DATA == 'ImageNet':\n",
    "        weights = models.pretrained_models[model_class]\n",
    "        pre_model = model_class(weights = weights).to(dev)\n",
    "        data.transforms_test = weights.transforms()\n",
    "    else:\n",
    "        pre_model = model_class(num_classes = data.n_classes).to(dev)\n",
    "        pre_model.load_state_dict(utils.upload_weights(weights_path))"
   ]
  },
  {
   "cell_type": "markdown",
   "metadata": {
    "heading_collapsed": "true"
   },
   "source": [
    "## Train Base Model"
   ]
  },
  {
   "cell_type": "code",
   "execution_count": 11,
   "metadata": {},
   "outputs": [],
   "source": [
    "N_EPOCHS_BASE = 200\n",
    "loss_criterion = nn.CrossEntropyLoss()\n",
    "risk_dict = None#{'selective_risk_mcp':  lambda x,label: unc_comp.selective_risk(x,label,unc_type = unc.MCP_unc)}"
   ]
  },
  {
   "cell_type": "code",
   "execution_count": 12,
   "metadata": {},
   "outputs": [],
   "source": [
    "\n",
    "if TRAIN:\n",
    "    loss_criterion = nn.CrossEntropyLoss()\n",
    "    pre_model = model_class(num_classes = data.n_classes).to(dev)\n",
    "    optimizer = torch.optim.SGD(pre_model.parameters(), lr =0.1,momentum = 0.9,weight_decay = 5e-4,nesterov = True)\n",
    "    scheduler = torch.optim.lr_scheduler.CosineAnnealingLR(optimizer, T_max=N_EPOCHS_BASE)\n",
    "    model_trainer = TE.Trainer(pre_model,optimizer,loss_criterion, None,None,lr_scheduler = scheduler)\n",
    "    model_trainer.fit(data.train_dataloader,N_EPOCHS_BASE, live_plot = LIVE_PLOT,save_checkpoint = SAVE_CHECKPOINT,PATH = weights_path)"
   ]
  },
  {
   "cell_type": "markdown",
   "metadata": {
    "heading_collapsed": "true"
   },
   "source": [
    "## Base Model"
   ]
  },
  {
   "cell_type": "code",
   "execution_count": 13,
   "metadata": {},
   "outputs": [
    {
     "name": "stdout",
     "output_type": "stream",
     "text": [
      "Conjunto de treinamento: acc =  99.98222222222222\n",
      "Conjunto de validação: acc =  77.06\n",
      "Conjunto de teste: acc =  78.32\n"
     ]
    }
   ],
   "source": [
    "pre_model.eval()\n",
    "acc = TE.model_acc(pre_model,data.train_dataloader)\n",
    "print('Conjunto de treinamento: acc = ', acc)\n",
    "acc = TE.model_acc(pre_model,data.validation_dataloader)\n",
    "print('Conjunto de validação: acc = ', acc)\n",
    "acc = TE.model_acc(pre_model,data.test_dataloader)\n",
    "print('Conjunto de teste: acc = ', acc)"
   ]
  },
  {
   "cell_type": "markdown",
   "metadata": {
    "heading_collapsed": "true"
   },
   "source": [
    "# Uncertainty Estimator"
   ]
  },
  {
   "cell_type": "code",
   "execution_count": 14,
   "metadata": {},
   "outputs": [],
   "source": [
    "from uncertainty import MCP_unc, get_MCP, entropy\n",
    "beta_range = np.around(np.append(np.arange(0.1,1.5,0.01),np.arange(1.5,5.1,0.05)),2)\n",
    "outputs,labels = TE.accumulate_results(pre_model,data.test_dataloader)\n"
   ]
  },
  {
   "cell_type": "markdown",
   "metadata": {
    "heading_collapsed": "true"
   },
   "source": [
    "## Model Definition"
   ]
  },
  {
   "cell_type": "code",
   "execution_count": 15,
   "metadata": {},
   "outputs": [],
   "source": [
    "from torch.nn.functional import one_hot,softmax\n",
    "class Uncertainty_Estimator(nn.Module):\n",
    "    def __init__(self,model) -> None:\n",
    "        super().__init__()\n",
    "        self.Unc_Regressor = nn.Sequential(nn.Linear(data.n_classes,200),\n",
    "                                        nn.ReLU(),\n",
    "                                        #nn.Dropout(0.3),\n",
    "                                        nn.Linear(200,100),\n",
    "                                        nn.ReLU(),\n",
    "                                        nn.Linear(100,100),\n",
    "                                        nn.ReLU(),\n",
    "                                        #nn.Dropout(0.3),\n",
    "                                        nn.Linear(100,1), #globalpooling-max\n",
    "                                        nn.Sigmoid())\n",
    "        self.name = 'Unc_Estimator'\n",
    "        self.base_model = model\n",
    "        self.base_model.eval()\n",
    "        utils.freeze_params(self.base_model)\n",
    "    def forward(self,x):\n",
    "        with torch.no_grad():\n",
    "            logits = self.base_model(x)\n",
    "            y_pred = TE.predicted_class(logits).view(-1)\n",
    "            y = one_hot(y_pred,logits.size(-1))\n",
    "        g = self.Unc_Regressor(logits)\n",
    "        return y*g\n",
    "\n",
    "class Temp_Model(nn.Module):\n",
    "    def __init__(self, base_model,beta = 1.0) -> None:\n",
    "        super().__init__()\n",
    "        self.beta = beta\n",
    "        self.base_model = base_model\n",
    "    def forward(self):\n",
    "        logits = self.base_model(x)\n",
    "        return self.beta*logits"
   ]
  },
  {
   "cell_type": "markdown",
   "metadata": {
    "heading_collapsed": "true"
   },
   "source": [
    "## Model Training"
   ]
  },
  {
   "cell_type": "code",
   "execution_count": 16,
   "metadata": {},
   "outputs": [],
   "source": [
    "from uncertainty.metrics import acc_coverage\n",
    "\n",
    "class Acc_Coverage_AUX():\n",
    "    def __init__(self):\n",
    "        self.y_pred = 0\n",
    "        self.labels = 0\n",
    "    def update(self,model,dataloader):\n",
    "        self.y_pred, self.labels = TE.accumulate_results(model,dataloader)\n",
    "    def get(self):\n",
    "        return self.y_pred,self.labels\n",
    "aux = Acc_Coverage_AUX()\n",
    "\n",
    "class Acc_Coverage(nn.Module):\n",
    "    def __init__(self,coverage,aux):\n",
    "        super().__init__()\n",
    "        self.coverage = coverage\n",
    "        self.aux = aux\n",
    "    def forward(self,model,dataloader):\n",
    "        with torch.no_grad():\n",
    "            if self.coverage <0.15:\n",
    "                self.aux.update(model,dataloader)\n",
    "            y_pred,labels = self.aux.get()\n",
    "            g = torch.max(y_pred,dim=-1).values\n",
    "            acc = acc_coverage(y_pred,labels,g,self.coverage)\n",
    "            return torch.tensor(acc)"
   ]
  },
  {
   "cell_type": "code",
   "execution_count": 17,
   "metadata": {},
   "outputs": [],
   "source": [
    "c_list = np.around(np.arange(0.1,1,0.1),1)\n",
    "risk_dict = {f'Acc_{int(c*100)}':Acc_Coverage(c,aux) for c in c_list}\n",
    "N_EPOCHS= 50\n",
    "optim_params = {'lr':0.1,'momentum':0.9,'weight_decay':5e-4,'nesterov':True}"
   ]
  },
  {
   "cell_type": "markdown",
   "metadata": {},
   "source": [
    "# Metrics Test"
   ]
  },
  {
   "cell_type": "code",
   "execution_count": 461,
   "metadata": {},
   "outputs": [],
   "source": [
    "metrics_dict = {}"
   ]
  },
  {
   "cell_type": "code",
   "execution_count": 462,
   "metadata": {},
   "outputs": [],
   "source": [
    "def normalized_entropy(y,**kwargs):\n",
    "    return entropy(y,**kwargs)/np.log(data.n_classes)"
   ]
  },
  {
   "cell_type": "markdown",
   "metadata": {
    "heading_collapsed": "true"
   },
   "source": [
    "### ECE Loss"
   ]
  },
  {
   "cell_type": "code",
   "execution_count": 463,
   "metadata": {},
   "outputs": [],
   "source": [
    "from uncertainty.calibration import _ECELoss\n",
    "loss_ece = _ECELoss(n_bins = 10)"
   ]
  },
  {
   "cell_type": "code",
   "execution_count": 464,
   "metadata": {},
   "outputs": [],
   "source": [
    "eces = []\n",
    "for beta in beta_range:\n",
    "    y_pred = softmax(outputs*beta, dim=-1)\n",
    "    eces.append(loss_ece(y_pred,labels).item())\n",
    "metrics_dict['ECE'] = eces"
   ]
  },
  {
   "cell_type": "markdown",
   "metadata": {},
   "source": [
    "### NLL (CrossEntropy)"
   ]
  },
  {
   "cell_type": "code",
   "execution_count": 465,
   "metadata": {},
   "outputs": [],
   "source": [
    "loss_nll = nn.CrossEntropyLoss()"
   ]
  },
  {
   "cell_type": "code",
   "execution_count": 466,
   "metadata": {},
   "outputs": [],
   "source": [
    "nlls = []\n",
    "for beta in beta_range:\n",
    "    y_pred = outputs*beta\n",
    "    nlls.append(loss_nll(y_pred,labels).item())\n",
    "#metrics_dict['NLL'] = nlls"
   ]
  },
  {
   "cell_type": "markdown",
   "metadata": {},
   "source": [
    "### Brier"
   ]
  },
  {
   "cell_type": "markdown",
   "metadata": {},
   "source": [
    "Matthews correlation coefficient"
   ]
  },
  {
   "cell_type": "code",
   "execution_count": 467,
   "metadata": {},
   "outputs": [],
   "source": [
    "briers = []\n",
    "for beta in beta_range:\n",
    "    y_pred = softmax(outputs*beta,-1)\n",
    "    briers.append(metrics.Brier(y_pred,labels).item())\n",
    "#metrics_dict['Brier Score'] = briers"
   ]
  },
  {
   "cell_type": "markdown",
   "metadata": {
    "heading_collapsed": "true"
   },
   "source": [
    "### BCE Loss"
   ]
  },
  {
   "cell_type": "code",
   "execution_count": 468,
   "metadata": {},
   "outputs": [],
   "source": [
    "loss_bce = metrics.BCELoss_unc()"
   ]
  },
  {
   "cell_type": "code",
   "execution_count": 469,
   "metadata": {},
   "outputs": [],
   "source": [
    "bces = []\n",
    "for beta in beta_range:\n",
    "    y_pred = softmax(outputs*beta,-1)\n",
    "    bces.append(loss_bce(y_pred,labels).item())\n",
    "metrics_dict['BCE'] = bces"
   ]
  },
  {
   "cell_type": "markdown",
   "metadata": {},
   "source": [
    "### Mean Squared Loss"
   ]
  },
  {
   "cell_type": "code",
   "execution_count": 470,
   "metadata": {},
   "outputs": [],
   "source": [
    "loss_mse = metrics.MSELoss_unc()"
   ]
  },
  {
   "cell_type": "code",
   "execution_count": 471,
   "metadata": {},
   "outputs": [],
   "source": [
    "mses = []\n",
    "for beta in beta_range:\n",
    "    y_pred = softmax(outputs*beta,-1)\n",
    "    mses.append(loss_mse(y_pred,labels).item())\n",
    "#metrics_dict['MSE'] = mses"
   ]
  },
  {
   "cell_type": "markdown",
   "metadata": {
    "heading_collapsed": "true"
   },
   "source": [
    "### AUROC"
   ]
  },
  {
   "cell_type": "code",
   "execution_count": 472,
   "metadata": {},
   "outputs": [],
   "source": [
    "aurocs_mcp = []\n",
    "aurocs_entropy = []\n",
    "for beta in beta_range:\n",
    "    y_pred = softmax(outputs*beta,-1)\n",
    "    aurocs_mcp.append(metrics.AUROC(y_pred,labels,get_MCP(y_pred)).item())\n",
    "    aurocs_entropy.append(metrics.AUROC(y_pred,labels,-entropy(y_pred)).item())\n",
    "metrics_dict['AUROC'] = {'MCP':aurocs_mcp, 'Entropy': aurocs_entropy}"
   ]
  },
  {
   "cell_type": "markdown",
   "metadata": {
    "heading_collapsed": "true"
   },
   "source": [
    "### AURC"
   ]
  },
  {
   "cell_type": "code",
   "execution_count": 473,
   "metadata": {},
   "outputs": [],
   "source": [
    "aurcs_mcp = []\n",
    "aurcs_entropy = []\n",
    "for beta in beta_range:\n",
    "    y_pred = softmax(outputs*beta,-1)\n",
    "    aurcs_mcp.append(metrics.AURC(y_pred,labels,MCP_unc(y_pred)).item())\n",
    "    aurcs_entropy.append(metrics.AURC(y_pred,labels,entropy(y_pred)).item())\n",
    "metrics_dict['AURC'] = {'MCP':aurcs_mcp, 'Entropy': aurcs_entropy}"
   ]
  },
  {
   "cell_type": "markdown",
   "metadata": {},
   "source": [
    "### Selective Loss"
   ]
  },
  {
   "cell_type": "code",
   "execution_count": 474,
   "metadata": {},
   "outputs": [],
   "source": [
    "class error_loss(nn.Module):\n",
    "    def __init__(self,reduction = 'mean'):\n",
    "        super().__init__()\n",
    "        self.reduction = reduction\n",
    "    def forward(self,y_pred,y_true):\n",
    "        error = torch.logical_not(TE.correct_class(y_pred,y_true)).float()\n",
    "        if self.reduction == 'mean':\n",
    "            error = torch.mean(error)\n",
    "        elif self.reduction == 'sum':\n",
    "            error = torch.sum(error)\n",
    "        return error\n"
   ]
  },
  {
   "cell_type": "code",
   "execution_count": 475,
   "metadata": {},
   "outputs": [],
   "source": [
    "class Selective_Loss(nn.Module):\n",
    "    def __init__(self, loss_fn = error_loss):\n",
    "        super().__init__()\n",
    "        self.loss_fn = loss_fn(reduction = 'none')\n",
    "    def forward(self,y_pred,y_true,unc):\n",
    "        with torch.no_grad():\n",
    "            loss = self.loss_fn(y_pred,y_true)\n",
    "            unc = 1-unc\n",
    "            loss *= unc / torch.sum(unc)\n",
    "        return torch.sum(loss)\n",
    "loss_sl = Selective_Loss()"
   ]
  },
  {
   "cell_type": "code",
   "execution_count": 476,
   "metadata": {},
   "outputs": [],
   "source": [
    "selective_mcp = []\n",
    "selective_entropy = []\n",
    "for beta in beta_range:\n",
    "    y_pred = softmax(outputs*beta,-1)\n",
    "    selective_mcp.append(loss_sl(y_pred,labels,MCP_unc(y_pred)).item())\n",
    "    selective_entropy.append(loss_sl(y_pred,labels,normalized_entropy(y_pred)).item())\n",
    "metrics_dict['Selective Loss'] = {'MCP':selective_mcp, 'Entropy': selective_entropy}"
   ]
  },
  {
   "cell_type": "markdown",
   "metadata": {},
   "source": [
    "#### SelectiveNet Optimization"
   ]
  },
  {
   "cell_type": "code",
   "execution_count": 477,
   "metadata": {},
   "outputs": [],
   "source": [
    "class Selective_Net(Selective_Loss):\n",
    "    def __init__(self,lambd,c, loss_fn = error_loss):\n",
    "        super().__init__(loss_fn)\n",
    "        self.lambd = lambd\n",
    "        self.c = c\n",
    "    def constraint(self,g):\n",
    "        r = torch.mean(g)\n",
    "        return self.lambd*torch.square(torch.nn.functional.relu(self.c-r))\n",
    "    def forward(self,y_pred,y_true,unc):\n",
    "        loss = super().forward(y_pred,y_true,unc)\n",
    "        return loss + self.constraint(1-unc)\n",
    "loss_sl = Selective_Net(32,0.8)       "
   ]
  },
  {
   "cell_type": "code",
   "execution_count": 478,
   "metadata": {},
   "outputs": [],
   "source": [
    "selectiveNet_mcp = []\n",
    "selectiveNet_entropy = []\n",
    "for beta in beta_range:\n",
    "    y_pred = softmax(outputs*beta,-1)\n",
    "    selectiveNet_mcp.append(loss_sl(y_pred,labels,MCP_unc(y_pred)).item())\n",
    "    selectiveNet_entropy.append(loss_sl(y_pred,labels,normalized_entropy(y_pred)).item())\n",
    "metrics_dict['Selective Net Loss'] = {'MCP':selectiveNet_mcp, 'Entropy': selectiveNet_entropy}"
   ]
  },
  {
   "cell_type": "markdown",
   "metadata": {},
   "source": [
    "#### Acc Coverage"
   ]
  },
  {
   "cell_type": "code",
   "execution_count": 484,
   "metadata": {},
   "outputs": [],
   "source": [
    "AC_mcp = []\n",
    "AC_entropy = []\n",
    "for beta in beta_range:\n",
    "    y_pred = softmax(outputs*beta,-1)\n",
    "    AC_mcp.append(metrics.error_coverage(y_pred,labels,MCP_unc(y_pred), 0.8))\n",
    "    AC_entropy.append(metrics.error_coverage(y_pred,labels,normalized_entropy(y_pred),0.8))\n",
    "metrics_dict['Accuracy - 80% Coverage'] = {'MCP':AC_mcp, 'Entropy': AC_entropy}"
   ]
  },
  {
   "cell_type": "markdown",
   "metadata": {},
   "source": [
    "### Soft Ranking"
   ]
  },
  {
   "cell_type": "markdown",
   "metadata": {},
   "source": [
    "#### Differentiable Spearman"
   ]
  },
  {
   "cell_type": "code",
   "execution_count": 481,
   "metadata": {},
   "outputs": [],
   "source": [
    "from fast_soft_sort.pytorch_ops import soft_rank, soft_sort\n",
    "from scipy.stats import pearsonr\n",
    "class Spearman(nn.Module):\n",
    "    def __init__(self, regularization):\n",
    "        super().__init__()\n",
    "        self.reg = regularization\n",
    "        self.error_loss = error_loss(reduction = 'none')\n",
    "    def forward(self,y_pred,labels,unc):\n",
    "        error = self.error_loss(y_pred,labels)\n",
    "        soft_error = soft_rank(error.cpu().view(1,-1),regularization_strength=self.reg)\n",
    "        soft_unc = soft_rank(unc.cpu().view(1,-1),regularization_strength=self.reg)\n",
    "        spearman = torch.corrcoef(torch.cat((soft_error,soft_unc)))\n",
    "        return -spearman[0,1]\n",
    "spearman_loss = Spearman(1.0)"
   ]
  },
  {
   "cell_type": "code",
   "execution_count": 482,
   "metadata": {},
   "outputs": [],
   "source": [
    "REG = 1.0\n",
    "fss_mcp = []\n",
    "fss_entropy = []\n",
    "for beta in beta_range:\n",
    "    y_pred = softmax(outputs*beta,-1)\n",
    "    fss_mcp.append(spearman_loss(y_pred,labels,MCP_unc(y_pred)).item())\n",
    "    fss_entropy.append(spearman_loss(y_pred,labels,entropy(y_pred)).item())\n",
    "metrics_dict['Spearman'] = {'MCP':fss_mcp, 'Entropy': fss_entropy}"
   ]
  },
  {
   "cell_type": "markdown",
   "metadata": {},
   "source": [
    "## Plot"
   ]
  },
  {
   "cell_type": "code",
   "execution_count": 485,
   "metadata": {},
   "outputs": [
    {
     "data": {
      "image/png": "[encoded data removed]",
      "text/plain": [
       "<Figure size 720x1008 with 8 Axes>"
      ]
     },
     "metadata": {
      "needs_background": "light"
     },
     "output_type": "display_data"
    }
   ],
   "source": [
    "from itertools import chain\n",
    "def add_plot_ax(ax,metric,name,color, beta_range = beta_range, vline_color = 'k'):\n",
    "    beta_star = beta_range[np.argmin(metric)]\n",
    "    ax.plot(beta_range,metric, label = name,color=color,linewidth = 2)\n",
    "    ax.axvline(beta_star,linestyle = '--', color = vline_color)\n",
    "    return beta_star\n",
    "\n",
    "colors = chain(iter(matplotlib.colors.TABLEAU_COLORS.keys()),iter(matplotlib.colors.BASE_COLORS.keys()),iter(matplotlib.colors.TABLEAU_COLORS.keys()))\n",
    "fig,axes = plt.subplots(len(metrics_dict),1, figsize = (10,14),sharex = True)\n",
    "axes[-1].set_xlabel(r'$\\beta$ (Coolness)')\n",
    "\n",
    "idx = 0\n",
    "for name,metric in metrics_dict.items():\n",
    "    ax = axes[idx]\n",
    "    color = next(colors)\n",
    "    if isinstance(metric,dict):\n",
    "        beta_stars = []\n",
    "        for suffix,m in metric.items():\n",
    "            beta_stars.append(add_plot_ax(ax,m,f'{name} - {suffix}',color,vline_color = color))\n",
    "            color = next(colors)\n",
    "        legend2 = ax.legend([ax.get_lines()[i] for i in [1,3]], [fr'$\\beta$* = {beta_star:.2f}' for beta_star in beta_stars], \n",
    "                            loc='upper left',bbox_to_anchor=((max(beta_stars)+0.1)/np.max(beta_range), 0.9))\n",
    "    else:      \n",
    "        beta_star = add_plot_ax(ax,metric,name, color)\n",
    "        legend2 = ax.legend([ax.get_lines()[1]], [fr'$\\beta$* = {beta_star:.2f}'], loc='upper left',bbox_to_anchor=(beta_star*1.1/np.max(beta_range), 0.7))\n",
    "    ax.add_artist(legend2)\n",
    "    idx+=1\n",
    "for ax in axes:\n",
    "    ax.grid()\n",
    "    ax.legend(loc = 'center right')"
   ]
  },
  {
   "cell_type": "code",
   "execution_count": 488,
   "metadata": {},
   "outputs": [],
   "source": [
    "coverages = []\n",
    "for beta in beta_range:\n",
    "    y_pred = softmax(outputs*beta,-1)\n",
    "    coverages.append(torch.mean(get_MCP(y_pred)).item())"
   ]
  },
  {
   "cell_type": "code",
   "execution_count": 489,
   "metadata": {},
   "outputs": [
    {
     "data": {
      "image/png": "[encoded data removed]",
      "text/plain": [
       "<Figure size 432x288 with 1 Axes>"
      ]
     },
     "metadata": {
      "needs_background": "light"
     },
     "output_type": "display_data"
    }
   ],
   "source": [
    "plt.plot(beta_range,coverages)\n",
    "plt.grid()"
   ]
  },
  {
   "cell_type": "code",
   "execution_count": null,
   "metadata": {},
   "outputs": [],
   "source": [
    "sample_1 = torch.log(torch.tensor([0.6,0.2,0.2]))\n",
    "sample_2 = torch.log(torch.tensor([0.6,0.0001,0.3999]))\n",
    "sample_3 = torch.log(torch.tensor([0.6,0.1,0.3]))\n",
    "sample_4 = torch.log(torch.tensor([0.8,0.15,0.05]))\n",
    "sample_5 = torch.log(torch.tensor([0.4,0.3,0.3]))\n",
    "sample_6 = torch.log(torch.tensor([0.95,0.04,0.01]))\n",
    "sample_7 = torch.log(torch.tensor([0.94,0.04,0.02]))\n",
    "samples = torch.stack((sample_1,sample_2,sample_3,sample_4,sample_5,sample_6,sample_7))\n",
    "samples"
   ]
  },
  {
   "cell_type": "code",
   "execution_count": null,
   "metadata": {},
   "outputs": [],
   "source": [
    "softmax(samples,-1)"
   ]
  },
  {
   "cell_type": "code",
   "execution_count": null,
   "metadata": {},
   "outputs": [],
   "source": [
    "mcps = []\n",
    "ents = []\n",
    "for beta in beta_range:\n",
    "    y = softmax(samples*beta,-1)\n",
    "    y = torch.sort(y,-1,descending = True).values\n",
    "    mcps.append(get_MCP(y).tolist())\n",
    "    ents.append(entropy(y).tolist())\n",
    "mcps= torch.tensor(mcps)\n",
    "ents = torch.tensor(ents)"
   ]
  },
  {
   "cell_type": "code",
   "execution_count": null,
   "metadata": {},
   "outputs": [],
   "source": [
    "from ipywidgets import interactive,IntSlider\n",
    "%matplotlib inline\n",
    "fig = plt.figure()\n",
    "\n",
    "def plot_RC_widget(beta=1.0):\n",
    "    for i,s in enumerate(samples):\n",
    "        ax = axes[i]\n",
    "        y = softmax(s,-1)\n",
    "        y = torch.sort(y,-1,descending = True).values\n",
    "        ax.bar(y,1,width = 0.05,color = c)\n",
    "    \n",
    "    fig.canvas.draw_idle()\n",
    "    plt.ylim(0,0.22)\n",
    "    plt.grid()\n",
    "    plt.legend()\n",
    "    plt.show()\n",
    "interactive_plot = interactive(plot_RC_widget,beta=(0.1,5,0.05))\n",
    "interactive_plot"
   ]
  },
  {
   "cell_type": "code",
   "execution_count": null,
   "metadata": {},
   "outputs": [],
   "source": [
    "fig,axes = plt.subplots(samples.size(0),1, figsize = (9,14),sharex = True)\n",
    "axes[-1].set_xlabel(r'p')\n",
    "c = ['red', 'yellow', 'blue', 'orange']\n",
    "for i,s in enumerate(samples):\n",
    "    ax = axes[i]\n",
    "    y = softmax(s,-1)\n",
    "    y = torch.sort(y,-1,descending = True).values\n",
    "    ax.bar(y,1,width = 0.05,color = c)\n",
    "\n",
    "    ax.set_title(f'Sample {i+1}')\n",
    "    \n",
    "for ax in axes:\n",
    "    ax.grid()"
   ]
  },
  {
   "cell_type": "code",
   "execution_count": null,
   "metadata": {},
   "outputs": [],
   "source": [
    "fig,axes = plt.subplots(2,1, figsize = (9,7),sharex = True)\n",
    "axes[-1].set_xlabel(r'$\\beta$ (Coolness)')\n",
    "for i in range(samples.size(0)):\n",
    "    axes[0].plot(beta_range,mcps[:,i], label = f'Sample {i+1}')\n",
    "    \n",
    "    \n",
    "    axes[1].plot(beta_range,ents[:,i], label = f'Sample {i+1}')\n",
    "\n",
    "axes[0].set_title('MCP')\n",
    "axes[1].set_title('Entropy')\n",
    "for ax in axes:\n",
    "    ax.grid()\n",
    "    ax.legend()"
   ]
  },
  {
   "cell_type": "code",
   "execution_count": null,
   "metadata": {},
   "outputs": [],
   "source": [
    "fig,axes = plt.subplots(2,1, figsize = (9,7),sharex = True)\n",
    "axes[-1].set_xlabel(r'$\\beta$ (Coolness)')\n",
    "\n",
    "\n",
    "axes[0].plot(beta_range,mcps[:,-1]-mcps[:,-2], label = f'Sample {i+1}')\n",
    "\n",
    "\n",
    "axes[1].plot(beta_range,ents[:,-1]-ents[:,-2], label = f'Sample {i+1}')\n",
    "\n",
    "axes[0].set_title('MCP')\n",
    "axes[1].set_title('Entropy')\n",
    "for ax in axes:\n",
    "    ax.grid()\n",
    "    ax.legend()"
   ]
  },
  {
   "cell_type": "code",
   "execution_count": null,
   "metadata": {},
   "outputs": [],
   "source": [
    "ents[:,-2][-1]"
   ]
  },
  {
   "cell_type": "code",
   "execution_count": null,
   "metadata": {},
   "outputs": [],
   "source": []
  },
  {
   "cell_type": "code",
   "execution_count": null,
   "metadata": {},
   "outputs": [],
   "source": [
    "mcps[:,-1]-mcps[:,-2]"
   ]
  },
  {
   "cell_type": "code",
   "execution_count": null,
   "metadata": {},
   "outputs": [],
   "source": [
    "ents[:,-1]-ents[:,-2]"
   ]
  },
  {
   "cell_type": "code",
   "execution_count": null,
   "metadata": {},
   "outputs": [],
   "source": [
    "y = softmax(samples[-2:]*4.5,-1)"
   ]
  },
  {
   "cell_type": "code",
   "execution_count": null,
   "metadata": {},
   "outputs": [],
   "source": [
    "y"
   ]
  },
  {
   "cell_type": "code",
   "execution_count": null,
   "metadata": {},
   "outputs": [],
   "source": [
    "y.numpy()[0,0]"
   ]
  },
  {
   "cell_type": "code",
   "execution_count": null,
   "metadata": {},
   "outputs": [],
   "source": [
    "y.numpy()[0,0]"
   ]
  },
  {
   "cell_type": "code",
   "execution_count": null,
   "metadata": {},
   "outputs": [],
   "source": [
    "y[0,0].item()"
   ]
  },
  {
   "cell_type": "code",
   "execution_count": null,
   "metadata": {},
   "outputs": [],
   "source": [
    "y[1,0].item()"
   ]
  },
  {
   "cell_type": "code",
   "execution_count": null,
   "metadata": {},
   "outputs": [],
   "source": [
    "y.numpy()[1,0]"
   ]
  },
  {
   "cell_type": "code",
   "execution_count": null,
   "metadata": {},
   "outputs": [],
   "source": [
    "type(y[1,0].item())"
   ]
  },
  {
   "cell_type": "code",
   "execution_count": null,
   "metadata": {},
   "outputs": [],
   "source": []
  }
 ],
 "metadata": {
  "kernelspec": {
   "display_name": "Python 3",
   "language": "python",
   "name": "python3"
  },
  "language_info": {
   "codemirror_mode": {
    "name": "ipython",
    "version": 3
   },
   "file_extension": ".py",
   "mimetype": "text/x-python",
   "name": "python",
   "nbconvert_exporter": "python",
   "pygments_lexer": "ipython3",
   "version": "3.9.12"
  },
  "vscode": {
   "interpreter": {
    "hash": "b8939ae6302d706547273c597dd3be7d36d3b4c2b9aa367c9a420125c13753bf"
   }
  }
 },
 "nbformat": 4,
 "nbformat_minor": 4
}

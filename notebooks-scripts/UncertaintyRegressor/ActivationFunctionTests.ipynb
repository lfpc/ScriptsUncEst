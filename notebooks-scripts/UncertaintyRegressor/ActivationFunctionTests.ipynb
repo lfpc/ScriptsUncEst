{
 "cells": [
  {
   "cell_type": "markdown",
   "metadata": {
    "tags": []
   },
   "source": [
    "# Libs and pre-definitions"
   ]
  },
  {
   "cell_type": "code",
   "execution_count": null,
   "metadata": {},
   "outputs": [],
   "source": [
    "import os\n",
    "REPOSITORY_PATH = r'/home/luis-felipe/UncEst'\n",
    "DATA_PATH = os.path.join(REPOSITORY_PATH,'data')\n",
    "#CORRUPTED_DATA_PATH = os.path.join(DATA_PATH,'corrupted')\n",
    "\n",
    "PATH_MODELS = os.path.join(REPOSITORY_PATH,'torch_models')\n",
    "PATH_TRAINER = os.path.join(PATH_MODELS,'trainer')"
   ]
  },
  {
   "cell_type": "markdown",
   "metadata": {
    "heading_collapsed": "true",
    "tags": []
   },
   "source": [
    "### Bibliotecas padrões python e utils pytorch"
   ]
  },
  {
   "cell_type": "code",
   "execution_count": null,
   "metadata": {},
   "outputs": [],
   "source": [
    "import torch\n",
    "import numpy as np\n",
    "import pandas as pd\n",
    "import matplotlib\n",
    "from matplotlib import pyplot as plt\n",
    "from torch import nn"
   ]
  },
  {
   "cell_type": "code",
   "execution_count": null,
   "metadata": {},
   "outputs": [],
   "source": [
    "# Define o computador utilizado como cuda (gpu) se existir ou cpu caso contrário\n",
    "print(torch.cuda.is_available())\n",
    "dev = torch.device('cuda') if torch.cuda.is_available() else torch.device('cpu')"
   ]
  },
  {
   "cell_type": "markdown",
   "metadata": {
    "heading_collapsed": "true",
    "tags": []
   },
   "source": [
    "### Bibliotecas desenvolvidas\n",
    "\n",
    "https://github.com/lfpc/Uncertainty_Estimation"
   ]
  },
  {
   "cell_type": "code",
   "execution_count": null,
   "metadata": {},
   "outputs": [],
   "source": [
    "import NN_models as models\n",
    "import NN_utils as utils\n",
    "import NN_utils.train_and_eval as TE\n",
    "import torch_data\n",
    "from uncertainty import metrics"
   ]
  },
  {
   "cell_type": "markdown",
   "metadata": {
    "tags": []
   },
   "source": [
    "# Base Model"
   ]
  },
  {
   "cell_type": "markdown",
   "metadata": {},
   "source": [
    "## Definitions"
   ]
  },
  {
   "cell_type": "code",
   "execution_count": null,
   "metadata": {},
   "outputs": [],
   "source": [
    "MODEL_ARC = 'ResNet50'#WideResNet ResNet101,ResNet18,ResNet34,ResNet50 CNN8\n",
    "DATA = 'Cifar100'\n",
    "NAME = f'{MODEL_ARC}_{DATA}_g'"
   ]
  },
  {
   "cell_type": "code",
   "execution_count": null,
   "metadata": {},
   "outputs": [],
   "source": [
    "VAL_SIZE = 0.1\n",
    "data_params = {'train_batch_size': 128, 'validation_size': VAL_SIZE, 'test_batch_size': 100}"
   ]
  },
  {
   "cell_type": "code",
   "execution_count": null,
   "metadata": {},
   "outputs": [],
   "source": [
    "TRAIN = True"
   ]
  },
  {
   "cell_type": "code",
   "execution_count": null,
   "metadata": {},
   "outputs": [],
   "source": [
    "CREATE_DIR = True #If true, creates directories to save model (weights_path)\n",
    "LIVE_PLOT = True #If True, plot* loss while training. If 'print', print loss per epoch\n",
    "SAVE_CHECKPOINT = True #If True, save (and update) model weights for the best epoch (smallest validation loss)\n",
    "SAVE_ALL = False #If True, saves weights and trainer at the end of training"
   ]
  },
  {
   "cell_type": "code",
   "execution_count": null,
   "metadata": {},
   "outputs": [],
   "source": [
    "data = torch_data.__dict__[DATA](data_dir = DATA_PATH,validation_as_train = True,params = data_params)\n",
    "num_classes = data.n_classes\n",
    "model_class = models.__dict__[MODEL_ARC]\n",
    "\n",
    "weights_path = os.path.join(PATH_MODELS,MODEL_ARC,DATA, 'Uncertainty_Regressor')\n",
    "\n",
    "if CREATE_DIR and not os.path.isdir(weights_path):\n",
    "    os.makedirs(weights_path)"
   ]
  },
  {
   "cell_type": "markdown",
   "metadata": {},
   "source": [
    "## Base Model"
   ]
  },
  {
   "cell_type": "markdown",
   "metadata": {},
   "source": [
    "### Upload Base Model"
   ]
  },
  {
   "cell_type": "code",
   "execution_count": null,
   "metadata": {},
   "outputs": [],
   "source": [
    "if not TRAIN:\n",
    "    if DATA == 'ImageNet':\n",
    "        weights = models.pretrained_models[model_class]\n",
    "        pre_model = model_class(weights = weights).to(dev)\n",
    "        data.transforms_test = weights.transforms()\n",
    "    else:\n",
    "        pre_model = model_class(num_classes = data.n_classes).to(dev)\n",
    "        pre_model.load_state_dict(utils.upload_weights(weights_path))"
   ]
  },
  {
   "cell_type": "markdown",
   "metadata": {},
   "source": [
    "### Train Base Model"
   ]
  },
  {
   "cell_type": "code",
   "execution_count": null,
   "metadata": {},
   "outputs": [],
   "source": [
    "N_EPOCHS_BASE = 200\n",
    "loss_criterion = nn.CrossEntropyLoss()\n",
    "risk_dict = None#{'selective_risk_mcp':  lambda x,label: unc_comp.selective_risk(x,label,unc_type = unc.MCP_unc)}"
   ]
  },
  {
   "cell_type": "code",
   "execution_count": null,
   "metadata": {},
   "outputs": [],
   "source": [
    "\n",
    "if TRAIN:\n",
    "    loss_criterion = nn.CrossEntropyLoss()\n",
    "    pre_model = model_class(num_classes = data.n_classes).to(dev)\n",
    "    optimizer = torch.optim.SGD(pre_model.parameters(), lr =0.1,momentum = 0.9,weight_decay = 5e-4,nesterov = True)\n",
    "    scheduler = torch.optim.lr_scheduler.CosineAnnealingLR(optimizer, T_max=N_EPOCHS_BASE)\n",
    "    model_trainer = TE.Trainer(pre_model,optimizer,loss_criterion, None,None,lr_scheduler = scheduler)\n",
    "    model_trainer.fit(data.train_dataloader,N_EPOCHS_BASE, live_plot = LIVE_PLOT,save_checkpoint = SAVE_CHECKPOINT,PATH = weights_path)"
   ]
  },
  {
   "cell_type": "markdown",
   "metadata": {},
   "source": [
    "### Base Model"
   ]
  },
  {
   "cell_type": "code",
   "execution_count": null,
   "metadata": {},
   "outputs": [],
   "source": [
    "pre_model.eval()\n",
    "acc = TE.model_acc(pre_model,data.train_dataloader)\n",
    "print('Conjunto de treinamento: acc = ', acc)\n",
    "acc = TE.model_acc(pre_model,data.validation_dataloader)\n",
    "print('Conjunto de validação: acc = ', acc)\n",
    "acc = TE.model_acc(pre_model,data.test_dataloader)\n",
    "print('Conjunto de teste: acc = ', acc)"
   ]
  },
  {
   "cell_type": "markdown",
   "metadata": {},
   "source": [
    "# Uncertainty Estimator"
   ]
  },
  {
   "cell_type": "code",
   "execution_count": null,
   "metadata": {},
   "outputs": [],
   "source": [
    "beta_range = np.around(np.append(np.arange(0.1,1,0.05),np.arange(1,5.1,0.05)),2)"
   ]
  },
  {
   "cell_type": "markdown",
   "metadata": {},
   "source": [
    "## Model Definition"
   ]
  },
  {
   "cell_type": "code",
   "execution_count": null,
   "metadata": {},
   "outputs": [],
   "source": [
    "from torch.nn.functional import one_hot\n",
    "class Uncertainty_Estimator(nn.Module):\n",
    "    def __init__(self,model) -> None:\n",
    "        super().__init__()\n",
    "        self.Unc_Regressor = nn.Sequential(nn.Linear(data.n_classes,200),\n",
    "                                        nn.ReLU(),\n",
    "                                        #nn.Dropout(0.3),\n",
    "                                        nn.Linear(200,100),\n",
    "                                        nn.ReLU(),\n",
    "                                        nn.Linear(100,100),\n",
    "                                        nn.ReLU(),\n",
    "                                        #nn.Dropout(0.3),\n",
    "                                        nn.Linear(100,1), #globalpooling-max\n",
    "                                        nn.Sigmoid())\n",
    "        self.name = 'Unc_Estimator'\n",
    "        self.base_model = model\n",
    "        self.base_model.eval()\n",
    "        utils.freeze_params(self.base_model)\n",
    "    def forward(self,x):\n",
    "        with torch.no_grad():\n",
    "            logits = self.base_model(x)\n",
    "            y_pred = TE.predicted_class(logits).view(-1)\n",
    "            y = one_hot(y_pred,logits.size(-1))\n",
    "        g = self.Unc_Regressor(logits)\n",
    "        return y*g\n",
    "\n",
    "class Temp_Model(nn.Module):\n",
    "    def __init__(self, base_model,beta = 1.0) -> None:\n",
    "        super().__init__()\n",
    "        self.beta = beta\n",
    "        self.base_model = base_model\n",
    "    def forward(self):\n",
    "        logits = self.base_model(x)\n",
    "        return self.beta*logits"
   ]
  },
  {
   "cell_type": "markdown",
   "metadata": {},
   "source": [
    "## Model Training"
   ]
  },
  {
   "cell_type": "code",
   "execution_count": null,
   "metadata": {},
   "outputs": [],
   "source": [
    "from uncertainty.metrics import acc_coverage\n",
    "\n",
    "class Acc_Coverage_AUX():\n",
    "    def __init__(self):\n",
    "        self.y_pred = 0\n",
    "        self.labels = 0\n",
    "    def update(self,model,dataloader):\n",
    "        self.y_pred, self.labels = TE.accumulate_results(model,dataloader)\n",
    "    def get(self):\n",
    "        return self.y_pred,self.labels\n",
    "aux = Acc_Coverage_AUX()\n",
    "\n",
    "class Acc_Coverage(nn.Module):\n",
    "    def __init__(self,coverage,aux):\n",
    "        super().__init__()\n",
    "        self.coverage = coverage\n",
    "        self.aux = aux\n",
    "    def forward(self,model,dataloader):\n",
    "        with torch.no_grad():\n",
    "            if self.coverage <0.15:\n",
    "                self.aux.update(model,dataloader)\n",
    "            y_pred,labels = self.aux.get()\n",
    "            g = torch.max(y_pred,dim=-1).values\n",
    "            acc = acc_coverage(y_pred,labels,g,self.coverage)\n",
    "            return torch.tensor(acc)"
   ]
  },
  {
   "cell_type": "code",
   "execution_count": null,
   "metadata": {},
   "outputs": [],
   "source": [
    "c_list = np.around(np.arange(0.1,1,0.1),1)\n",
    "risk_dict = {f'Acc_{int(c*100)}':Acc_Coverage(c,aux) for c in c_list}\n",
    "N_EPOCHS= 50\n",
    "optim_params = {'lr':0.1,'momentum':0.9,'weight_decay':5e-4,'nesterov':True}"
   ]
  },
  {
   "cell_type": "markdown",
   "metadata": {},
   "source": [
    "### BCE Loss"
   ]
  },
  {
   "cell_type": "markdown",
   "metadata": {},
   "source": [
    "#### Loss definition"
   ]
  },
  {
   "cell_type": "code",
   "execution_count": null,
   "metadata": {},
   "outputs": [],
   "source": [
    "class BCELoss(nn.BCELoss):\n",
    "    def __init__(self,**kwargs):\n",
    "        super().__init__(**kwargs)\n",
    "    def forward(self,y_pred,y_true):\n",
    "        with torch.no_grad():\n",
    "            hits = TE.correct_class(y_pred,y_true).float()\n",
    "        y_pred = torch.max(y_pred,-1).values\n",
    "        loss = super().forward(y_pred,hits)\n",
    "        return loss\n",
    "\n",
    "loss_criterion = BCELoss()"
   ]
  },
  {
   "cell_type": "markdown",
   "metadata": {},
   "source": [
    "#### Temperature Test"
   ]
  },
  {
   "cell_type": "code",
   "execution_count": null,
   "metadata": {},
   "outputs": [],
   "source": [
    "model = Temp_Model(pre_model).to(dev)\n",
    "model.name = 'Temperature_BCE'"
   ]
  },
  {
   "cell_type": "code",
   "execution_count": null,
   "metadata": {},
   "outputs": [],
   "source": []
  }
 ],
 "metadata": {
  "kernelspec": {
   "display_name": "Python 3.8.8 ('base')",
   "language": "python",
   "name": "python3"
  },
  "language_info": {
   "codemirror_mode": {
    "name": "ipython",
    "version": 3
   },
   "file_extension": ".py",
   "mimetype": "text/x-python",
   "name": "python",
   "nbconvert_exporter": "python",
   "pygments_lexer": "ipython3",
   "version": "3.9.12"
  },
  "vscode": {
   "interpreter": {
    "hash": "b8939ae6302d706547273c597dd3be7d36d3b4c2b9aa367c9a420125c13753bf"
   }
  }
 },
 "nbformat": 4,
 "nbformat_minor": 4
}

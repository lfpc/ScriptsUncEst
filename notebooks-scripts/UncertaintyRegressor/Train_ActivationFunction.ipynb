{
 "cells": [
  {
   "cell_type": "markdown",
   "metadata": {
    "heading_collapsed": "true",
    "tags": []
   },
   "source": [
    "# Libs and pre-definitions"
   ]
  },
  {
   "cell_type": "code",
   "execution_count": 1,
   "metadata": {},
   "outputs": [],
   "source": [
    "import os\n",
    "REPOSITORY_PATH = r'/home/luis-felipe/UncEst'\n",
    "DATA_PATH = os.path.join(REPOSITORY_PATH,'data')\n",
    "#CORRUPTED_DATA_PATH = os.path.join(DATA_PATH,'corrupted')\n",
    "\n",
    "PATH_MODELS = os.path.join(REPOSITORY_PATH,'torch_models')\n",
    "PATH_TRAINER = os.path.join(PATH_MODELS,'trainer')"
   ]
  },
  {
   "cell_type": "markdown",
   "metadata": {
    "heading_collapsed": "true",
    "tags": []
   },
   "source": [
    "### Bibliotecas padrões python e utils pytorch"
   ]
  },
  {
   "cell_type": "code",
   "execution_count": 2,
   "metadata": {},
   "outputs": [],
   "source": [
    "import torch\n",
    "import numpy as np\n",
    "import pandas as pd\n",
    "import matplotlib\n",
    "from matplotlib import pyplot as plt\n",
    "from torch import nn"
   ]
  },
  {
   "cell_type": "code",
   "execution_count": 3,
   "metadata": {},
   "outputs": [
    {
     "name": "stdout",
     "output_type": "stream",
     "text": [
      "True\n"
     ]
    }
   ],
   "source": [
    "# Define o computador utilizado como cuda (gpu) se existir ou cpu caso contrário\n",
    "print(torch.cuda.is_available())\n",
    "dev = torch.device('cuda') if torch.cuda.is_available() else torch.device('cpu')"
   ]
  },
  {
   "cell_type": "markdown",
   "metadata": {
    "heading_collapsed": "true",
    "tags": []
   },
   "source": [
    "### Bibliotecas desenvolvidas\n",
    "\n",
    "https://github.com/lfpc/Uncertainty_Estimation"
   ]
  },
  {
   "cell_type": "code",
   "execution_count": 4,
   "metadata": {},
   "outputs": [],
   "source": [
    "import NN_models as models\n",
    "import NN_utils as utils\n",
    "import NN_utils.train_and_eval as TE\n",
    "import torch_data\n",
    "from uncertainty import metrics"
   ]
  },
  {
   "cell_type": "markdown",
   "metadata": {
    "tags": []
   },
   "source": [
    "# Classifier"
   ]
  },
  {
   "cell_type": "markdown",
   "metadata": {},
   "source": [
    "## Definitions"
   ]
  },
  {
   "cell_type": "code",
   "execution_count": 5,
   "metadata": {},
   "outputs": [],
   "source": [
    "MODEL_ARC = 'ResNet50'#WideResNet ResNet101,ResNet18,ResNet34,ResNet50 CNN8\n",
    "DATA = 'Cifar100'"
   ]
  },
  {
   "cell_type": "code",
   "execution_count": 6,
   "metadata": {},
   "outputs": [],
   "source": [
    "TRAIN = False"
   ]
  },
  {
   "cell_type": "code",
   "execution_count": 7,
   "metadata": {},
   "outputs": [],
   "source": [
    "VAL_SIZE = 0.1\n",
    "\n",
    "loss_criterion = nn.CrossEntropyLoss()\n",
    "risk_dict = None#{'selective_risk_mcp':  lambda x,label: unc_comp.selective_risk(x,label,unc_type = unc.MCP_unc)}\n",
    "\n",
    "data_params = {'train_batch_size': 128, 'validation_size': VAL_SIZE, 'test_batch_size': 100}\n",
    "NAME = f'{MODEL_ARC}_{DATA}_Val10'"
   ]
  },
  {
   "cell_type": "code",
   "execution_count": 8,
   "metadata": {},
   "outputs": [],
   "source": [
    "CREATE_DIR = True #If true, creates directories to save model (weights_path)\n",
    "LIVE_PLOT = True #If True, plot* loss while training. If 'print', print loss per epoch\n",
    "SAVE_CHECKPOINT = False #If True, save (and update) model weights for the best epoch (smallest validation loss)\n",
    "SAVE_ALL = False #If True, saves weights and trainer at the end of training"
   ]
  },
  {
   "cell_type": "code",
   "execution_count": 9,
   "metadata": {},
   "outputs": [
    {
     "name": "stdout",
     "output_type": "stream",
     "text": [
      "Files already downloaded and verified\n",
      "Files already downloaded and verified\n"
     ]
    }
   ],
   "source": [
    "data = torch_data.__dict__[DATA](data_dir = DATA_PATH,validation_as_train = True,params = data_params)\n",
    "num_classes = data.n_classes\n",
    "model_class = models.__dict__[MODEL_ARC]\n",
    "\n",
    "weights_path = os.path.join(PATH_MODELS,MODEL_ARC,DATA)\n",
    "\n",
    "if CREATE_DIR and not os.path.isdir(weights_path):\n",
    "    os.makedirs(weights_path)"
   ]
  },
  {
   "cell_type": "markdown",
   "metadata": {},
   "source": [
    "## Upload Base Model"
   ]
  },
  {
   "cell_type": "code",
   "execution_count": 10,
   "metadata": {},
   "outputs": [],
   "source": [
    "if not TRAIN:\n",
    "    if DATA == 'ImageNet':\n",
    "        weights = models.pretrained_models[model_class]\n",
    "        pre_model = model_class(weights = weights).to(dev)\n",
    "        data.transforms_test = weights.transforms()\n",
    "    else:\n",
    "        pre_model = model_class(num_classes = data.n_classes).to(dev)\n",
    "        pre_model.load_state_dict(utils.upload_weights(weights_path,NAME))"
   ]
  },
  {
   "cell_type": "markdown",
   "metadata": {
    "heading_collapsed": "true"
   },
   "source": [
    "## Train Base Model"
   ]
  },
  {
   "cell_type": "code",
   "execution_count": 11,
   "metadata": {},
   "outputs": [],
   "source": [
    "N_EPOCHS_0 = 200\n",
    "if TRAIN:\n",
    "    loss_criterion = nn.CrossEntropyLoss()\n",
    "    pre_model = model_class(num_classes = data.n_classes).to(dev)\n",
    "    optimizer = torch.optim.SGD(pre_model.parameters(), lr =0.1,momentum = 0.9,weight_decay = 5e-4,nesterov = True)\n",
    "    scheduler = torch.optim.lr_scheduler.CosineAnnealingLR(optimizer, T_max=N_EPOCHS_0)\n",
    "    model_trainer = TE.Trainer(pre_model,optimizer,loss_criterion, None,data.test_dataloader,lr_scheduler = scheduler)\n",
    "    model_trainer.fit(data.train_dataloader,N_EPOCHS_0, live_plot = LIVE_PLOT,save_checkpoint = SAVE_CHECKPOINT,PATH = weights_path)"
   ]
  },
  {
   "cell_type": "markdown",
   "metadata": {},
   "source": [
    "## Inference"
   ]
  },
  {
   "cell_type": "code",
   "execution_count": 12,
   "metadata": {},
   "outputs": [
    {
     "name": "stdout",
     "output_type": "stream",
     "text": [
      "Conjunto de treinamento: acc =  99.97333333333333\n",
      "Conjunto de validação: acc =  77.52\n",
      "Conjunto de teste: acc =  77.81\n"
     ]
    }
   ],
   "source": [
    "pre_model.eval()\n",
    "acc = TE.model_acc(pre_model,data.train_dataloader)\n",
    "print('Conjunto de treinamento: acc = ', acc)\n",
    "acc = TE.model_acc(pre_model,data.validation_dataloader)\n",
    "print('Conjunto de validação: acc = ', acc)\n",
    "acc = TE.model_acc(pre_model,data.test_dataloader)\n",
    "print('Conjunto de teste: acc = ', acc)"
   ]
  },
  {
   "cell_type": "markdown",
   "metadata": {},
   "source": [
    "# Uncertainty Estimator"
   ]
  },
  {
   "cell_type": "markdown",
   "metadata": {},
   "source": [
    "## Model Definition"
   ]
  },
  {
   "cell_type": "code",
   "execution_count": 13,
   "metadata": {},
   "outputs": [],
   "source": [
    "from torch.nn.functional import one_hot\n",
    "class Uncertainty_Estimator(nn.Module):\n",
    "    def __init__(self,model) -> None:\n",
    "        super().__init__()\n",
    "        self.Unc_Regressor = nn.Sequential(nn.Linear(data.n_classes,200),\n",
    "                                        nn.ReLU(),\n",
    "                                        #nn.Dropout(0.3),\n",
    "                                        nn.Linear(200,100),\n",
    "                                        nn.ReLU(),\n",
    "                                        nn.Linear(100,100),\n",
    "                                        nn.ReLU(),\n",
    "                                        #nn.Dropout(0.3),\n",
    "                                        nn.Linear(100,1), #globalpooling-max\n",
    "                                        nn.Sigmoid())\n",
    "        self.name = 'Unc_Estimator'\n",
    "        self.base_model = model\n",
    "        self.base_model.eval()\n",
    "        utils.freeze_params(self.base_model)\n",
    "        self.to(next(model.parameters()).device)\n",
    "    def train(self,b = True):\n",
    "        self.Unc_Regressor.train(b)\n",
    "    def forward(self,x):\n",
    "        with torch.no_grad():\n",
    "            logits = self.base_model(x)\n",
    "            y_pred = TE.predicted_class(logits).view(-1)\n",
    "            y = one_hot(y_pred,logits.size(-1))\n",
    "        g = self.Unc_Regressor(logits)\n",
    "        return y*g\n",
    "    def unc(self,x):\n",
    "        return -torch.max(self.forward(x),-1).values"
   ]
  },
  {
   "cell_type": "markdown",
   "metadata": {},
   "source": [
    "## Model Training"
   ]
  },
  {
   "cell_type": "markdown",
   "metadata": {},
   "source": [
    "### Definitions"
   ]
  },
  {
   "cell_type": "code",
   "execution_count": 14,
   "metadata": {},
   "outputs": [],
   "source": [
    "from uncertainty.metrics import acc_coverage\n",
    "\n",
    "class Acc_Coverage_AUX():\n",
    "    def __init__(self):\n",
    "        self.y_pred = 0\n",
    "        self.labels = 0\n",
    "    def update(self,model,dataloader):\n",
    "        self.y_pred, self.labels = TE.accumulate_results(model,dataloader)\n",
    "    def get(self):\n",
    "        return self.y_pred,self.labels\n",
    "aux = Acc_Coverage_AUX()\n",
    "\n",
    "class Acc_Coverage(nn.Module):\n",
    "    def __init__(self,coverage,aux):\n",
    "        super().__init__()\n",
    "        self.coverage = coverage\n",
    "        self.aux = aux\n",
    "    def forward(self,model,dataloader):\n",
    "        with torch.no_grad():\n",
    "            if self.coverage <0.15:\n",
    "                self.aux.update(model,dataloader)\n",
    "            y_pred,labels = self.aux.get()\n",
    "            g = torch.max(y_pred,dim=-1).values\n",
    "            acc = acc_coverage(y_pred,labels,1-g,self.coverage)\n",
    "            return torch.tensor(acc)"
   ]
  },
  {
   "cell_type": "code",
   "execution_count": 15,
   "metadata": {},
   "outputs": [],
   "source": [
    "c_list = np.around(np.arange(0.1,1,0.1),1)\n",
    "risk_dict = {f'Acc_{int(c*100)}':Acc_Coverage(c,aux) for c in c_list}\n",
    "N_EPOCHS= 2000\n",
    "optim_params = {'lr':0.001,'weight_decay':5e-4}#{'lr':0.1,'momentum':0.9,'weight_decay':5e-4,'nesterov':True}"
   ]
  },
  {
   "cell_type": "markdown",
   "metadata": {},
   "source": [
    "### BCE Loss"
   ]
  },
  {
   "cell_type": "markdown",
   "metadata": {
    "heading_collapsed": "true"
   },
   "source": [
    "#### Loss definition"
   ]
  },
  {
   "cell_type": "code",
   "execution_count": 16,
   "metadata": {},
   "outputs": [],
   "source": [
    "class BCELoss(nn.BCELoss):\n",
    "    def __init__(self,**kwargs):\n",
    "        super().__init__(**kwargs)\n",
    "    def forward(self,y_pred,y_true):\n",
    "        with torch.no_grad():\n",
    "            hits = TE.correct_class(y_pred,y_true).float()\n",
    "        y_pred = torch.max(y_pred,-1).values\n",
    "        loss = super().forward(y_pred,hits)\n",
    "        return loss\n",
    "\n",
    "loss_criterion = BCELoss()"
   ]
  },
  {
   "cell_type": "markdown",
   "metadata": {},
   "source": [
    "#### Train"
   ]
  },
  {
   "cell_type": "code",
   "execution_count": 17,
   "metadata": {},
   "outputs": [],
   "source": [
    "model = Uncertainty_Estimator(pre_model)\n",
    "model.name = 'Unc_Estimator_BCE'\n",
    "optimizer = torch.optim.SGD(model.Unc_Regressor.parameters(), **optim_params)\n",
    "scheduler = None#torch.optim.lr_scheduler.CosineAnnealingLR(optimizer, T_max=N_EPOCHS)"
   ]
  },
  {
   "cell_type": "code",
   "execution_count": 18,
   "metadata": {},
   "outputs": [
    {
     "data": {
      "text/plain": [
       "77.81"
      ]
     },
     "execution_count": 18,
     "metadata": {},
     "output_type": "execute_result"
    }
   ],
   "source": [
    "TE.model_acc(model,data.test_dataloader)"
   ]
  },
  {
   "cell_type": "code",
   "execution_count": 19,
   "metadata": {},
   "outputs": [],
   "source": [
    "model_trainer = TE.Trainer(model,optimizer,loss_criterion, data.validation_dataloader,data.test_dataloader,lr_scheduler = scheduler, risk_dict = risk_dict)\n"
   ]
  },
  {
   "cell_type": "code",
   "execution_count": null,
   "metadata": {},
   "outputs": [
    {
     "data": {
      "image/png": "[encoded data removed]",
      "text/plain": [
       "<Figure size 504x360 with 1 Axes>"
      ]
     },
     "metadata": {
      "needs_background": "light"
     },
     "output_type": "display_data"
    },
    {
     "data": {
      "application/vnd.jupyter.widget-view+json": {
       "model_id": "e7e99c8eb7a34bb4ac2c62296434dcb1",
       "version_major": 2,
       "version_minor": 0
      },
      "text/plain": [
       "Acc_val (max): 77.81 (77.81) | Loss: 0.5106 | Acc_train: 77.12 |Progress::   4%|3         | 76/2000 [56:50<23:…"
      ]
     },
     "metadata": {},
     "output_type": "display_data"
    }
   ],
   "source": [
    "model_trainer.fit(data.validation_dataloader,N_EPOCHS, live_plot = LIVE_PLOT,save_checkpoint = SAVE_CHECKPOINT,PATH = weights_path)"
   ]
  },
  {
   "cell_type": "code",
   "execution_count": null,
   "metadata": {},
   "outputs": [],
   "source": [
    "TE.model_acc(model,data.test_dataloader)"
   ]
  },
  {
   "cell_type": "code",
   "execution_count": null,
   "metadata": {},
   "outputs": [],
   "source": [
    "fig, (ax1,ax2) = plt.subplots(nrows=1,ncols=2,sharey = True,figsize=(16, 6))\n",
    "for n,risk in model_trainer.hist_train.risk.items():\n",
    "    c = n[-2:]\n",
    "    ax1.plot(risk,label = f'{c=}%')\n",
    "ax1.legend()\n",
    "ax1.grid()\n",
    "ax1.set_title('Coverage accuracy - Train (val) set')\n",
    "ax1.set_ylabel('Error rate')\n",
    "ax1.set_xlabel('Epoch')\n",
    "for n,risk in model_trainer.hist_val.risk.items():\n",
    "    c = n[-2:]\n",
    "    ax2.plot(risk,label = f'{c=}%')\n",
    "ax2.legend()\n",
    "ax2.grid()\n",
    "ax2.set_title('Coverage accuracy - Test set')\n",
    "ax2.set_xlabel('Epoch')\n",
    "plt.subplots_adjust(wspace=0.05)\n",
    "plt.show()"
   ]
  },
  {
   "cell_type": "markdown",
   "metadata": {},
   "source": [
    "#### Test"
   ]
  },
  {
   "cell_type": "code",
   "execution_count": null,
   "metadata": {},
   "outputs": [],
   "source": []
  },
  {
   "cell_type": "code",
   "execution_count": null,
   "metadata": {},
   "outputs": [],
   "source": [
    "#Validation (Train2) data\n",
    "RC = metrics.selective_metrics(pre_model,data.validation_dataloader)\n",
    "RC.add_uncs({'Trained Activation':model.Unc_Regressor})\n",
    "RC.d_uncs['Trained Activation'] = -RC.d_uncs['Trained Activation'].view(-1) #Confidence to uncertainty\n",
    "RC.plot_RC(optimal = True)"
   ]
  },
  {
   "cell_type": "code",
   "execution_count": null,
   "metadata": {
    "tags": []
   },
   "outputs": [],
   "source": [
    "#Test Data\n",
    "RC = metrics.selective_metrics(pre_model,data.test_dataloader)\n",
    "RC.add_uncs({'Trained Activation':model.Unc_Regressor})\n",
    "RC.d_uncs['Trained Activation'] = -RC.d_uncs['Trained Activation'].view(-1) #Confidence to uncertainty\n",
    "RC.plot_RC(optimal = True)"
   ]
  },
  {
   "cell_type": "code",
   "execution_count": null,
   "metadata": {},
   "outputs": [],
   "source": []
  },
  {
   "cell_type": "code",
   "execution_count": null,
   "metadata": {},
   "outputs": [],
   "source": []
  },
  {
   "cell_type": "code",
   "execution_count": null,
   "metadata": {},
   "outputs": [],
   "source": [
    "class error_loss(nn.Module):\n",
    "    def __init__(self,reduction = 'mean'):\n",
    "        super().__init__()\n",
    "        self.reduction = reduction\n",
    "    def forward(self,y_pred,y_true):\n",
    "        error = torch.logical_not(TE.correct_class(y_pred,y_true)).float()\n",
    "        if self.reduction == 'mean':\n",
    "            error = torch.mean(error)\n",
    "        elif self.reduction == 'sum':\n",
    "            error = torch.sum(error)\n",
    "        return error\n",
    "\n",
    "class Selective_Loss(nn.Module):\n",
    "    def __init__(self, loss_fn = error_loss):\n",
    "        super().__init__()\n",
    "        self.loss_fn = loss_fn(reduction = 'none')\n",
    "    def forward(self,y_pred,y_true):\n",
    "        with torch.no_grad():\n",
    "            loss = self.loss_fn(y_pred,y_true)\n",
    "            g = torch.max(y_pred,-1).values\n",
    "            loss *= g / torch.sum(g)\n",
    "        return torch.sum(loss)\n",
    "loss_sl = Selective_Loss()\n",
    "\n",
    "class Selective_Net(Selective_Loss):\n",
    "    def __init__(self,lambd,c, loss_fn = error_loss):\n",
    "        super().__init__(loss_fn)\n",
    "        self.lambd = lambd\n",
    "        self.c = c\n",
    "    def constraint(self,g):\n",
    "        r = torch.mean(g)\n",
    "        return self.lambd*torch.square(torch.nn.functional.relu(self.c-r))\n",
    "    def forward(self,y_pred,y_true):\n",
    "        g = torch.max(y_pred,-1).values\n",
    "        loss = super().forward(y_pred,y_true)\n",
    "        return loss + self.constraint(g)\n",
    "loss_criterion = Selective_Net(32,0.4)   "
   ]
  },
  {
   "cell_type": "code",
   "execution_count": null,
   "metadata": {},
   "outputs": [],
   "source": [
    "model = Uncertainty_Estimator(pre_model)\n",
    "model.name = 'Unc_Estimator_BCE'\n",
    "optimizer = torch.optim.SGD(model.Unc_Regressor.parameters(), **optim_params)\n",
    "scheduler = None#torch.optim.lr_scheduler.CosineAnnealingLR(optimizer, T_max=N_EPOCHS)"
   ]
  },
  {
   "cell_type": "code",
   "execution_count": null,
   "metadata": {},
   "outputs": [],
   "source": [
    "model_trainer = TE.Trainer(model,optimizer,loss_criterion, data.validation_dataloader,data.test_dataloader,lr_scheduler = scheduler, risk_dict = risk_dict)\n",
    "model_trainer.fit(data.validation_dataloader,N_EPOCHS+100+500+400, live_plot = LIVE_PLOT,save_checkpoint = SAVE_CHECKPOINT,PATH = weights_path)"
   ]
  },
  {
   "cell_type": "code",
   "execution_count": null,
   "metadata": {},
   "outputs": [],
   "source": []
  },
  {
   "cell_type": "code",
   "execution_count": null,
   "metadata": {},
   "outputs": [],
   "source": []
  }
 ],
 "metadata": {
  "kernelspec": {
   "display_name": "Python 3",
   "language": "python",
   "name": "python3"
  },
  "language_info": {
   "codemirror_mode": {
    "name": "ipython",
    "version": 3
   },
   "file_extension": ".py",
   "mimetype": "text/x-python",
   "name": "python",
   "nbconvert_exporter": "python",
   "pygments_lexer": "ipython3",
   "version": "3.8.5"
  },
  "vscode": {
   "interpreter": {
    "hash": "b8939ae6302d706547273c597dd3be7d36d3b4c2b9aa367c9a420125c13753bf"
   }
  }
 },
 "nbformat": 4,
 "nbformat_minor": 4
}

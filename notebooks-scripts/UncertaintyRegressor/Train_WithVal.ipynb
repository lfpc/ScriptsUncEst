{
 "cells": [
  {
   "cell_type": "markdown",
   "metadata": {
    "heading_collapsed": "true",
    "tags": []
   },
   "source": [
    "# Libs and pre-definitions"
   ]
  },
  {
   "cell_type": "code",
   "execution_count": 1,
   "metadata": {},
   "outputs": [],
   "source": [
    "import os\n",
    "REPOSITORY_PATH = r'/home/luis-felipe/UncEst'\n",
    "DATA_PATH = os.path.join(REPOSITORY_PATH,'data')\n",
    "#CORRUPTED_DATA_PATH = os.path.join(DATA_PATH,'corrupted')\n",
    "\n",
    "PATH_MODELS = os.path.join(REPOSITORY_PATH,'torch_models')\n",
    "PATH_TRAINER = os.path.join(PATH_MODELS,'trainer')"
   ]
  },
  {
   "cell_type": "markdown",
   "metadata": {
    "heading_collapsed": "true",
    "tags": []
   },
   "source": [
    "### Bibliotecas padrões python e utils pytorch"
   ]
  },
  {
   "cell_type": "code",
   "execution_count": 2,
   "metadata": {},
   "outputs": [],
   "source": [
    "import torch\n",
    "import numpy as np\n",
    "import pandas as pd\n",
    "import matplotlib\n",
    "from matplotlib import pyplot as plt\n",
    "from torch import nn"
   ]
  },
  {
   "cell_type": "code",
   "execution_count": 3,
   "metadata": {},
   "outputs": [
    {
     "name": "stdout",
     "output_type": "stream",
     "text": [
      "True\n"
     ]
    }
   ],
   "source": [
    "# Define o computador utilizado como cuda (gpu) se existir ou cpu caso contrário\n",
    "print(torch.cuda.is_available())\n",
    "dev = torch.device('cuda') if torch.cuda.is_available() else torch.device('cpu')"
   ]
  },
  {
   "cell_type": "markdown",
   "metadata": {
    "heading_collapsed": "true",
    "tags": []
   },
   "source": [
    "### Bibliotecas desenvolvidas\n",
    "\n",
    "https://github.com/lfpc/Uncertainty_Estimation"
   ]
  },
  {
   "cell_type": "code",
   "execution_count": 4,
   "metadata": {},
   "outputs": [],
   "source": [
    "import NN_models as models\n",
    "import NN_utils as utils\n",
    "import NN_utils.train_and_eval as TE\n",
    "import torch_data\n",
    "from uncertainty import metrics"
   ]
  },
  {
   "cell_type": "markdown",
   "metadata": {
    "tags": []
   },
   "source": [
    "# Classifier"
   ]
  },
  {
   "cell_type": "markdown",
   "metadata": {},
   "source": [
    "## Definitions"
   ]
  },
  {
   "cell_type": "code",
   "execution_count": 5,
   "metadata": {},
   "outputs": [],
   "source": [
    "MODEL_ARC = 'ResNet50'#WideResNet ResNet101,ResNet18,ResNet34,ResNet50 CNN8\n",
    "DATA = 'Cifar100'"
   ]
  },
  {
   "cell_type": "code",
   "execution_count": 6,
   "metadata": {},
   "outputs": [],
   "source": [
    "VAL_SIZE = 0.1\n",
    "NAME = f'{MODEL_ARC}_{DATA}_Val{int(VAL_SIZE*100)}'\n",
    "\n",
    "loss_criterion = nn.CrossEntropyLoss()\n",
    "risk_dict = None#{'selective_risk_mcp':  lambda x,label: unc_comp.selective_risk(x,label,unc_type = unc.MCP_unc)}\n",
    "\n",
    "data_params = {'train_batch_size': 128, 'validation_size': VAL_SIZE, 'test_batch_size': 100}"
   ]
  },
  {
   "cell_type": "code",
   "execution_count": 7,
   "metadata": {},
   "outputs": [],
   "source": [
    "CREATE_DIR = True #If true, creates directories to save model (weights_path)\n",
    "LIVE_PLOT = True #If True, plot* loss while training. If 'print', print loss per epoch\n",
    "SAVE_CHECKPOINT = True #If True, save (and update) model weights for the best epoch (smallest validation loss)\n",
    "SAVE_ALL = False #If True, saves weights and trainer at the end of training"
   ]
  },
  {
   "cell_type": "code",
   "execution_count": 8,
   "metadata": {},
   "outputs": [
    {
     "name": "stdout",
     "output_type": "stream",
     "text": [
      "Files already downloaded and verified\n",
      "Files already downloaded and verified\n"
     ]
    }
   ],
   "source": [
    "data = torch_data.__dict__[DATA](data_dir = DATA_PATH,validation_as_train = True,params = data_params)\n",
    "num_classes = data.n_classes\n",
    "model_class = models.__dict__[MODEL_ARC]\n",
    "\n",
    "weights_path = os.path.join(PATH_MODELS,MODEL_ARC,DATA)\n",
    "\n",
    "if CREATE_DIR and not os.path.isdir(weights_path):\n",
    "    os.makedirs(weights_path)"
   ]
  },
  {
   "cell_type": "markdown",
   "metadata": {},
   "source": [
    "## Train Base Model"
   ]
  },
  {
   "cell_type": "code",
   "execution_count": null,
   "metadata": {},
   "outputs": [
    {
     "data": {
      "application/vnd.jupyter.widget-view+json": {
       "model_id": "f6a29a4a8ccf44d79bab7d40a3bffc50",
       "version_major": 2,
       "version_minor": 0
      },
      "text/plain": [
       "Progress::   0%|          | 0/200 [00:00<?, ?it/s]"
      ]
     },
     "metadata": {},
     "output_type": "display_data"
    },
    {
     "data": {
      "application/vnd.jupyter.widget-view+json": {
       "model_id": "988a3e7bcdc24107bf544626eee6dbab",
       "version_major": 2,
       "version_minor": 0
      },
      "text/plain": [
       "Epoch progress::   0%|          | 0/352 [00:00<?, ?it/s]"
      ]
     },
     "metadata": {},
     "output_type": "display_data"
    }
   ],
   "source": [
    "N_EPOCHS = 200\n",
    "loss_criterion = nn.CrossEntropyLoss()\n",
    "model = model_class(num_classes = data.n_classes).to(dev)\n",
    "optimizer = torch.optim.SGD(model.parameters(), lr =0.1,momentum = 0.9,weight_decay = 5e-4,nesterov = True)\n",
    "scheduler = torch.optim.lr_scheduler.CosineAnnealingLR(optimizer, T_max=N_EPOCHS)\n",
    "model_trainer = TE.Trainer(model,optimizer,loss_criterion, None,data.test_dataloader,lr_scheduler = scheduler)\n",
    "model_trainer.fit(data.train_dataloader,N_EPOCHS, live_plot = LIVE_PLOT,save_checkpoint = SAVE_CHECKPOINT,PATH = weights_path)"
   ]
  },
  {
   "cell_type": "markdown",
   "metadata": {},
   "source": [
    "## Inference"
   ]
  },
  {
   "cell_type": "code",
   "execution_count": null,
   "metadata": {},
   "outputs": [],
   "source": [
    "model.eval()\n",
    "acc = TE.model_acc(model,data.train_dataloader)\n",
    "print('Conjunto de treinamento: acc = ', acc)\n",
    "acc = TE.model_acc(model,data.validation_dataloader)\n",
    "print('Conjunto de validação: acc = ', acc)\n",
    "acc = TE.model_acc(model,data.test_dataloader)\n",
    "print('Conjunto de teste: acc = ', acc)"
   ]
  }
 ],
 "metadata": {
  "kernelspec": {
   "display_name": "Python 3",
   "language": "python",
   "name": "python3"
  },
  "language_info": {
   "codemirror_mode": {
    "name": "ipython",
    "version": 3
   },
   "file_extension": ".py",
   "mimetype": "text/x-python",
   "name": "python",
   "nbconvert_exporter": "python",
   "pygments_lexer": "ipython3",
   "version": "3.8.5"
  },
  "vscode": {
   "interpreter": {
    "hash": "b8939ae6302d706547273c597dd3be7d36d3b4c2b9aa367c9a420125c13753bf"
   }
  }
 },
 "nbformat": 4,
 "nbformat_minor": 4
}

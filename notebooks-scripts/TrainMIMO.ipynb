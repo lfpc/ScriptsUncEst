{
 "cells": [
  {
   "cell_type": "markdown",
   "metadata": {
    "heading_collapsed": "true"
   },
   "source": [
    "# Libs and pre-definitions"
   ]
  },
  {
   "cell_type": "code",
   "execution_count": 1,
   "metadata": {},
   "outputs": [],
   "source": [
    "DATA_PATH = r'/home/luis-felipe/Uncertainty_Estimation/data'\n",
    "#CORRUPTED_DATA_PATH = os.path.join(DATA_PATH,'corrupted')\n",
    "\n",
    "PATH_MODELS = r'/home/luis-felipe/Uncertainty_Estimation/torch_models'\n",
    "PATH_trainer = r'/home/luis-felipe/Uncertainty_Estimation/torch_models/trainer'"
   ]
  },
  {
   "cell_type": "code",
   "execution_count": 2,
   "metadata": {},
   "outputs": [],
   "source": [
    "N_ENSEMBLES = 3"
   ]
  },
  {
   "cell_type": "markdown",
   "metadata": {
    "heading_collapsed": "true"
   },
   "source": [
    "### Bibliotecas padrões python e utils pytorch"
   ]
  },
  {
   "cell_type": "code",
   "execution_count": 3,
   "metadata": {},
   "outputs": [],
   "source": [
    "import torch\n",
    "from torch import nn\n",
    "import numpy as np\n",
    "import pandas as pd\n",
    "import matplotlib\n",
    "from matplotlib import pyplot as plt\n",
    "import os"
   ]
  },
  {
   "cell_type": "code",
   "execution_count": 4,
   "metadata": {},
   "outputs": [
    {
     "name": "stdout",
     "output_type": "stream",
     "text": [
      "True\n"
     ]
    }
   ],
   "source": [
    "# Define o computador utilizado como cuda (gpu) se existir ou cpu caso contrário\n",
    "print(torch.cuda.is_available())\n",
    "dev = torch.device('cuda') if torch.cuda.is_available() else torch.device('cpu')"
   ]
  },
  {
   "cell_type": "markdown",
   "metadata": {
    "heading_collapsed": "true"
   },
   "source": [
    "### Bibliotecas desenvolvidas\n",
    "\n",
    "https://github.com/lfpc/Uncertainty_Estimation"
   ]
  },
  {
   "cell_type": "code",
   "execution_count": 5,
   "metadata": {},
   "outputs": [],
   "source": [
    "import NN_models as models\n",
    "from NN_models import vgg\n",
    "from NN_models import wide_resnet\n",
    "import NN_utils as utils\n",
    "import NN_utils.train_and_eval as TE\n",
    "import cifar_data\n",
    "from NN_models import mimo\n"
   ]
  },
  {
   "cell_type": "markdown",
   "metadata": {},
   "source": [
    "# Train classifier"
   ]
  },
  {
   "cell_type": "markdown",
   "metadata": {
    "heading_collapsed": "true"
   },
   "source": [
    "## General definitions"
   ]
  },
  {
   "cell_type": "code",
   "execution_count": 6,
   "metadata": {},
   "outputs": [],
   "source": [
    "loss_criterion = nn.NLLLoss().cuda()\n",
    "\n",
    "#risk_dict = {'selective_risk_mcp':  lambda x,label: unc_comp.selective_risk(x,label,unc_type = unc.MCP_unc)}"
   ]
  },
  {
   "cell_type": "code",
   "execution_count": 7,
   "metadata": {},
   "outputs": [],
   "source": [
    "#test MIMO with and without Dropout"
   ]
  },
  {
   "cell_type": "code",
   "execution_count": 8,
   "metadata": {},
   "outputs": [],
   "source": [
    "cifar_data.DataGenerator.params['train_batch_size'] = 32\n",
    "cifar_data.DataGenerator.params['test_batch_size'] = 20"
   ]
  },
  {
   "cell_type": "markdown",
   "metadata": {},
   "source": [
    "## CIFAR 10"
   ]
  },
  {
   "cell_type": "code",
   "execution_count": 9,
   "metadata": {},
   "outputs": [
    {
     "name": "stdout",
     "output_type": "stream",
     "text": [
      "Files already downloaded and verified\n",
      "Files already downloaded and verified\n"
     ]
    }
   ],
   "source": [
    "data = cifar_data.Cifar10(data_dir = DATA_PATH)\n",
    "num_classes = data.n_classes"
   ]
  },
  {
   "cell_type": "code",
   "execution_count": null,
   "metadata": {},
   "outputs": [
    {
     "data": {
      "application/vnd.jupyter.widget-view+json": {
       "model_id": "9159a15deeef4456a3b301680716e1c4",
       "version_major": 2,
       "version_minor": 0
      },
      "text/plain": [
       "Progress::   0%|          | 0/200 [00:00<?, ?it/s]"
      ]
     },
     "metadata": {},
     "output_type": "display_data"
    },
    {
     "name": "stdout",
     "output_type": "stream",
     "text": [
      "Max acc = 93.86 - epoch = 174\n"
     ]
    },
    {
     "data": {
      "application/vnd.jupyter.widget-view+json": {
       "model_id": "36454cd359f84edd8a6ccc2389ec4c28",
       "version_major": 2,
       "version_minor": 0
      },
      "text/plain": [
       "Progress::   0%|          | 0/200 [00:00<?, ?it/s]"
      ]
     },
     "metadata": {},
     "output_type": "display_data"
    },
    {
     "name": "stdout",
     "output_type": "stream",
     "text": [
      "Max acc = 94.02 - epoch = 170\n"
     ]
    },
    {
     "data": {
      "application/vnd.jupyter.widget-view+json": {
       "model_id": "dd271b48e3a24e1786f74ba5bab00f48",
       "version_major": 2,
       "version_minor": 0
      },
      "text/plain": [
       "Progress::   0%|          | 0/200 [00:00<?, ?it/s]"
      ]
     },
     "metadata": {},
     "output_type": "display_data"
    }
   ],
   "source": [
    "for ens in range(2,6):\n",
    "    model = models.VGG_16\n",
    "    #model = models.Model_CNN\n",
    "    model = mimo.MIMOModel(model,num_classes,ensemble_num = ens,name = f'MIMO_VGG_10_{ens}').to(dev)\n",
    "    optimizer = torch.optim.SGD(model.parameters(), lr=0.1,momentum = 0.9,weight_decay = 5e-4,nesterov = True)\n",
    "\n",
    "    model_trainer = mimo.Trainer_MIMO(model,optimizer,loss_criterion,None, data.test_dataloader,update_lr = (50,5))\n",
    "    model_trainer.fit(data.train_dataloader,200, checkpoint = True, PATH = PATH_MODELS)\n",
    "\n",
    "    print(f'Max acc = {max(model_trainer.val_acc)} - epoch = {np.argmax(model_trainer.val_acc)}')\n",
    "    torch.save(model.state_dict(), PATH_MODELS+f'/MIMO_VGG_10_{ens}.pt')\n",
    "\n"
   ]
  },
  {
   "cell_type": "markdown",
   "metadata": {},
   "source": [
    "## CIFAR 100"
   ]
  },
  {
   "cell_type": "code",
   "execution_count": null,
   "metadata": {},
   "outputs": [],
   "source": [
    "data = cifar_data.Cifar100(data_dir = DATA_PATH)\n",
    "num_classes = data.n_classes"
   ]
  },
  {
   "cell_type": "code",
   "execution_count": null,
   "metadata": {},
   "outputs": [],
   "source": [
    "for ens in range(2,6):\n",
    "    model_2 = models.VGG_16\n",
    "    model_2 = mimo.MIMOModel(model_2,num_classes,ensemble_num = ens,name = f'MIMO_VGG_100_{ens}').to(dev)\n",
    "    optimizer = torch.optim.SGD(model_2.parameters(), lr=0.1,momentum = 0.9,weight_decay = 5e-4,nesterov = True)\n",
    "\n",
    "    model_trainer_2 = mimo.Trainer_MIMO(model_2,optimizer,loss_criterion,data.train_dataloader, data.test_dataloader,update_lr = (50,5))\n",
    "    model_trainer_2.fit(data.train_dataloader,200, checkpoint = True, PATH = PATH_MODELS)\n",
    "\n",
    "    print(f'Max acc = {max(model_trainer_2.val_acc)} - epoch = {np.argmax(model_trainer_2.val_acc)}')\n",
    "    torch.save(model_2.state_dict(), PATH_MODELS+f'/MIMO_VGG_100_{ens}.pt')\n"
   ]
  },
  {
   "cell_type": "code",
   "execution_count": 15,
   "metadata": {},
   "outputs": [
    {
     "data": {
      "text/plain": [
       "[<matplotlib.lines.Line2D at 0x7fb334b7df70>]"
      ]
     },
     "execution_count": 15,
     "metadata": {},
     "output_type": "execute_result"
    },
    {
     "data": {
      "image/png": "[encoded data removed]",
      "text/plain": [
       "<Figure size 432x288 with 1 Axes>"
      ]
     },
     "metadata": {
      "needs_background": "light"
     },
     "output_type": "display_data"
    }
   ],
   "source": [
    "plt.plot(model_trainer_2.val_acc)"
   ]
  },
  {
   "cell_type": "code",
   "execution_count": null,
   "metadata": {},
   "outputs": [],
   "source": []
  }
 ],
 "metadata": {
  "kernelspec": {
   "display_name": "Python 3",
   "language": "python",
   "name": "python3"
  },
  "language_info": {
   "codemirror_mode": {
    "name": "ipython",
    "version": 3
   },
   "file_extension": ".py",
   "mimetype": "text/x-python",
   "name": "python",
   "nbconvert_exporter": "python",
   "pygments_lexer": "ipython3",
   "version": "3.8.5"
  }
 },
 "nbformat": 4,
 "nbformat_minor": 4
}

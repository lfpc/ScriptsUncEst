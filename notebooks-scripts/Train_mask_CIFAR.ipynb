{
 "cells": [
  {
   "cell_type": "markdown",
   "metadata": {
    "tags": []
   },
   "source": [
    "# Libs and pre-definitions"
   ]
  },
  {
   "cell_type": "markdown",
   "metadata": {
    "heading_collapsed": "true",
    "tags": []
   },
   "source": [
    "### Bibliotecas padrões python e utils pytorch"
   ]
  },
  {
   "cell_type": "code",
   "execution_count": 1,
   "metadata": {},
   "outputs": [],
   "source": [
    "import torch\n",
    "import numpy as np\n",
    "import pandas as pd\n",
    "import matplotlib\n",
    "from matplotlib import pyplot as plt\n",
    "import torchvision\n",
    "from torch import nn\n",
    "from torch.utils.data import DataLoader\n",
    "from torchvision import datasets\n",
    "import torchvision.transforms as transforms\n",
    "from torchvision.transforms import ToTensor, Lambda, Compose, Normalize\n",
    "from collections import defaultdict\n",
    "from torch.utils.data import random_split\n",
    "import copy"
   ]
  },
  {
   "cell_type": "code",
   "execution_count": 2,
   "metadata": {},
   "outputs": [
    {
     "name": "stdout",
     "output_type": "stream",
     "text": [
      "True\n"
     ]
    }
   ],
   "source": [
    "# Define o computador utilizado como cuda (gpu) se existir ou cpu caso contrário\n",
    "print(torch.cuda.is_available())\n",
    "dev = torch.device('cuda') if torch.cuda.is_available() else torch.device('cpu')"
   ]
  },
  {
   "cell_type": "markdown",
   "metadata": {
    "heading_collapsed": "true",
    "tags": []
   },
   "source": [
    "### Bibliotecas desenvolvidas\n",
    "\n",
    "https://github.com/lfpc/Uncertainty_Estimation"
   ]
  },
  {
   "cell_type": "code",
   "execution_count": 3,
   "metadata": {},
   "outputs": [
    {
     "name": "stdout",
     "output_type": "stream",
     "text": [
      "Files already downloaded and verified\n",
      "Files already downloaded and verified\n"
     ]
    }
   ],
   "source": [
    "import NN_models as models\n",
    "from NN_models import vgg\n",
    "import uncertainty.comparison as unc_comp\n",
    "import uncertainty.quantifications as unc\n",
    "import uncertainty.losses as losses\n",
    "import uncertainty.train_and_eval_with_g as TE_g\n",
    "import NN_utils as utils\n",
    "import NN_utils.train_and_eval as TE\n",
    "import NN_utils.cifar_def as pre_data"
   ]
  },
  {
   "cell_type": "markdown",
   "metadata": {
    "heading_collapsed": "true",
    "tags": []
   },
   "source": [
    "## Data download and transforms"
   ]
  },
  {
   "cell_type": "code",
   "execution_count": 4,
   "metadata": {},
   "outputs": [],
   "source": [
    "train_dataloader, validation_dataloader, test_dataloader = pre_data.get_dataloaders()"
   ]
  },
  {
   "cell_type": "code",
   "execution_count": 14,
   "metadata": {},
   "outputs": [],
   "source": [
    "class VGG_16(models.Model_CNN):\n",
    "    def __init__(self,n_classes=10,input = (32,32), pretrained = False, name = 'VGG16'):\n",
    "        \"\"\"CNN Builder.\"\"\"\n",
    "        super().__init__(n_classes,input,vgg.get_vgg_layers(pretrained),name = name)\n",
    "        \n",
    "        self.mask_layer = nn.Sequential(nn.Conv2d(in_channels=3, out_channels=int(16), kernel_size=3, padding='same'),\n",
    "                nn.BatchNorm2d(int(16)),\n",
    "                nn.ReLU(inplace=True),\n",
    "                nn.Conv2d(in_channels=int(16), out_channels=int(32), kernel_size=3, padding='same'),\n",
    "                nn.Dropout(p=0.2),\n",
    "                nn.ReLU(inplace=True),\n",
    "                nn.Conv2d(in_channels=32, out_channels=1, kernel_size=1, padding='same'),\n",
    "                nn.Sigmoid())\n",
    "        self.mask = torch.tensor([0])\n",
    "\n",
    "\n",
    "    def forward(self, x):\n",
    "        \"\"\"Perform forward.\"\"\"\n",
    "        self.mask = self.mask_layer(x)\n",
    "        \n",
    "        x = self.main_layer(self.mask*x)\n",
    "        y = self.classifier_layer(x).float()\n",
    "        return y"
   ]
  },
  {
   "cell_type": "code",
   "execution_count": 6,
   "metadata": {
    "tags": []
   },
   "outputs": [],
   "source": [
    "PATH = r'/home/luis-felipe/Uncertainty_Estimation/torch_models/'\n",
    "state_dict_vgg  = torch.load(PATH + 'classifier_vgg.pt')"
   ]
  },
  {
   "cell_type": "markdown",
   "metadata": {
    "tags": []
   },
   "source": [
    "# Train classifier"
   ]
  },
  {
   "cell_type": "code",
   "execution_count": 7,
   "metadata": {},
   "outputs": [],
   "source": [
    "loss_criterion = nn.NLLLoss(reduction = 'none')\n",
    "LEARNING_RATE = 0.1\n",
    "\n",
    "loss_criterion = nn.NLLLoss()\n",
    "\n",
    "risk_dict = {'selective_risk_mcp':  lambda x,label: unc_comp.selective_risk(x,label,unc_type = unc.MCP_unc)}\n"
   ]
  },
  {
   "cell_type": "code",
   "execution_count": 18,
   "metadata": {},
   "outputs": [],
   "source": [
    "class mask_loss(nn.Module):\n",
    "    def __init__(self, criterion ,model):\n",
    "        super().__init__()\n",
    "        self.criterion = criterion\n",
    "        self.model = model\n",
    "        \n",
    "    def forward(self,y_pred,y_true):\n",
    "        mask = self.model.mask\n",
    "        loss_mask = torch.mean(torch.sum(torch.special.entr(mask),dim=-1)+0.1*torch.sum(mask,dim=-1))\n",
    "        loss = self.criterion(y_pred,y_true)+loss_mask\n",
    "        return loss"
   ]
  },
  {
   "cell_type": "code",
   "execution_count": 19,
   "metadata": {
    "tags": []
   },
   "outputs": [
    {
     "data": {
      "image/png": "[encoded data removed]",
      "text/plain": [
       "<Figure size 504x360 with 1 Axes>"
      ]
     },
     "metadata": {
      "needs_background": "light"
     },
     "output_type": "display_data"
    },
    {
     "data": {
      "application/vnd.jupyter.widget-view+json": {
       "model_id": "5ea1ab3ce3dd4b01a503ae25ae950ac4",
       "version_major": 2,
       "version_minor": 0
      },
      "text/plain": [
       "Loss: 3.2384 | Acc_train: 1.00 | Acc_val: 0.93 | Progress:: 100%|#########9| 499/500 [6:45:47<00:48, 48.91s/it…"
      ]
     },
     "metadata": {},
     "output_type": "display_data"
    },
    {
     "name": "stdout",
     "output_type": "stream",
     "text": [
      "Conjunto de treinamento: acc =  99.74444444444444\n",
      "Conjunto de teste: acc =  92.32\n"
     ]
    }
   ],
   "source": [
    "model = VGG_16().to(dev)\n",
    "model.load_state_dict(state_dict_vgg,strict = False)\n",
    "optimizer = torch.optim.SGD(model.parameters(), lr=LEARNING_RATE,momentum = 0.9,weight_decay = 5e-4,nesterov = True)\n",
    "loss_criterion = nn.NLLLoss()\n",
    "loss_fn = mask_loss(loss_criterion, model)\n",
    "\n",
    "model_trainer = TE.Trainer(model,optimizer,loss_fn, train_dataloader,validation_dataloader,c=0.8,update_lr = (25,2),risk_dict = risk_dict)\n",
    "model_trainer.fit(train_dataloader,500)\n",
    "\n",
    "acc = TE.model_acc(model,train_dataloader)\n",
    "print('Conjunto de treinamento: acc = ', acc)\n",
    "acc = TE.model_acc(model,test_dataloader)\n",
    "print('Conjunto de teste: acc = ', acc)"
   ]
  },
  {
   "cell_type": "code",
   "execution_count": 22,
   "metadata": {
    "tags": []
   },
   "outputs": [
    {
     "name": "stderr",
     "output_type": "stream",
     "text": [
      "Clipping input data to the valid range for imshow with RGB data ([0..1] for floats or [0..255] for integers).\n"
     ]
    },
    {
     "data": {
      "text/plain": [
       "<matplotlib.image.AxesImage at 0x7f8654fdf1f0>"
      ]
     },
     "execution_count": 22,
     "metadata": {},
     "output_type": "execute_result"
    },
    {
     "data": {
      "image/png": "[encoded data removed]",
      "text/plain": [
       "<Figure size 432x288 with 1 Axes>"
      ]
     },
     "metadata": {
      "needs_background": "light"
     },
     "output_type": "display_data"
    }
   ],
   "source": [
    "i = 4\n",
    "image,label = next(iter(test_dataloader))\n",
    "image,label = image.to(dev), label.to(dev)\n",
    "image.requires_grad = True\n",
    "output = torch.exp(model(image))\n",
    "output_i = output[i]\n",
    "label_i = label[i]\n",
    "image_i = image[i].detach().cpu().numpy()\n",
    "image_i = np.transpose(image_i, (1, 2, 0))\n",
    "plt.imshow(image_i)"
   ]
  },
  {
   "cell_type": "code",
   "execution_count": 23,
   "metadata": {
    "tags": []
   },
   "outputs": [
    {
     "data": {
      "text/plain": [
       "<matplotlib.image.AxesImage at 0x7f85d5806c10>"
      ]
     },
     "execution_count": 23,
     "metadata": {},
     "output_type": "execute_result"
    },
    {
     "data": {
      "image/png": "[encoded data removed]",
      "text/plain": [
       "<Figure size 432x288 with 1 Axes>"
      ]
     },
     "metadata": {
      "needs_background": "light"
     },
     "output_type": "display_data"
    }
   ],
   "source": [
    "mask_i = model.mask[i]\n",
    "mask_i = mask_i.detach().cpu().numpy()\n",
    "mask_i = np.transpose(mask_i, (1, 2, 0))\n",
    "plt.imshow(mask_i)"
   ]
  },
  {
   "cell_type": "code",
   "execution_count": null,
   "metadata": {},
   "outputs": [],
   "source": [
    "masked_i = mask_i*image_i\n",
    "masked_i = masked_i/np.max(masked_i)\n",
    "plt.imshow(masked_i)"
   ]
  },
  {
   "cell_type": "code",
   "execution_count": null,
   "metadata": {},
   "outputs": [],
   "source": [
    "grads = torch.autograd.grad(output_i[label_i],image)[0]"
   ]
  },
  {
   "cell_type": "code",
   "execution_count": null,
   "metadata": {},
   "outputs": [],
   "source": [
    "plt.imshow(image_i*(1-grads_im))"
   ]
  },
  {
   "cell_type": "code",
   "execution_count": null,
   "metadata": {},
   "outputs": [],
   "source": [
    "grads_im = grads[i] - torch.min(grads[i])\n",
    "grads_im = grads_im/torch.max(grads_im)\n",
    "grads_im = grads_im.detach().numpy()\n",
    "grads_im = np.transpose(grads_im, (1, 2, 0))\n",
    "plt.imshow(grads_im)"
   ]
  },
  {
   "cell_type": "markdown",
   "metadata": {
    "tags": [],
    "toc-hr-collapsed": true
   },
   "source": [
    "## Save models"
   ]
  },
  {
   "cell_type": "code",
   "execution_count": null,
   "metadata": {},
   "outputs": [],
   "source": [
    "import pickle\n",
    "PATH = r'/home/luis-felipe/Uncertainty_Estimation/torch_models'\n",
    "PATH_trainer = r'/home/luis-felipe/Uncertainty_Estimation/torch_models/trainer'\n",
    "SUFIX = '_vgg'\n",
    "    \n",
    "model_trainer.hist_val.loss_criterion = None\n",
    "model_trainer.hist_val.risk_dict = None\n",
    "model_trainer.hist_train.loss_criterion = None\n",
    "model_trainer.hist_train.risk_dict = None\n",
    "\n",
    "torch.save(model.state_dict(), PATH + '/classifier' + SUFIX)\n",
    "with open(PATH_trainer + r\"/hist_val_trainer\"+SUFIX, \"wb\") as output_file:\n",
    "    pickle.dump(model_trainer.hist_val,output_file)\n",
    "with open(PATH_trainer + r\"/hist_train_trainer\"+SUFIX, \"wb\") as output_file:\n",
    "    pickle.dump(model_trainer.hist_train,output_file)"
   ]
  },
  {
   "cell_type": "markdown",
   "metadata": {
    "tags": []
   },
   "source": [
    "# Plots"
   ]
  },
  {
   "cell_type": "code",
   "execution_count": null,
   "metadata": {},
   "outputs": [],
   "source": [
    "plt.plot(model_trainer_f.hist_val.acc_c_mcp,label = 'MCP')\n",
    "plt.plot(model_trainer_f.hist_val.acc_list,label = 'ACC_0')\n",
    "#plt.plot(model_trainer_h.hist_val.acc_c_entropy,label = 'Entropy')\n",
    "plt.plot(model_trainer_f.hist_val.acc_c_g, label = 'g')\n",
    "plt.grid()\n",
    "plt.legend()\n",
    "plt.show()"
   ]
  },
  {
   "cell_type": "code",
   "execution_count": null,
   "metadata": {},
   "outputs": [],
   "source": [
    "plt.plot(model_trainer_h.hist_val.acc_c_mcp,label = 'MCP')\n",
    "plt.plot(model_trainer_h.hist_val.acc_list,label = 'ACC_0')\n",
    "#plt.plot(model_trainer_h.hist_val.acc_c_entropy,label = 'Entropy')\n",
    "plt.plot(model_trainer_h.hist_val.acc_c_g, label = 'g')\n",
    "plt.grid()\n",
    "plt.legend()\n",
    "plt.show()"
   ]
  },
  {
   "cell_type": "code",
   "execution_count": null,
   "metadata": {},
   "outputs": [],
   "source": [
    "for key in risk_dict:\n",
    "    plt.plot(model_trainer_h.hist_val.risk[key],label = key)\n",
    "\n",
    "plt.grid()\n",
    "plt.legend()\n",
    "plt.show()\n",
    "\n",
    "for key in risk_dict:\n",
    "    plt.plot(model_trainer_f.hist_val.risk[key],label = key)\n",
    "\n",
    "plt.grid()\n",
    "plt.legend()\n",
    "plt.show()"
   ]
  },
  {
   "cell_type": "code",
   "execution_count": null,
   "metadata": {},
   "outputs": [],
   "source": []
  },
  {
   "cell_type": "code",
   "execution_count": null,
   "metadata": {},
   "outputs": [],
   "source": []
  }
 ],
 "metadata": {
  "kernelspec": {
   "display_name": "Python 3",
   "language": "python",
   "name": "python3"
  },
  "language_info": {
   "codemirror_mode": {
    "name": "ipython",
    "version": 3
   },
   "file_extension": ".py",
   "mimetype": "text/x-python",
   "name": "python",
   "nbconvert_exporter": "python",
   "pygments_lexer": "ipython3",
   "version": "3.8.8"
  }
 },
 "nbformat": 4,
 "nbformat_minor": 4
}

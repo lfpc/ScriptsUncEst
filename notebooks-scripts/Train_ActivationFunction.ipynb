{
 "cells": [
  {
   "cell_type": "markdown",
   "metadata": {
    "tags": []
   },
   "source": [
    "# Libs and pre-definitions"
   ]
  },
  {
   "cell_type": "code",
   "execution_count": 1,
   "metadata": {},
   "outputs": [],
   "source": [
    "import os\n",
    "REPOSITORY_PATH = r'/home/luis-felipe/UncEst'\n",
    "DATA_PATH = os.path.join(REPOSITORY_PATH,'data')\n",
    "#CORRUPTED_DATA_PATH = os.path.join(DATA_PATH,'corrupted')\n",
    "\n",
    "PATH_MODELS = os.path.join(REPOSITORY_PATH,'torch_models')\n",
    "PATH_TRAINER = os.path.join(PATH_MODELS,'trainer')"
   ]
  },
  {
   "cell_type": "markdown",
   "metadata": {
    "heading_collapsed": "true",
    "tags": [],
    "toc-hr-collapsed": true
   },
   "source": [
    "### Bibliotecas padrões python e utils pytorch"
   ]
  },
  {
   "cell_type": "code",
   "execution_count": 2,
   "metadata": {},
   "outputs": [],
   "source": [
    "import torch\n",
    "import numpy as np\n",
    "import pandas as pd\n",
    "import matplotlib\n",
    "from matplotlib import pyplot as plt\n",
    "from torch import nn\n",
    "from copy import copy,deepcopy"
   ]
  },
  {
   "cell_type": "code",
   "execution_count": 3,
   "metadata": {},
   "outputs": [
    {
     "name": "stdout",
     "output_type": "stream",
     "text": [
      "True\n"
     ]
    }
   ],
   "source": [
    "# Define o computador utilizado como cuda (gpu) se existir ou cpu caso contrário\n",
    "print(torch.cuda.is_available())\n",
    "dev = torch.device('cuda') if torch.cuda.is_available() else torch.device('cpu')"
   ]
  },
  {
   "cell_type": "markdown",
   "metadata": {
    "heading_collapsed": "true",
    "tags": []
   },
   "source": [
    "### Bibliotecas desenvolvidas\n",
    "\n",
    "https://github.com/lfpc/Uncertainty_Estimation"
   ]
  },
  {
   "cell_type": "code",
   "execution_count": 4,
   "metadata": {},
   "outputs": [],
   "source": [
    "import NN_models as models\n",
    "import NN_utils as utils\n",
    "import NN_utils.train_and_eval as TE\n",
    "import torch_data"
   ]
  },
  {
   "cell_type": "markdown",
   "metadata": {
    "tags": []
   },
   "source": [
    "# Train classifier"
   ]
  },
  {
   "cell_type": "markdown",
   "metadata": {
    "tags": []
   },
   "source": [
    "## Definitions"
   ]
  },
  {
   "cell_type": "code",
   "execution_count": 5,
   "metadata": {},
   "outputs": [],
   "source": [
    "CREATE_DIR = True #If true, creates directories to save model (weights_path)\n",
    "LIVE_PLOT = True #If True, plot* loss while training. If 'print', print loss per epoch\n",
    "SAVE_CHECKPOINT = False #If True, save (and update) model weights for the best epoch (smallest validation loss)\n",
    "SAVE_ALL = False #If True, saves weights and trainer at the end of training\n",
    "TRAIN = True"
   ]
  },
  {
   "cell_type": "code",
   "execution_count": 6,
   "metadata": {},
   "outputs": [],
   "source": [
    "MODEL_ARC = 'ResNet50'#WideResNet ResNet101,ResNet18,ResNet34,ResNet50 CNN8\n",
    "DATA = 'Cifar100'\n",
    "NAME = f'{MODEL_ARC}_{DATA}_g1'"
   ]
  },
  {
   "cell_type": "code",
   "execution_count": 7,
   "metadata": {},
   "outputs": [],
   "source": [
    "loss_criterion = nn.CrossEntropyLoss();SOFTMAX = False\n",
    "risk_dict = None#{'selective_risk_mcp':  lambda x,label: unc_comp.selective_risk(x,label,unc_type = unc.MCP_unc)}"
   ]
  },
  {
   "cell_type": "code",
   "execution_count": 8,
   "metadata": {},
   "outputs": [],
   "source": [
    "params = {'train_batch_size': 128, 'validation_size': 0.1, 'test_batch_size': 100}"
   ]
  },
  {
   "cell_type": "code",
   "execution_count": 9,
   "metadata": {},
   "outputs": [
    {
     "data": {
      "text/plain": [
       "<function torch_data.cifar.Cifar100.__init__(self, params={'train_batch_size': 128, 'validation_size': 0.0, 'test_batch_size': 100}, download=True, data_dir='data', train=True, test=True, dataloader=True, **kwargs)>"
      ]
     },
     "execution_count": 9,
     "metadata": {},
     "output_type": "execute_result"
    }
   ],
   "source": [
    "torch_data.__dict__[DATA].__init__"
   ]
  },
  {
   "cell_type": "code",
   "execution_count": 55,
   "metadata": {},
   "outputs": [
    {
     "name": "stdout",
     "output_type": "stream",
     "text": [
      "Files already downloaded and verified\n",
      "Files already downloaded and verified\n"
     ]
    }
   ],
   "source": [
    "data = torch_data.__dict__[DATA](data_dir = DATA_PATH,params = params,validation_as_train= True)\n",
    "num_classes = data.n_classes\n",
    "model_class = models.__dict__[MODEL_ARC]\n",
    "\n",
    "weights_path = os.path.join(PATH_MODELS,MODEL_ARC,DATA)\n",
    "\n",
    "if CREATE_DIR and not os.path.isdir(weights_path):\n",
    "    os.makedirs(weights_path)"
   ]
  },
  {
   "cell_type": "markdown",
   "metadata": {
    "tags": []
   },
   "source": [
    "## Upload Model"
   ]
  },
  {
   "cell_type": "code",
   "execution_count": 11,
   "metadata": {},
   "outputs": [],
   "source": [
    "if not TRAIN:\n",
    "    if DATA == 'ImageNet':\n",
    "        pre_model = model_class(weights = weights_path.DEFAULT).to(dev)\n",
    "        data.transforms_test = weights_path.DEFAULT.transforms()\n",
    "        pre_model.name = NAME\n",
    "        if SOFTMAX: utils.apply_softmax(pre_model)\n",
    "    else:\n",
    "        pre_model = model_class(num_classes = data.n_classes).to(dev)\n",
    "        pre_model.load_state_dict(utils.upload_weights(weights_path))\n",
    "\n",
    "    pre_model.eval()\n",
    "    acc_model = TE.model_acc(pre_model,data.test_dataloader)\n",
    "    rk_model = 1-0.01*acc_model\n",
    "    print(f'Acurácia = {acc_model}')"
   ]
  },
  {
   "cell_type": "markdown",
   "metadata": {},
   "source": [
    "## Train"
   ]
  },
  {
   "cell_type": "markdown",
   "metadata": {},
   "source": [
    "### Baseline model"
   ]
  },
  {
   "cell_type": "code",
   "execution_count": 12,
   "metadata": {
    "tags": []
   },
   "outputs": [
    {
     "data": {
      "image/png": "[encoded data removed]",
      "text/plain": [
       "<Figure size 504x360 with 1 Axes>"
      ]
     },
     "metadata": {
      "needs_background": "light"
     },
     "output_type": "display_data"
    },
    {
     "data": {
      "application/vnd.jupyter.widget-view+json": {
       "model_id": "1c4295f315f44b569d10c082fe0c6b49",
       "version_major": 2,
       "version_minor": 0
      },
      "text/plain": [
       "Acc_val (max): 78.15 (78.15) | Progress:: 100%|#########9| 199/200 [3:40:16<01:06, 66.08s/it]"
      ]
     },
     "metadata": {},
     "output_type": "display_data"
    }
   ],
   "source": [
    "N_EPOCHS_0 = 200\n",
    "if TRAIN:\n",
    "    loss_criterion = nn.CrossEntropyLoss()\n",
    "    pre_model = model_class(num_classes = data.n_classes).to(dev)\n",
    "    optimizer = torch.optim.SGD(pre_model.parameters(), lr =0.1,momentum = 0.9,weight_decay = 5e-4,nesterov = True)\n",
    "    scheduler = torch.optim.lr_scheduler.CosineAnnealingLR(optimizer, T_max=N_EPOCHS_0)\n",
    "    model_trainer = TE.Trainer(pre_model,optimizer,loss_criterion, None,data.test_dataloader,lr_scheduler = scheduler)\n",
    "    model_trainer.fit(data.train_dataloader,N_EPOCHS_0, live_plot = LIVE_PLOT,save_checkpoint = SAVE_CHECKPOINT,PATH = weights_path)\n",
    "    "
   ]
  },
  {
   "cell_type": "code",
   "execution_count": 13,
   "metadata": {
    "tags": []
   },
   "outputs": [
    {
     "name": "stdout",
     "output_type": "stream",
     "text": [
      "Conjunto de treinamento: acc =  99.97555555555556\n",
      "Conjunto de teste: acc =  77.92\n",
      "Conjunto de teste: MAX acc (argmax epoch) = 78.15(194)\n"
     ]
    }
   ],
   "source": [
    "pre_model.eval()\n",
    "acc = TE.model_acc(pre_model,data.train_dataloader)\n",
    "print('Conjunto de treinamento: acc = ', acc)\n",
    "acc = TE.model_acc(pre_model,data.test_dataloader)\n",
    "print('Conjunto de teste: acc = ', acc)\n",
    "print(f'Conjunto de teste: MAX acc (argmax epoch) = {max(model_trainer.hist_val.acc_list)}({np.argmax(model_trainer.hist_val.acc_list)})')"
   ]
  },
  {
   "cell_type": "markdown",
   "metadata": {},
   "source": [
    "### Activation Function"
   ]
  },
  {
   "cell_type": "code",
   "execution_count": 62,
   "metadata": {},
   "outputs": [],
   "source": [
    "Activation_Function = nn.Sequential(nn.Linear(data.n_classes,200),\n",
    "                                        nn.ReLU(),\n",
    "                                        #nn.Dropout(0.3),\n",
    "                                        nn.Linear(200,100),\n",
    "                                        nn.ReLU(),\n",
    "                                        nn.Linear(100,100),\n",
    "                                        nn.ReLU(),\n",
    "                                        #nn.Dropout(0.3),\n",
    "                                        nn.Linear(100,1), #globalpooling-max\n",
    "                                        nn.Sigmoid())\n",
    "\n",
    "class Model_Activation(nn.Module):\n",
    "    def __init__(self,model,n_classes,activation) -> None:\n",
    "        super().__init__()\n",
    "        self.Activation_Function = activation\n",
    "        self.base_model = model\n",
    "        self.base_model.eval()\n",
    "        utils.freeze_params(self.base_model)\n",
    "    def forward(self,x):\n",
    "        with torch.no_grad():\n",
    "            logits = self.base_model(x)\n",
    "        return self.Activation_Function(logits)\n",
    "class BCELoss(nn.BCELoss):\n",
    "    def __init__(self,**kwargs):\n",
    "        super().__init__(**kwargs)\n",
    "    def forward(self,y_pred,y_true):\n",
    "        y_true = y_true.unsqueeze(-1).float()\n",
    "        loss = super().forward(y_pred,y_true)\n",
    "        return loss"
   ]
  },
  {
   "cell_type": "code",
   "execution_count": 63,
   "metadata": {},
   "outputs": [],
   "source": [
    "model = Model_Activation(pre_model,data.n_classes,Activation_Function).to(dev)\n",
    "\n",
    "loss_criterion = BCELoss()#Unc_Loss()"
   ]
  },
  {
   "cell_type": "code",
   "execution_count": 58,
   "metadata": {},
   "outputs": [],
   "source": [
    "def hits_labels(data,model,transforms = None):\n",
    "    from torch.utils.data import DataLoader\n",
    "    with torch.no_grad():\n",
    "        if transforms is not None:\n",
    "            data = deepcopy(data)\n",
    "            data.dataset.transform = transforms\n",
    "        \n",
    "        if not isinstance(data,DataLoader):\n",
    "            loader = DataLoader(data,batch_size = 100,shuffle = False)\n",
    "        else: loader = data\n",
    "        hits = torch.tensor([],device = dev)\n",
    "        for im,label in loader:\n",
    "            im,label=im.to(dev),label.to(dev)\n",
    "            output = model(im)\n",
    "            hits = torch.cat((hits,TE.correct_class(output,label)))\n",
    "    return hits.to(torch.int64)\n",
    "\n",
    "from uncertainty.utils import dontknow_mask\n",
    "\n",
    "class Acc_Coverage(nn.Module):\n",
    "    def __init__(self,pre_model,dataloader,coverage):\n",
    "        super().__init__()\n",
    "        self.hits = hits_labels(dataloader,pre_model)\n",
    "        self.coverage = coverage\n",
    "    def forward(self,model,dataloader):\n",
    "        with torch.no_grad():\n",
    "            g,labels = TE.accumulate_results(model,dataloader)\n",
    "            if labels.numel() != self.hits.numel():\n",
    "                self.hits = labels\n",
    "            dk = torch.logical_not(dontknow_mask(g, self.coverage).bool())\n",
    "            return torch.mean(self.hits[dk].float())\n",
    "        "
   ]
  },
  {
   "cell_type": "code",
   "execution_count": 59,
   "metadata": {},
   "outputs": [
    {
     "data": {
      "text/plain": [
       "76.4"
      ]
     },
     "execution_count": 59,
     "metadata": {},
     "output_type": "execute_result"
    }
   ],
   "source": [
    "TE.model_acc(pre_model,data.validation_dataloader)"
   ]
  },
  {
   "cell_type": "code",
   "execution_count": 60,
   "metadata": {},
   "outputs": [],
   "source": [
    "from torch_data.src import custom_subset\n",
    "data.validation_data = custom_subset(data.validation_data,hits_labels(data.validation_data,pre_model,data.transforms_test).tolist())\n",
    "data.generate_dataloaders()"
   ]
  },
  {
   "cell_type": "code",
   "execution_count": 64,
   "metadata": {
    "tags": []
   },
   "outputs": [],
   "source": [
    "N_EPOCHS = 300\n",
    "COVERAGE = 0.8\n",
    "optimizer = torch.optim.SGD(model.parameters(), lr=0.01,momentum = 0.9,weight_decay = 5e-4,nesterov = False)\n",
    "scheduler = torch.optim.lr_scheduler.StepLR(optimizer, 40, gamma=0.5)\n",
    "risk_dict = {'Acc_08':Acc_Coverage(pre_model,data.test_dataloader,COVERAGE)}\n",
    "model_trainer = TE.Trainer(model,optimizer,loss_criterion, data.validation_dataloader,data.test_dataloader,lr_scheduler = scheduler, risk_dict = risk_dict)"
   ]
  },
  {
   "cell_type": "code",
   "execution_count": null,
   "metadata": {
    "tags": []
   },
   "outputs": [
    {
     "data": {
      "image/png": "[encoded data removed]",
      "text/plain": [
       "<Figure size 504x360 with 1 Axes>"
      ]
     },
     "metadata": {
      "needs_background": "light"
     },
     "output_type": "display_data"
    },
    {
     "data": {
      "application/vnd.jupyter.widget-view+json": {
       "model_id": "501cd4ebe4c7493d86d3bdabe80c818f",
       "version_major": 2,
       "version_minor": 0
      },
      "text/plain": [
       "Acc_val (max): 1.02 (1.08) | Loss: 0.1864 | Acc_train: 92.70 |Progress::  32%|###2      | 96/300 [26:09<55:06,…"
      ]
     },
     "metadata": {},
     "output_type": "display_data"
    }
   ],
   "source": [
    "model_trainer.fit(data.validation_dataloader,N_EPOCHS, live_plot = LIVE_PLOT,save_checkpoint = SAVE_CHECKPOINT,PATH = weights_path)"
   ]
  },
  {
   "cell_type": "code",
   "execution_count": null,
   "metadata": {},
   "outputs": [],
   "source": []
  },
  {
   "cell_type": "code",
   "execution_count": null,
   "metadata": {},
   "outputs": [],
   "source": [
    "from uncertainty import metrics\n",
    "RC = metrics.selective_metrics(pre_model,data.test_dataloader)\n",
    "RC.add_uncs({'Trained Activation':model.Activation_Function})"
   ]
  },
  {
   "cell_type": "code",
   "execution_count": null,
   "metadata": {},
   "outputs": [],
   "source": [
    "RC.d_uncs['Trained Activation'] = -RC.d_uncs['Trained Activation'].view(-1)"
   ]
  },
  {
   "cell_type": "code",
   "execution_count": null,
   "metadata": {},
   "outputs": [],
   "source": [
    "RC.plot_RC()"
   ]
  },
  {
   "cell_type": "code",
   "execution_count": null,
   "metadata": {},
   "outputs": [],
   "source": [
    "model_trainer.hist_val.risk"
   ]
  },
  {
   "cell_type": "code",
   "execution_count": null,
   "metadata": {},
   "outputs": [],
   "source": []
  },
  {
   "cell_type": "code",
   "execution_count": null,
   "metadata": {},
   "outputs": [],
   "source": []
  }
 ],
 "metadata": {
  "kernelspec": {
   "display_name": "Python 3",
   "language": "python",
   "name": "python3"
  },
  "language_info": {
   "codemirror_mode": {
    "name": "ipython",
    "version": 3
   },
   "file_extension": ".py",
   "mimetype": "text/x-python",
   "name": "python",
   "nbconvert_exporter": "python",
   "pygments_lexer": "ipython3",
   "version": "3.8.8"
  },
  "vscode": {
   "interpreter": {
    "hash": "b8939ae6302d706547273c597dd3be7d36d3b4c2b9aa367c9a420125c13753bf"
   }
  }
 },
 "nbformat": 4,
 "nbformat_minor": 4
}

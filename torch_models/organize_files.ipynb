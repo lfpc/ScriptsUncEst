{
 "cells": [
  {
   "cell_type": "code",
   "execution_count": null,
   "metadata": {},
   "outputs": [],
   "source": [
    "import os\n",
    "REPOSITORY_PATH = r'/home/luis-felipe/UncEst'\n",
    "DATA_PATH = os.path.join(REPOSITORY_PATH,'data')\n",
    "#CORRUPTED_DATA_PATH = os.path.join(DATA_PATH,'corrupted')\n",
    "\n",
    "PATH_MODELS = os.path.join(REPOSITORY_PATH,'torch_models')\n",
    "PATH_TRAINER = os.path.join(PATH_MODELS,'trainer')"
   ]
  },
  {
   "cell_type": "code",
   "execution_count": null,
   "metadata": {},
   "outputs": [],
   "source": [
    "import os\n",
    "import numpy as np\n",
    "import torch\n",
    "from torch import nn\n",
    "import torch_data\n",
    "import NN_utils\n",
    "import torch.nn.functional as F\n",
    "from NN_utils import train_and_eval as TE\n",
    "import NN_models as models"
   ]
  },
  {
   "cell_type": "code",
   "execution_count": null,
   "metadata": {},
   "outputs": [],
   "source": [
    "# Define o computador utilizado como cuda (gpu) se existir ou cpu caso contrário\n",
    "print(torch.cuda.is_available())\n",
    "dev = torch.device('cuda') if torch.cuda.is_available() else torch.device('cpu')"
   ]
  },
  {
   "cell_type": "code",
   "execution_count": null,
   "metadata": {},
   "outputs": [],
   "source": [
    "MODEL_ARC = 'VGG_16'\n",
    "DATA = 'Cifar100'"
   ]
  },
  {
   "cell_type": "code",
   "execution_count": null,
   "metadata": {},
   "outputs": [],
   "source": [
    "mypath = os.path.join(PATH_MODELS,MODEL_ARC,DATA)\n",
    "data = data = torch_data.__dict__[DATA](data_dir = DATA_PATH,download = False)\n",
    "model_class = models.__dict__[MODEL_ARC]\n",
    "\n",
    "onlyfiles = [f for f in os.listdir(mypath) if os.path.isfile(os.path.join(mypath, f)) and f.endswith(\".pt\")]\n",
    "onlyfiles = sorted(onlyfiles)\n",
    "onlyfiles"
   ]
  },
  {
   "cell_type": "code",
   "execution_count": null,
   "metadata": {},
   "outputs": [],
   "source": [
    "NAME = MODEL_ARC +'_' + DATA \n",
    "def sort_by_acc(files,new_name_def = NAME, path = mypath):\n",
    "    ''' Salva os modelos em ordem de acurácia (modelo 0 é o com maior acurácia e etc)'''\n",
    "    model = model_class(num_classes = data.n_classes).to(dev)\n",
    "    d = {}\n",
    "    for s in files:\n",
    "        state_dict = torch.load(os.path.join(mypath,s))\n",
    "        model.load_state_dict(state_dict)\n",
    "        model.eval()\n",
    "        acc = TE.model_acc(model,data.test_dataloader)\n",
    "        d[s] = acc\n",
    "    d = dict(sorted(d.items(), key=lambda item: item[1],reverse=True))\n",
    "    for i,s in enumerate(d):\n",
    "        new_name = new_name_def + '_'+str(i)+'.pt'\n",
    "        if os.path.isfile(os.path.join(mypath,new_name)):\n",
    "            os.rename(os.path.join(mypath,new_name), os.path.join(mypath,new_name+'y'))\n",
    "            d[new_name] += 'y'\n",
    "        os.rename(os.path.join(mypath,s), os.path.join(mypath,new_name))\n"
   ]
  },
  {
   "cell_type": "code",
   "execution_count": null,
   "metadata": {},
   "outputs": [],
   "source": [
    "with open(os.path.join(mypath,\"models_results.txt\"), \"w\") as text_file:\n",
    "    '''Salva txt com acurácias de cada um'''\n",
    "    model = model_class(num_classes = data.n_classes).to(dev)\n",
    "    for s in onlyfiles:\n",
    "        print(s)\n",
    "        state_dict = torch.load(os.path.join(mypath,s))\n",
    "        \n",
    "        model.load_state_dict(state_dict)\n",
    "        model.eval()\n",
    "        acc = TE.model_acc(model,data.test_dataloader)\n",
    "        print(f\"Acurácia: {acc}\")\n",
    "        print(f\"Acurácia de {s}: {acc}\", file=text_file)"
   ]
  },
  {
   "cell_type": "code",
   "execution_count": null,
   "metadata": {},
   "outputs": [],
   "source": [
    "from collections import OrderedDict\n",
    "\n",
    "if False:\n",
    "    '''Alguns modelos foram treinados com a arquitetura antiga com o nome  diferente em algumas camadas'''\n",
    "    for s in onlyfiles:\n",
    "        state_dict = torch.load(os.path.join(mypath,s))\n",
    "        state_dict = OrderedDict((\"classifier_layer.weight\" if k == 'classifier_layer.0.weight' else k, v) for k, v in state_dict.items())\n",
    "        state_dict = OrderedDict((\"classifier_layer.bias\" if k == 'classifier_layer.0.bias' else k, v) for k, v in state_dict.items())\n",
    "        torch.save(state_dict,os.path.join(mypath,s))"
   ]
  }
 ],
 "metadata": {
  "kernelspec": {
   "display_name": "Python 3.9.12 ('base')",
   "language": "python",
   "name": "python3"
  },
  "language_info": {
   "name": "python",
   "version": "3.9.12"
  },
  "orig_nbformat": 4,
  "vscode": {
   "interpreter": {
    "hash": "b8939ae6302d706547273c597dd3be7d36d3b4c2b9aa367c9a420125c13753bf"
   }
  }
 },
 "nbformat": 4,
 "nbformat_minor": 2
}
